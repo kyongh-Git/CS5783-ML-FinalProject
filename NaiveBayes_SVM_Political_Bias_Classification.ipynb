{
  "nbformat": 4,
  "nbformat_minor": 0,
  "metadata": {
    "colab": {
      "provenance": []
    },
    "kernelspec": {
      "name": "python3",
      "display_name": "Python 3"
    },
    "language_info": {
      "name": "python"
    },
    "gpuClass": "standard"
  },
  "cells": [
    {
      "cell_type": "code",
      "source": [
        "# A dependency of the preprocessing for BERT inputs\n",
        "!pip install -U tensorflow-text==2.9\n",
        "!pip install -q tf-models-official==2.7.0"
      ],
      "metadata": {
        "colab": {
          "base_uri": "https://localhost:8080/"
        },
        "id": "Q4l6iWtf616D",
        "outputId": "db35333f-ee5e-4817-ed1a-ad1315f85556"
      },
      "execution_count": null,
      "outputs": [
        {
          "output_type": "stream",
          "name": "stdout",
          "text": [
            "Looking in indexes: https://pypi.org/simple, https://us-python.pkg.dev/colab-wheels/public/simple/\n",
            "Collecting tensorflow-text==2.9\n",
            "  Downloading tensorflow_text-2.9.0-cp38-cp38-manylinux_2_17_x86_64.manylinux2014_x86_64.whl (4.6 MB)\n",
            "\u001b[K     |████████████████████████████████| 4.6 MB 6.5 MB/s \n",
            "\u001b[?25hRequirement already satisfied: tensorflow-hub>=0.8.0 in /usr/local/lib/python3.8/dist-packages (from tensorflow-text==2.9) (0.12.0)\n",
            "Requirement already satisfied: tensorflow<2.10,>=2.9.0 in /usr/local/lib/python3.8/dist-packages (from tensorflow-text==2.9) (2.9.2)\n",
            "Requirement already satisfied: grpcio<2.0,>=1.24.3 in /usr/local/lib/python3.8/dist-packages (from tensorflow<2.10,>=2.9.0->tensorflow-text==2.9) (1.50.0)\n",
            "Requirement already satisfied: keras-preprocessing>=1.1.1 in /usr/local/lib/python3.8/dist-packages (from tensorflow<2.10,>=2.9.0->tensorflow-text==2.9) (1.1.2)\n",
            "Requirement already satisfied: typing-extensions>=3.6.6 in /usr/local/lib/python3.8/dist-packages (from tensorflow<2.10,>=2.9.0->tensorflow-text==2.9) (4.1.1)\n",
            "Requirement already satisfied: gast<=0.4.0,>=0.2.1 in /usr/local/lib/python3.8/dist-packages (from tensorflow<2.10,>=2.9.0->tensorflow-text==2.9) (0.4.0)\n",
            "Requirement already satisfied: protobuf<3.20,>=3.9.2 in /usr/local/lib/python3.8/dist-packages (from tensorflow<2.10,>=2.9.0->tensorflow-text==2.9) (3.19.6)\n",
            "Requirement already satisfied: libclang>=13.0.0 in /usr/local/lib/python3.8/dist-packages (from tensorflow<2.10,>=2.9.0->tensorflow-text==2.9) (14.0.6)\n",
            "Requirement already satisfied: packaging in /usr/local/lib/python3.8/dist-packages (from tensorflow<2.10,>=2.9.0->tensorflow-text==2.9) (21.3)\n",
            "Requirement already satisfied: absl-py>=1.0.0 in /usr/local/lib/python3.8/dist-packages (from tensorflow<2.10,>=2.9.0->tensorflow-text==2.9) (1.3.0)\n",
            "Requirement already satisfied: tensorflow-estimator<2.10.0,>=2.9.0rc0 in /usr/local/lib/python3.8/dist-packages (from tensorflow<2.10,>=2.9.0->tensorflow-text==2.9) (2.9.0)\n",
            "Requirement already satisfied: tensorflow-io-gcs-filesystem>=0.23.1 in /usr/local/lib/python3.8/dist-packages (from tensorflow<2.10,>=2.9.0->tensorflow-text==2.9) (0.28.0)\n",
            "Requirement already satisfied: setuptools in /usr/local/lib/python3.8/dist-packages (from tensorflow<2.10,>=2.9.0->tensorflow-text==2.9) (57.4.0)\n",
            "Requirement already satisfied: google-pasta>=0.1.1 in /usr/local/lib/python3.8/dist-packages (from tensorflow<2.10,>=2.9.0->tensorflow-text==2.9) (0.2.0)\n",
            "Requirement already satisfied: flatbuffers<2,>=1.12 in /usr/local/lib/python3.8/dist-packages (from tensorflow<2.10,>=2.9.0->tensorflow-text==2.9) (1.12)\n",
            "Requirement already satisfied: termcolor>=1.1.0 in /usr/local/lib/python3.8/dist-packages (from tensorflow<2.10,>=2.9.0->tensorflow-text==2.9) (2.1.1)\n",
            "Requirement already satisfied: astunparse>=1.6.0 in /usr/local/lib/python3.8/dist-packages (from tensorflow<2.10,>=2.9.0->tensorflow-text==2.9) (1.6.3)\n",
            "Requirement already satisfied: numpy>=1.20 in /usr/local/lib/python3.8/dist-packages (from tensorflow<2.10,>=2.9.0->tensorflow-text==2.9) (1.21.6)\n",
            "Requirement already satisfied: keras<2.10.0,>=2.9.0rc0 in /usr/local/lib/python3.8/dist-packages (from tensorflow<2.10,>=2.9.0->tensorflow-text==2.9) (2.9.0)\n",
            "Requirement already satisfied: opt-einsum>=2.3.2 in /usr/local/lib/python3.8/dist-packages (from tensorflow<2.10,>=2.9.0->tensorflow-text==2.9) (3.3.0)\n",
            "Requirement already satisfied: wrapt>=1.11.0 in /usr/local/lib/python3.8/dist-packages (from tensorflow<2.10,>=2.9.0->tensorflow-text==2.9) (1.14.1)\n",
            "Requirement already satisfied: six>=1.12.0 in /usr/local/lib/python3.8/dist-packages (from tensorflow<2.10,>=2.9.0->tensorflow-text==2.9) (1.15.0)\n",
            "Requirement already satisfied: h5py>=2.9.0 in /usr/local/lib/python3.8/dist-packages (from tensorflow<2.10,>=2.9.0->tensorflow-text==2.9) (3.1.0)\n",
            "Requirement already satisfied: tensorboard<2.10,>=2.9 in /usr/local/lib/python3.8/dist-packages (from tensorflow<2.10,>=2.9.0->tensorflow-text==2.9) (2.9.1)\n",
            "Requirement already satisfied: wheel<1.0,>=0.23.0 in /usr/local/lib/python3.8/dist-packages (from astunparse>=1.6.0->tensorflow<2.10,>=2.9.0->tensorflow-text==2.9) (0.38.4)\n",
            "Requirement already satisfied: markdown>=2.6.8 in /usr/local/lib/python3.8/dist-packages (from tensorboard<2.10,>=2.9->tensorflow<2.10,>=2.9.0->tensorflow-text==2.9) (3.4.1)\n",
            "Requirement already satisfied: google-auth-oauthlib<0.5,>=0.4.1 in /usr/local/lib/python3.8/dist-packages (from tensorboard<2.10,>=2.9->tensorflow<2.10,>=2.9.0->tensorflow-text==2.9) (0.4.6)\n",
            "Requirement already satisfied: tensorboard-data-server<0.7.0,>=0.6.0 in /usr/local/lib/python3.8/dist-packages (from tensorboard<2.10,>=2.9->tensorflow<2.10,>=2.9.0->tensorflow-text==2.9) (0.6.1)\n",
            "Requirement already satisfied: tensorboard-plugin-wit>=1.6.0 in /usr/local/lib/python3.8/dist-packages (from tensorboard<2.10,>=2.9->tensorflow<2.10,>=2.9.0->tensorflow-text==2.9) (1.8.1)\n",
            "Requirement already satisfied: werkzeug>=1.0.1 in /usr/local/lib/python3.8/dist-packages (from tensorboard<2.10,>=2.9->tensorflow<2.10,>=2.9.0->tensorflow-text==2.9) (1.0.1)\n",
            "Requirement already satisfied: google-auth<3,>=1.6.3 in /usr/local/lib/python3.8/dist-packages (from tensorboard<2.10,>=2.9->tensorflow<2.10,>=2.9.0->tensorflow-text==2.9) (2.14.1)\n",
            "Requirement already satisfied: requests<3,>=2.21.0 in /usr/local/lib/python3.8/dist-packages (from tensorboard<2.10,>=2.9->tensorflow<2.10,>=2.9.0->tensorflow-text==2.9) (2.23.0)\n",
            "Requirement already satisfied: pyasn1-modules>=0.2.1 in /usr/local/lib/python3.8/dist-packages (from google-auth<3,>=1.6.3->tensorboard<2.10,>=2.9->tensorflow<2.10,>=2.9.0->tensorflow-text==2.9) (0.2.8)\n",
            "Requirement already satisfied: cachetools<6.0,>=2.0.0 in /usr/local/lib/python3.8/dist-packages (from google-auth<3,>=1.6.3->tensorboard<2.10,>=2.9->tensorflow<2.10,>=2.9.0->tensorflow-text==2.9) (5.2.0)\n",
            "Requirement already satisfied: rsa<5,>=3.1.4 in /usr/local/lib/python3.8/dist-packages (from google-auth<3,>=1.6.3->tensorboard<2.10,>=2.9->tensorflow<2.10,>=2.9.0->tensorflow-text==2.9) (4.9)\n",
            "Requirement already satisfied: requests-oauthlib>=0.7.0 in /usr/local/lib/python3.8/dist-packages (from google-auth-oauthlib<0.5,>=0.4.1->tensorboard<2.10,>=2.9->tensorflow<2.10,>=2.9.0->tensorflow-text==2.9) (1.3.1)\n",
            "Requirement already satisfied: importlib-metadata>=4.4 in /usr/local/lib/python3.8/dist-packages (from markdown>=2.6.8->tensorboard<2.10,>=2.9->tensorflow<2.10,>=2.9.0->tensorflow-text==2.9) (4.13.0)\n",
            "Requirement already satisfied: zipp>=0.5 in /usr/local/lib/python3.8/dist-packages (from importlib-metadata>=4.4->markdown>=2.6.8->tensorboard<2.10,>=2.9->tensorflow<2.10,>=2.9.0->tensorflow-text==2.9) (3.10.0)\n",
            "Requirement already satisfied: pyasn1<0.5.0,>=0.4.6 in /usr/local/lib/python3.8/dist-packages (from pyasn1-modules>=0.2.1->google-auth<3,>=1.6.3->tensorboard<2.10,>=2.9->tensorflow<2.10,>=2.9.0->tensorflow-text==2.9) (0.4.8)\n",
            "Requirement already satisfied: chardet<4,>=3.0.2 in /usr/local/lib/python3.8/dist-packages (from requests<3,>=2.21.0->tensorboard<2.10,>=2.9->tensorflow<2.10,>=2.9.0->tensorflow-text==2.9) (3.0.4)\n",
            "Requirement already satisfied: certifi>=2017.4.17 in /usr/local/lib/python3.8/dist-packages (from requests<3,>=2.21.0->tensorboard<2.10,>=2.9->tensorflow<2.10,>=2.9.0->tensorflow-text==2.9) (2022.9.24)\n",
            "Requirement already satisfied: idna<3,>=2.5 in /usr/local/lib/python3.8/dist-packages (from requests<3,>=2.21.0->tensorboard<2.10,>=2.9->tensorflow<2.10,>=2.9.0->tensorflow-text==2.9) (2.10)\n",
            "Requirement already satisfied: urllib3!=1.25.0,!=1.25.1,<1.26,>=1.21.1 in /usr/local/lib/python3.8/dist-packages (from requests<3,>=2.21.0->tensorboard<2.10,>=2.9->tensorflow<2.10,>=2.9.0->tensorflow-text==2.9) (1.24.3)\n",
            "Requirement already satisfied: oauthlib>=3.0.0 in /usr/local/lib/python3.8/dist-packages (from requests-oauthlib>=0.7.0->google-auth-oauthlib<0.5,>=0.4.1->tensorboard<2.10,>=2.9->tensorflow<2.10,>=2.9.0->tensorflow-text==2.9) (3.2.2)\n",
            "Requirement already satisfied: pyparsing!=3.0.5,>=2.0.2 in /usr/local/lib/python3.8/dist-packages (from packaging->tensorflow<2.10,>=2.9.0->tensorflow-text==2.9) (3.0.9)\n",
            "Installing collected packages: tensorflow-text\n",
            "Successfully installed tensorflow-text-2.9.0\n",
            "\u001b[K     |████████████████████████████████| 1.8 MB 6.8 MB/s \n",
            "\u001b[K     |████████████████████████████████| 352 kB 48.8 MB/s \n",
            "\u001b[K     |████████████████████████████████| 1.1 MB 14.2 MB/s \n",
            "\u001b[K     |████████████████████████████████| 238 kB 7.7 MB/s \n",
            "\u001b[K     |████████████████████████████████| 1.3 MB 18.7 MB/s \n",
            "\u001b[K     |████████████████████████████████| 118 kB 14.2 MB/s \n",
            "\u001b[K     |████████████████████████████████| 43 kB 574 kB/s \n",
            "\u001b[?25h  Building wheel for seqeval (setup.py) ... \u001b[?25l\u001b[?25hdone\n"
          ]
        }
      ]
    },
    {
      "cell_type": "code",
      "execution_count": null,
      "metadata": {
        "id": "hRwy6hZ0CMmf",
        "colab": {
          "base_uri": "https://localhost:8080/",
          "height": 17
        },
        "outputId": "04d7dab1-8d1a-40bb-83ee-2236ba989e9e"
      },
      "outputs": [
        {
          "output_type": "display_data",
          "data": {
            "text/html": [
              "        <script type=\"text/javascript\">\n",
              "        window.PlotlyConfig = {MathJaxConfig: 'local'};\n",
              "        if (window.MathJax) {MathJax.Hub.Config({SVG: {font: \"STIX-Web\"}});}\n",
              "        if (typeof require !== 'undefined') {\n",
              "        require.undef(\"plotly\");\n",
              "        requirejs.config({\n",
              "            paths: {\n",
              "                'plotly': ['https://cdn.plot.ly/plotly-2.8.3.min']\n",
              "            }\n",
              "        });\n",
              "        require(['plotly'], function(Plotly) {\n",
              "            window._Plotly = Plotly;\n",
              "        });\n",
              "        }\n",
              "        </script>\n",
              "        "
            ]
          },
          "metadata": {}
        }
      ],
      "source": [
        "import os\n",
        "import shutil\n",
        "\n",
        "import json\n",
        "\n",
        "from datetime import datetime\n",
        "from packaging import version\n",
        "\n",
        "import tensorflow as tf\n",
        "from tensorflow import keras\n",
        "import tensorflow_hub as hub\n",
        "import tensorflow_text as text\n",
        "from official.nlp import optimization \n",
        "\n",
        "import tensorboard\n",
        "import matplotlib.pyplot as plt\n",
        "\n",
        "import numpy as np\n",
        "import matplotlib.pyplot as plt\n",
        "import pandas as pd\n",
        "\n",
        "from sklearn.model_selection import train_test_split\n",
        "from sklearn.feature_extraction.text import CountVectorizer\n",
        "from sklearn.feature_extraction.text import TfidfVectorizer\n",
        "from sklearn.pipeline import make_pipeline\n",
        "import sklearn.naive_bayes as nv\n",
        "from sklearn import metrics\n",
        "import seaborn as sns; sns.set()\n",
        "\n",
        "from sklearn.neighbors import KNeighborsClassifier\n",
        "\n",
        "from imblearn.over_sampling import SMOTE\n",
        "from imblearn.under_sampling import RandomUnderSampler\n",
        "\n",
        "from sklearn import svm\n",
        "\n",
        "import gc\n",
        "from scipy import ndimage\n",
        "from subprocess import check_output\n",
        "import cv2\n",
        "pal = sns.color_palette()\n",
        "\n",
        "import plotly.offline as py\n",
        "py.init_notebook_mode(connected=True)\n",
        "import plotly.graph_objs as go\n",
        "import plotly.tools as tls\n",
        "\n",
        "import re\n",
        "import nltk\n",
        "from nltk.corpus import stopwords"
      ]
    },
    {
      "cell_type": "code",
      "source": [
        "print(tf. __version__)"
      ],
      "metadata": {
        "colab": {
          "base_uri": "https://localhost:8080/"
        },
        "id": "8ogBrQQm-XRO",
        "outputId": "2baf158c-56ec-422c-ea16-0306e61d0f38"
      },
      "execution_count": null,
      "outputs": [
        {
          "output_type": "stream",
          "name": "stdout",
          "text": [
            "2.9.2\n"
          ]
        }
      ]
    },
    {
      "cell_type": "code",
      "source": [
        "from google.colab import drive\n",
        "drive.mount('/content/drive')"
      ],
      "metadata": {
        "colab": {
          "base_uri": "https://localhost:8080/"
        },
        "id": "jT7yZ251C1m1",
        "outputId": "9cde9812-e823-48b2-8364-85ec30958737"
      },
      "execution_count": null,
      "outputs": [
        {
          "output_type": "stream",
          "name": "stdout",
          "text": [
            "Mounted at /content/drive\n"
          ]
        }
      ]
    },
    {
      "cell_type": "code",
      "source": [
        "# input data Directory\n",
        "# input_file_dir = '/content/drive/MyDrive/Colab Notebooks/ML Assignments/Project/finalMergedData.json'\n",
        "input_file_dir = '/content/drive/MyDrive/finalMergedData.json'"
      ],
      "metadata": {
        "id": "vwNL6kEwC4Q2"
      },
      "execution_count": null,
      "outputs": []
    },
    {
      "cell_type": "code",
      "source": [
        "# import json file as dataframe\n",
        "df = pd.read_json(input_file_dir)\n",
        "df.info()\n",
        "print(df.describe)"
      ],
      "metadata": {
        "colab": {
          "base_uri": "https://localhost:8080/"
        },
        "id": "nG7RgUvfDqmz",
        "outputId": "ffbeb504-a7a0-417e-d835-fc6e2762c182"
      },
      "execution_count": null,
      "outputs": [
        {
          "output_type": "stream",
          "name": "stdout",
          "text": [
            "<class 'pandas.core.frame.DataFrame'>\n",
            "RangeIndex: 50906 entries, 0 to 50905\n",
            "Data columns (total 9 columns):\n",
            " #   Column      Non-Null Count  Dtype \n",
            "---  ------      --------------  ----- \n",
            " 0   topic       50906 non-null  object\n",
            " 1   source      50906 non-null  object\n",
            " 2   url         50906 non-null  object\n",
            " 3   title       50906 non-null  object\n",
            " 4   author      50906 non-null  object\n",
            " 5   date        50906 non-null  object\n",
            " 6   content     50906 non-null  object\n",
            " 7   source_url  50906 non-null  object\n",
            " 8   bias_text   50906 non-null  object\n",
            "dtypes: object(9)\n",
            "memory usage: 3.5+ MB\n",
            "<bound method NDFrame.describe of               topic                 source  \\\n",
            "0         elections               Townhall   \n",
            "1       white_house               Townhall   \n",
            "2       white_house  New York Times - News   \n",
            "3         elections        NPR Online News   \n",
            "4       white_house               BBC News   \n",
            "...             ...                    ...   \n",
            "50901      Politics              Roll Call   \n",
            "50902      Politics    Washington Examiner   \n",
            "50903      Politics        Washington Post   \n",
            "50904      Politics               Townhall   \n",
            "50905  General News        Washington Post   \n",
            "\n",
            "                                                     url  \\\n",
            "0      http://townhall.com/tipsheet/danieldoherty/201...   \n",
            "1      https://townhall.com/tipsheet/leahbarkoukis/20...   \n",
            "2      http://www.nytimes.com/politics/first-draft/20...   \n",
            "3      http://www.npr.org/2016/06/20/482779372/embatt...   \n",
            "4      https://www.bbc.com/news/world-us-canada-46133268   \n",
            "...                                                  ...   \n",
            "50901  http://www.rollcall.com/news/10-house-republic...   \n",
            "50902  https://www.washingtonexaminer.com/policy/ener...   \n",
            "50903  http://www.washingtonpost.com/blogs/post-polit...   \n",
            "50904  http://townhall.com/tipsheet/katiepavlich/2014...   \n",
            "50905  http://www.washingtonpost.com/politics/the-oba...   \n",
            "\n",
            "                                                   title  \\\n",
            "0      Poll: Nearly 6 in 10 Republicans Hope Romney Runs   \n",
            "1                    Trump's Most Popular Tweets of 2018   \n",
            "2      For Secret Service Chief, Revelations Could Th...   \n",
            "3                   Embattled Trump Campaign Manager Out   \n",
            "4      White House suspends credentials for CNN's Jim...   \n",
            "...                                                  ...   \n",
            "50901  10 House Republicans cross aisle to support en...   \n",
            "50902  Dems fail to win over more Republicans in push...   \n",
            "50903  House Democrats protest structure of proposed ...   \n",
            "50904  Democrats Prepare to Throw Temper Tantrums Ove...   \n",
            "50905  In Christmas message, Obamas urge Americans to...   \n",
            "\n",
            "                                                  author        date  \\\n",
            "0      Daniel Doherty, Katie Pavlich, Julio Rosas, \"C...  2015-01-20   \n",
            "1      Leah Barkoukis, Matt Vespa, Julio Rosas, Katie...  2019-01-01   \n",
            "2                                       David Streitfeld  2014-09-30   \n",
            "3                         Jessica Taylor, Sarah Mccammon  2016-06-20   \n",
            "4                                                                      \n",
            "...                                                  ...         ...   \n",
            "50901                                                 []  01/11/2019   \n",
            "50902                                                 []  01/11/2019   \n",
            "50903                                    [Wesley Lowery]  05/07/2014   \n",
            "50904  [Katie Pavlich, Julio Rosas, Kurt Schlichter, ...  05/07/2014   \n",
            "50905  [Philip Rucker, Deputy National Editor, Decemb...  12/25/2013   \n",
            "\n",
            "                                                 content  \\\n",
            "0      By a two-to-one margin, respondents who partic...   \n",
            "1      President Trump loves to tweet as a way to dir...   \n",
            "2      For Secret Service Chief, Revelations Could Th...   \n",
            "3      Trump Ousts Embattled Campaign Manager\\n\\nEnla...   \n",
            "4      Media playback is unsupported on your device M...   \n",
            "...                                                  ...   \n",
            "50901  The House voted 240-179 on Friday to pass a fi...   \n",
            "50902  The Democratic leadership on Friday failed to ...   \n",
            "50903  Gift Article Share\\n\\nUpdated at 10 a.m. Top H...   \n",
            "50904  Late yesterday House Speaker John Boehner anno...   \n",
            "50905  President Obama and first lady Michelle Obama ...   \n",
            "\n",
            "                       source_url   bias_text  \n",
            "0                www.townhall.com       right  \n",
            "1                www.townhall.com       right  \n",
            "2                 www.nytimes.com        left  \n",
            "3                     www.npr.org      center  \n",
            "4                     www.bbc.com      center  \n",
            "...                           ...         ...  \n",
            "50901            www.rollcall.com      Center  \n",
            "50902  www.washingtonexaminer.com  Lean Right  \n",
            "50903      www.washingtonpost.com   Lean Left  \n",
            "50904                townhall.com       Right  \n",
            "50905      www.washingtonpost.com   Lean Left  \n",
            "\n",
            "[50906 rows x 9 columns]>\n"
          ]
        }
      ]
    },
    {
      "cell_type": "code",
      "source": [
        "df.head()"
      ],
      "metadata": {
        "colab": {
          "base_uri": "https://localhost:8080/",
          "height": 337
        },
        "id": "WRjdwK7U6fNY",
        "outputId": "be9a3675-40ca-41d2-91d3-3d1da1a21f29"
      },
      "execution_count": null,
      "outputs": [
        {
          "output_type": "execute_result",
          "data": {
            "text/plain": [
              "         topic                 source  \\\n",
              "0    elections               Townhall   \n",
              "1  white_house               Townhall   \n",
              "2  white_house  New York Times - News   \n",
              "3    elections        NPR Online News   \n",
              "4  white_house               BBC News   \n",
              "\n",
              "                                                 url  \\\n",
              "0  http://townhall.com/tipsheet/danieldoherty/201...   \n",
              "1  https://townhall.com/tipsheet/leahbarkoukis/20...   \n",
              "2  http://www.nytimes.com/politics/first-draft/20...   \n",
              "3  http://www.npr.org/2016/06/20/482779372/embatt...   \n",
              "4  https://www.bbc.com/news/world-us-canada-46133268   \n",
              "\n",
              "                                               title  \\\n",
              "0  Poll: Nearly 6 in 10 Republicans Hope Romney Runs   \n",
              "1                Trump's Most Popular Tweets of 2018   \n",
              "2  For Secret Service Chief, Revelations Could Th...   \n",
              "3               Embattled Trump Campaign Manager Out   \n",
              "4  White House suspends credentials for CNN's Jim...   \n",
              "\n",
              "                                              author        date  \\\n",
              "0  Daniel Doherty, Katie Pavlich, Julio Rosas, \"C...  2015-01-20   \n",
              "1  Leah Barkoukis, Matt Vespa, Julio Rosas, Katie...  2019-01-01   \n",
              "2                                   David Streitfeld  2014-09-30   \n",
              "3                     Jessica Taylor, Sarah Mccammon  2016-06-20   \n",
              "4                                                                  \n",
              "\n",
              "                                             content        source_url  \\\n",
              "0  By a two-to-one margin, respondents who partic...  www.townhall.com   \n",
              "1  President Trump loves to tweet as a way to dir...  www.townhall.com   \n",
              "2  For Secret Service Chief, Revelations Could Th...   www.nytimes.com   \n",
              "3  Trump Ousts Embattled Campaign Manager\\n\\nEnla...       www.npr.org   \n",
              "4  Media playback is unsupported on your device M...       www.bbc.com   \n",
              "\n",
              "  bias_text  \n",
              "0     right  \n",
              "1     right  \n",
              "2      left  \n",
              "3    center  \n",
              "4    center  "
            ],
            "text/html": [
              "\n",
              "  <div id=\"df-89c07249-9b09-4590-baf9-9cf837da9c8d\">\n",
              "    <div class=\"colab-df-container\">\n",
              "      <div>\n",
              "<style scoped>\n",
              "    .dataframe tbody tr th:only-of-type {\n",
              "        vertical-align: middle;\n",
              "    }\n",
              "\n",
              "    .dataframe tbody tr th {\n",
              "        vertical-align: top;\n",
              "    }\n",
              "\n",
              "    .dataframe thead th {\n",
              "        text-align: right;\n",
              "    }\n",
              "</style>\n",
              "<table border=\"1\" class=\"dataframe\">\n",
              "  <thead>\n",
              "    <tr style=\"text-align: right;\">\n",
              "      <th></th>\n",
              "      <th>topic</th>\n",
              "      <th>source</th>\n",
              "      <th>url</th>\n",
              "      <th>title</th>\n",
              "      <th>author</th>\n",
              "      <th>date</th>\n",
              "      <th>content</th>\n",
              "      <th>source_url</th>\n",
              "      <th>bias_text</th>\n",
              "    </tr>\n",
              "  </thead>\n",
              "  <tbody>\n",
              "    <tr>\n",
              "      <th>0</th>\n",
              "      <td>elections</td>\n",
              "      <td>Townhall</td>\n",
              "      <td>http://townhall.com/tipsheet/danieldoherty/201...</td>\n",
              "      <td>Poll: Nearly 6 in 10 Republicans Hope Romney Runs</td>\n",
              "      <td>Daniel Doherty, Katie Pavlich, Julio Rosas, \"C...</td>\n",
              "      <td>2015-01-20</td>\n",
              "      <td>By a two-to-one margin, respondents who partic...</td>\n",
              "      <td>www.townhall.com</td>\n",
              "      <td>right</td>\n",
              "    </tr>\n",
              "    <tr>\n",
              "      <th>1</th>\n",
              "      <td>white_house</td>\n",
              "      <td>Townhall</td>\n",
              "      <td>https://townhall.com/tipsheet/leahbarkoukis/20...</td>\n",
              "      <td>Trump's Most Popular Tweets of 2018</td>\n",
              "      <td>Leah Barkoukis, Matt Vespa, Julio Rosas, Katie...</td>\n",
              "      <td>2019-01-01</td>\n",
              "      <td>President Trump loves to tweet as a way to dir...</td>\n",
              "      <td>www.townhall.com</td>\n",
              "      <td>right</td>\n",
              "    </tr>\n",
              "    <tr>\n",
              "      <th>2</th>\n",
              "      <td>white_house</td>\n",
              "      <td>New York Times - News</td>\n",
              "      <td>http://www.nytimes.com/politics/first-draft/20...</td>\n",
              "      <td>For Secret Service Chief, Revelations Could Th...</td>\n",
              "      <td>David Streitfeld</td>\n",
              "      <td>2014-09-30</td>\n",
              "      <td>For Secret Service Chief, Revelations Could Th...</td>\n",
              "      <td>www.nytimes.com</td>\n",
              "      <td>left</td>\n",
              "    </tr>\n",
              "    <tr>\n",
              "      <th>3</th>\n",
              "      <td>elections</td>\n",
              "      <td>NPR Online News</td>\n",
              "      <td>http://www.npr.org/2016/06/20/482779372/embatt...</td>\n",
              "      <td>Embattled Trump Campaign Manager Out</td>\n",
              "      <td>Jessica Taylor, Sarah Mccammon</td>\n",
              "      <td>2016-06-20</td>\n",
              "      <td>Trump Ousts Embattled Campaign Manager\\n\\nEnla...</td>\n",
              "      <td>www.npr.org</td>\n",
              "      <td>center</td>\n",
              "    </tr>\n",
              "    <tr>\n",
              "      <th>4</th>\n",
              "      <td>white_house</td>\n",
              "      <td>BBC News</td>\n",
              "      <td>https://www.bbc.com/news/world-us-canada-46133268</td>\n",
              "      <td>White House suspends credentials for CNN's Jim...</td>\n",
              "      <td></td>\n",
              "      <td></td>\n",
              "      <td>Media playback is unsupported on your device M...</td>\n",
              "      <td>www.bbc.com</td>\n",
              "      <td>center</td>\n",
              "    </tr>\n",
              "  </tbody>\n",
              "</table>\n",
              "</div>\n",
              "      <button class=\"colab-df-convert\" onclick=\"convertToInteractive('df-89c07249-9b09-4590-baf9-9cf837da9c8d')\"\n",
              "              title=\"Convert this dataframe to an interactive table.\"\n",
              "              style=\"display:none;\">\n",
              "        \n",
              "  <svg xmlns=\"http://www.w3.org/2000/svg\" height=\"24px\"viewBox=\"0 0 24 24\"\n",
              "       width=\"24px\">\n",
              "    <path d=\"M0 0h24v24H0V0z\" fill=\"none\"/>\n",
              "    <path d=\"M18.56 5.44l.94 2.06.94-2.06 2.06-.94-2.06-.94-.94-2.06-.94 2.06-2.06.94zm-11 1L8.5 8.5l.94-2.06 2.06-.94-2.06-.94L8.5 2.5l-.94 2.06-2.06.94zm10 10l.94 2.06.94-2.06 2.06-.94-2.06-.94-.94-2.06-.94 2.06-2.06.94z\"/><path d=\"M17.41 7.96l-1.37-1.37c-.4-.4-.92-.59-1.43-.59-.52 0-1.04.2-1.43.59L10.3 9.45l-7.72 7.72c-.78.78-.78 2.05 0 2.83L4 21.41c.39.39.9.59 1.41.59.51 0 1.02-.2 1.41-.59l7.78-7.78 2.81-2.81c.8-.78.8-2.07 0-2.86zM5.41 20L4 18.59l7.72-7.72 1.47 1.35L5.41 20z\"/>\n",
              "  </svg>\n",
              "      </button>\n",
              "      \n",
              "  <style>\n",
              "    .colab-df-container {\n",
              "      display:flex;\n",
              "      flex-wrap:wrap;\n",
              "      gap: 12px;\n",
              "    }\n",
              "\n",
              "    .colab-df-convert {\n",
              "      background-color: #E8F0FE;\n",
              "      border: none;\n",
              "      border-radius: 50%;\n",
              "      cursor: pointer;\n",
              "      display: none;\n",
              "      fill: #1967D2;\n",
              "      height: 32px;\n",
              "      padding: 0 0 0 0;\n",
              "      width: 32px;\n",
              "    }\n",
              "\n",
              "    .colab-df-convert:hover {\n",
              "      background-color: #E2EBFA;\n",
              "      box-shadow: 0px 1px 2px rgba(60, 64, 67, 0.3), 0px 1px 3px 1px rgba(60, 64, 67, 0.15);\n",
              "      fill: #174EA6;\n",
              "    }\n",
              "\n",
              "    [theme=dark] .colab-df-convert {\n",
              "      background-color: #3B4455;\n",
              "      fill: #D2E3FC;\n",
              "    }\n",
              "\n",
              "    [theme=dark] .colab-df-convert:hover {\n",
              "      background-color: #434B5C;\n",
              "      box-shadow: 0px 1px 3px 1px rgba(0, 0, 0, 0.15);\n",
              "      filter: drop-shadow(0px 1px 2px rgba(0, 0, 0, 0.3));\n",
              "      fill: #FFFFFF;\n",
              "    }\n",
              "  </style>\n",
              "\n",
              "      <script>\n",
              "        const buttonEl =\n",
              "          document.querySelector('#df-89c07249-9b09-4590-baf9-9cf837da9c8d button.colab-df-convert');\n",
              "        buttonEl.style.display =\n",
              "          google.colab.kernel.accessAllowed ? 'block' : 'none';\n",
              "\n",
              "        async function convertToInteractive(key) {\n",
              "          const element = document.querySelector('#df-89c07249-9b09-4590-baf9-9cf837da9c8d');\n",
              "          const dataTable =\n",
              "            await google.colab.kernel.invokeFunction('convertToInteractive',\n",
              "                                                     [key], {});\n",
              "          if (!dataTable) return;\n",
              "\n",
              "          const docLinkHtml = 'Like what you see? Visit the ' +\n",
              "            '<a target=\"_blank\" href=https://colab.research.google.com/notebooks/data_table.ipynb>data table notebook</a>'\n",
              "            + ' to learn more about interactive tables.';\n",
              "          element.innerHTML = '';\n",
              "          dataTable['output_type'] = 'display_data';\n",
              "          await google.colab.output.renderOutput(dataTable, element);\n",
              "          const docLink = document.createElement('div');\n",
              "          docLink.innerHTML = docLinkHtml;\n",
              "          element.appendChild(docLink);\n",
              "        }\n",
              "      </script>\n",
              "    </div>\n",
              "  </div>\n",
              "  "
            ]
          },
          "metadata": {},
          "execution_count": 7
        }
      ]
    },
    {
      "cell_type": "code",
      "source": [
        "df.shape"
      ],
      "metadata": {
        "colab": {
          "base_uri": "https://localhost:8080/"
        },
        "id": "9gJgU1Fx6lfB",
        "outputId": "eb22845f-c6e7-487c-f9d0-b29c2f2237ef"
      },
      "execution_count": null,
      "outputs": [
        {
          "output_type": "execute_result",
          "data": {
            "text/plain": [
              "(50906, 9)"
            ]
          },
          "metadata": {},
          "execution_count": 8
        }
      ]
    },
    {
      "cell_type": "code",
      "source": [
        "# drop other columns except content (X) and bias_text (Y).\n",
        "nbdf = df.iloc[:,6:9].drop(columns='source_url')\n",
        "nbdf['bias_text'] = nbdf['bias_text'].str.capitalize()\n",
        "nbdf.head()"
      ],
      "metadata": {
        "colab": {
          "base_uri": "https://localhost:8080/",
          "height": 206
        },
        "id": "5uyZETkh6nn0",
        "outputId": "44710627-cff5-4ad4-e46f-fc0b5501209d"
      },
      "execution_count": null,
      "outputs": [
        {
          "output_type": "execute_result",
          "data": {
            "text/plain": [
              "                                             content bias_text\n",
              "0  By a two-to-one margin, respondents who partic...     Right\n",
              "1  President Trump loves to tweet as a way to dir...     Right\n",
              "2  For Secret Service Chief, Revelations Could Th...      Left\n",
              "3  Trump Ousts Embattled Campaign Manager\\n\\nEnla...    Center\n",
              "4  Media playback is unsupported on your device M...    Center"
            ],
            "text/html": [
              "\n",
              "  <div id=\"df-1b366b93-c4e3-4942-b0f9-fe3ada7a8c70\">\n",
              "    <div class=\"colab-df-container\">\n",
              "      <div>\n",
              "<style scoped>\n",
              "    .dataframe tbody tr th:only-of-type {\n",
              "        vertical-align: middle;\n",
              "    }\n",
              "\n",
              "    .dataframe tbody tr th {\n",
              "        vertical-align: top;\n",
              "    }\n",
              "\n",
              "    .dataframe thead th {\n",
              "        text-align: right;\n",
              "    }\n",
              "</style>\n",
              "<table border=\"1\" class=\"dataframe\">\n",
              "  <thead>\n",
              "    <tr style=\"text-align: right;\">\n",
              "      <th></th>\n",
              "      <th>content</th>\n",
              "      <th>bias_text</th>\n",
              "    </tr>\n",
              "  </thead>\n",
              "  <tbody>\n",
              "    <tr>\n",
              "      <th>0</th>\n",
              "      <td>By a two-to-one margin, respondents who partic...</td>\n",
              "      <td>Right</td>\n",
              "    </tr>\n",
              "    <tr>\n",
              "      <th>1</th>\n",
              "      <td>President Trump loves to tweet as a way to dir...</td>\n",
              "      <td>Right</td>\n",
              "    </tr>\n",
              "    <tr>\n",
              "      <th>2</th>\n",
              "      <td>For Secret Service Chief, Revelations Could Th...</td>\n",
              "      <td>Left</td>\n",
              "    </tr>\n",
              "    <tr>\n",
              "      <th>3</th>\n",
              "      <td>Trump Ousts Embattled Campaign Manager\\n\\nEnla...</td>\n",
              "      <td>Center</td>\n",
              "    </tr>\n",
              "    <tr>\n",
              "      <th>4</th>\n",
              "      <td>Media playback is unsupported on your device M...</td>\n",
              "      <td>Center</td>\n",
              "    </tr>\n",
              "  </tbody>\n",
              "</table>\n",
              "</div>\n",
              "      <button class=\"colab-df-convert\" onclick=\"convertToInteractive('df-1b366b93-c4e3-4942-b0f9-fe3ada7a8c70')\"\n",
              "              title=\"Convert this dataframe to an interactive table.\"\n",
              "              style=\"display:none;\">\n",
              "        \n",
              "  <svg xmlns=\"http://www.w3.org/2000/svg\" height=\"24px\"viewBox=\"0 0 24 24\"\n",
              "       width=\"24px\">\n",
              "    <path d=\"M0 0h24v24H0V0z\" fill=\"none\"/>\n",
              "    <path d=\"M18.56 5.44l.94 2.06.94-2.06 2.06-.94-2.06-.94-.94-2.06-.94 2.06-2.06.94zm-11 1L8.5 8.5l.94-2.06 2.06-.94-2.06-.94L8.5 2.5l-.94 2.06-2.06.94zm10 10l.94 2.06.94-2.06 2.06-.94-2.06-.94-.94-2.06-.94 2.06-2.06.94z\"/><path d=\"M17.41 7.96l-1.37-1.37c-.4-.4-.92-.59-1.43-.59-.52 0-1.04.2-1.43.59L10.3 9.45l-7.72 7.72c-.78.78-.78 2.05 0 2.83L4 21.41c.39.39.9.59 1.41.59.51 0 1.02-.2 1.41-.59l7.78-7.78 2.81-2.81c.8-.78.8-2.07 0-2.86zM5.41 20L4 18.59l7.72-7.72 1.47 1.35L5.41 20z\"/>\n",
              "  </svg>\n",
              "      </button>\n",
              "      \n",
              "  <style>\n",
              "    .colab-df-container {\n",
              "      display:flex;\n",
              "      flex-wrap:wrap;\n",
              "      gap: 12px;\n",
              "    }\n",
              "\n",
              "    .colab-df-convert {\n",
              "      background-color: #E8F0FE;\n",
              "      border: none;\n",
              "      border-radius: 50%;\n",
              "      cursor: pointer;\n",
              "      display: none;\n",
              "      fill: #1967D2;\n",
              "      height: 32px;\n",
              "      padding: 0 0 0 0;\n",
              "      width: 32px;\n",
              "    }\n",
              "\n",
              "    .colab-df-convert:hover {\n",
              "      background-color: #E2EBFA;\n",
              "      box-shadow: 0px 1px 2px rgba(60, 64, 67, 0.3), 0px 1px 3px 1px rgba(60, 64, 67, 0.15);\n",
              "      fill: #174EA6;\n",
              "    }\n",
              "\n",
              "    [theme=dark] .colab-df-convert {\n",
              "      background-color: #3B4455;\n",
              "      fill: #D2E3FC;\n",
              "    }\n",
              "\n",
              "    [theme=dark] .colab-df-convert:hover {\n",
              "      background-color: #434B5C;\n",
              "      box-shadow: 0px 1px 3px 1px rgba(0, 0, 0, 0.15);\n",
              "      filter: drop-shadow(0px 1px 2px rgba(0, 0, 0, 0.3));\n",
              "      fill: #FFFFFF;\n",
              "    }\n",
              "  </style>\n",
              "\n",
              "      <script>\n",
              "        const buttonEl =\n",
              "          document.querySelector('#df-1b366b93-c4e3-4942-b0f9-fe3ada7a8c70 button.colab-df-convert');\n",
              "        buttonEl.style.display =\n",
              "          google.colab.kernel.accessAllowed ? 'block' : 'none';\n",
              "\n",
              "        async function convertToInteractive(key) {\n",
              "          const element = document.querySelector('#df-1b366b93-c4e3-4942-b0f9-fe3ada7a8c70');\n",
              "          const dataTable =\n",
              "            await google.colab.kernel.invokeFunction('convertToInteractive',\n",
              "                                                     [key], {});\n",
              "          if (!dataTable) return;\n",
              "\n",
              "          const docLinkHtml = 'Like what you see? Visit the ' +\n",
              "            '<a target=\"_blank\" href=https://colab.research.google.com/notebooks/data_table.ipynb>data table notebook</a>'\n",
              "            + ' to learn more about interactive tables.';\n",
              "          element.innerHTML = '';\n",
              "          dataTable['output_type'] = 'display_data';\n",
              "          await google.colab.output.renderOutput(dataTable, element);\n",
              "          const docLink = document.createElement('div');\n",
              "          docLink.innerHTML = docLinkHtml;\n",
              "          element.appendChild(docLink);\n",
              "        }\n",
              "      </script>\n",
              "    </div>\n",
              "  </div>\n",
              "  "
            ]
          },
          "metadata": {},
          "execution_count": 9
        }
      ]
    },
    {
      "cell_type": "code",
      "source": [
        "# labels\n",
        "nbdf_labels = nbdf['bias_text'].unique()\n",
        "print(nbdf_labels)"
      ],
      "metadata": {
        "colab": {
          "base_uri": "https://localhost:8080/"
        },
        "id": "34niLaimLYf2",
        "outputId": "a482f25a-da71-4684-b502-6733e6e82526"
      },
      "execution_count": null,
      "outputs": [
        {
          "output_type": "stream",
          "name": "stdout",
          "text": [
            "['Right' 'Left' 'Center' 'Lean left' 'Lean right' 'Mixed'\n",
            " 'Political news media bias rating: not rated']\n"
          ]
        }
      ]
    },
    {
      "cell_type": "code",
      "source": [
        "# summary of bias_text\n",
        "nbdf.groupby('bias_text').describe()"
      ],
      "metadata": {
        "colab": {
          "base_uri": "https://localhost:8080/",
          "height": 332
        },
        "id": "eA8IYwaemWrv",
        "outputId": "f74f9ee0-956a-4545-aa09-e5340b22fc0a"
      },
      "execution_count": null,
      "outputs": [
        {
          "output_type": "execute_result",
          "data": {
            "text/plain": [
              "                                            content         \\\n",
              "                                              count unique   \n",
              "bias_text                                                    \n",
              "Center                                        12745  12691   \n",
              "Lean left                                      4795   4610   \n",
              "Lean right                                     2078   2043   \n",
              "Left                                          15098  14938   \n",
              "Mixed                                            57     57   \n",
              "Political news media bias rating: not rated      10      9   \n",
              "Right                                         16123  15600   \n",
              "\n",
              "                                                                                                \\\n",
              "                                                                                           top   \n",
              "bias_text                                                                                        \n",
              "Center                                       Biden's ability to reshape U.S. judiciary hang...   \n",
              "Lean left                                    Why did this happen?\\n\\nPlease make sure your ...   \n",
              "Lean right                                                                                       \n",
              "Left                                         The United Nations' weather agency says the st...   \n",
              "Mixed                                        From the Left\\n\\nThe left opposes the decision...   \n",
              "Political news media bias rating: not rated                                                      \n",
              "Right                                                                                            \n",
              "\n",
              "                                                  \n",
              "                                            freq  \n",
              "bias_text                                         \n",
              "Center                                        19  \n",
              "Lean left                                    118  \n",
              "Lean right                                    34  \n",
              "Left                                          79  \n",
              "Mixed                                          1  \n",
              "Political news media bias rating: not rated    2  \n",
              "Right                                        337  "
            ],
            "text/html": [
              "\n",
              "  <div id=\"df-efba0736-8398-47b7-9cb5-3ad09fbf79ed\">\n",
              "    <div class=\"colab-df-container\">\n",
              "      <div>\n",
              "<style scoped>\n",
              "    .dataframe tbody tr th:only-of-type {\n",
              "        vertical-align: middle;\n",
              "    }\n",
              "\n",
              "    .dataframe tbody tr th {\n",
              "        vertical-align: top;\n",
              "    }\n",
              "\n",
              "    .dataframe thead tr th {\n",
              "        text-align: left;\n",
              "    }\n",
              "\n",
              "    .dataframe thead tr:last-of-type th {\n",
              "        text-align: right;\n",
              "    }\n",
              "</style>\n",
              "<table border=\"1\" class=\"dataframe\">\n",
              "  <thead>\n",
              "    <tr>\n",
              "      <th></th>\n",
              "      <th colspan=\"4\" halign=\"left\">content</th>\n",
              "    </tr>\n",
              "    <tr>\n",
              "      <th></th>\n",
              "      <th>count</th>\n",
              "      <th>unique</th>\n",
              "      <th>top</th>\n",
              "      <th>freq</th>\n",
              "    </tr>\n",
              "    <tr>\n",
              "      <th>bias_text</th>\n",
              "      <th></th>\n",
              "      <th></th>\n",
              "      <th></th>\n",
              "      <th></th>\n",
              "    </tr>\n",
              "  </thead>\n",
              "  <tbody>\n",
              "    <tr>\n",
              "      <th>Center</th>\n",
              "      <td>12745</td>\n",
              "      <td>12691</td>\n",
              "      <td>Biden's ability to reshape U.S. judiciary hang...</td>\n",
              "      <td>19</td>\n",
              "    </tr>\n",
              "    <tr>\n",
              "      <th>Lean left</th>\n",
              "      <td>4795</td>\n",
              "      <td>4610</td>\n",
              "      <td>Why did this happen?\\n\\nPlease make sure your ...</td>\n",
              "      <td>118</td>\n",
              "    </tr>\n",
              "    <tr>\n",
              "      <th>Lean right</th>\n",
              "      <td>2078</td>\n",
              "      <td>2043</td>\n",
              "      <td></td>\n",
              "      <td>34</td>\n",
              "    </tr>\n",
              "    <tr>\n",
              "      <th>Left</th>\n",
              "      <td>15098</td>\n",
              "      <td>14938</td>\n",
              "      <td>The United Nations' weather agency says the st...</td>\n",
              "      <td>79</td>\n",
              "    </tr>\n",
              "    <tr>\n",
              "      <th>Mixed</th>\n",
              "      <td>57</td>\n",
              "      <td>57</td>\n",
              "      <td>From the Left\\n\\nThe left opposes the decision...</td>\n",
              "      <td>1</td>\n",
              "    </tr>\n",
              "    <tr>\n",
              "      <th>Political news media bias rating: not rated</th>\n",
              "      <td>10</td>\n",
              "      <td>9</td>\n",
              "      <td></td>\n",
              "      <td>2</td>\n",
              "    </tr>\n",
              "    <tr>\n",
              "      <th>Right</th>\n",
              "      <td>16123</td>\n",
              "      <td>15600</td>\n",
              "      <td></td>\n",
              "      <td>337</td>\n",
              "    </tr>\n",
              "  </tbody>\n",
              "</table>\n",
              "</div>\n",
              "      <button class=\"colab-df-convert\" onclick=\"convertToInteractive('df-efba0736-8398-47b7-9cb5-3ad09fbf79ed')\"\n",
              "              title=\"Convert this dataframe to an interactive table.\"\n",
              "              style=\"display:none;\">\n",
              "        \n",
              "  <svg xmlns=\"http://www.w3.org/2000/svg\" height=\"24px\"viewBox=\"0 0 24 24\"\n",
              "       width=\"24px\">\n",
              "    <path d=\"M0 0h24v24H0V0z\" fill=\"none\"/>\n",
              "    <path d=\"M18.56 5.44l.94 2.06.94-2.06 2.06-.94-2.06-.94-.94-2.06-.94 2.06-2.06.94zm-11 1L8.5 8.5l.94-2.06 2.06-.94-2.06-.94L8.5 2.5l-.94 2.06-2.06.94zm10 10l.94 2.06.94-2.06 2.06-.94-2.06-.94-.94-2.06-.94 2.06-2.06.94z\"/><path d=\"M17.41 7.96l-1.37-1.37c-.4-.4-.92-.59-1.43-.59-.52 0-1.04.2-1.43.59L10.3 9.45l-7.72 7.72c-.78.78-.78 2.05 0 2.83L4 21.41c.39.39.9.59 1.41.59.51 0 1.02-.2 1.41-.59l7.78-7.78 2.81-2.81c.8-.78.8-2.07 0-2.86zM5.41 20L4 18.59l7.72-7.72 1.47 1.35L5.41 20z\"/>\n",
              "  </svg>\n",
              "      </button>\n",
              "      \n",
              "  <style>\n",
              "    .colab-df-container {\n",
              "      display:flex;\n",
              "      flex-wrap:wrap;\n",
              "      gap: 12px;\n",
              "    }\n",
              "\n",
              "    .colab-df-convert {\n",
              "      background-color: #E8F0FE;\n",
              "      border: none;\n",
              "      border-radius: 50%;\n",
              "      cursor: pointer;\n",
              "      display: none;\n",
              "      fill: #1967D2;\n",
              "      height: 32px;\n",
              "      padding: 0 0 0 0;\n",
              "      width: 32px;\n",
              "    }\n",
              "\n",
              "    .colab-df-convert:hover {\n",
              "      background-color: #E2EBFA;\n",
              "      box-shadow: 0px 1px 2px rgba(60, 64, 67, 0.3), 0px 1px 3px 1px rgba(60, 64, 67, 0.15);\n",
              "      fill: #174EA6;\n",
              "    }\n",
              "\n",
              "    [theme=dark] .colab-df-convert {\n",
              "      background-color: #3B4455;\n",
              "      fill: #D2E3FC;\n",
              "    }\n",
              "\n",
              "    [theme=dark] .colab-df-convert:hover {\n",
              "      background-color: #434B5C;\n",
              "      box-shadow: 0px 1px 3px 1px rgba(0, 0, 0, 0.15);\n",
              "      filter: drop-shadow(0px 1px 2px rgba(0, 0, 0, 0.3));\n",
              "      fill: #FFFFFF;\n",
              "    }\n",
              "  </style>\n",
              "\n",
              "      <script>\n",
              "        const buttonEl =\n",
              "          document.querySelector('#df-efba0736-8398-47b7-9cb5-3ad09fbf79ed button.colab-df-convert');\n",
              "        buttonEl.style.display =\n",
              "          google.colab.kernel.accessAllowed ? 'block' : 'none';\n",
              "\n",
              "        async function convertToInteractive(key) {\n",
              "          const element = document.querySelector('#df-efba0736-8398-47b7-9cb5-3ad09fbf79ed');\n",
              "          const dataTable =\n",
              "            await google.colab.kernel.invokeFunction('convertToInteractive',\n",
              "                                                     [key], {});\n",
              "          if (!dataTable) return;\n",
              "\n",
              "          const docLinkHtml = 'Like what you see? Visit the ' +\n",
              "            '<a target=\"_blank\" href=https://colab.research.google.com/notebooks/data_table.ipynb>data table notebook</a>'\n",
              "            + ' to learn more about interactive tables.';\n",
              "          element.innerHTML = '';\n",
              "          dataTable['output_type'] = 'display_data';\n",
              "          await google.colab.output.renderOutput(dataTable, element);\n",
              "          const docLink = document.createElement('div');\n",
              "          docLink.innerHTML = docLinkHtml;\n",
              "          element.appendChild(docLink);\n",
              "        }\n",
              "      </script>\n",
              "    </div>\n",
              "  </div>\n",
              "  "
            ]
          },
          "metadata": {},
          "execution_count": 11
        }
      ]
    },
    {
      "cell_type": "code",
      "source": [
        "# drop categories that are not useful (Mixed, not rated, lean left, lean right)\n",
        "nbdf_filtered = nbdf[nbdf['bias_text'] != \"Political news media bias rating: not rated\"]  \n",
        "nbdf_filtered = nbdf_filtered[nbdf_filtered['bias_text'] != \"Mixed\"]\n",
        "nbdf_filtered = nbdf_filtered[nbdf_filtered['bias_text'] != \"Lean left\"]\n",
        "nbdf_filtered = nbdf_filtered[nbdf_filtered['bias_text'] != \"Lean right\"]\n",
        "nbdf_filtered = nbdf_filtered.drop_duplicates(subset=['content'], keep='first')\n",
        "nbdf_filtered = nbdf_filtered[(nbdf_filtered['content'] != \"\")]"
      ],
      "metadata": {
        "id": "UfIrLpkZHfmz"
      },
      "execution_count": null,
      "outputs": []
    },
    {
      "cell_type": "code",
      "source": [
        "# summary of Y\n",
        "nbdf_filterd_labels = nbdf_filtered['bias_text'].unique()\n",
        "print(nbdf_filterd_labels)"
      ],
      "metadata": {
        "colab": {
          "base_uri": "https://localhost:8080/"
        },
        "id": "2u5jzU2Ns-gh",
        "outputId": "8c3d59c3-65d7-4eb3-c3db-fcc49e4ed1c6"
      },
      "execution_count": null,
      "outputs": [
        {
          "output_type": "stream",
          "name": "stdout",
          "text": [
            "['Right' 'Left' 'Center']\n"
          ]
        }
      ]
    },
    {
      "cell_type": "code",
      "source": [
        "# Summary of Y without duplicate\n",
        "print(nbdf.shape)\n",
        "print(nbdf_filtered.shape)\n",
        "nbdf_filtered.groupby('bias_text').describe()"
      ],
      "metadata": {
        "colab": {
          "base_uri": "https://localhost:8080/",
          "height": 241
        },
        "id": "V-xCTnI765eS",
        "outputId": "70cbf9ca-63b2-4922-ba05-186547df14b7"
      },
      "execution_count": null,
      "outputs": [
        {
          "output_type": "stream",
          "name": "stdout",
          "text": [
            "(50906, 2)\n",
            "(43221, 2)\n"
          ]
        },
        {
          "output_type": "execute_result",
          "data": {
            "text/plain": [
              "          content                                                            \\\n",
              "            count unique                                                top   \n",
              "bias_text                                                                     \n",
              "Center      12689  12689  Trump Ousts Embattled Campaign Manager\\n\\nEnla...   \n",
              "Left        14937  14937  For Secret Service Chief, Revelations Could Th...   \n",
              "Right       15595  15595  By a two-to-one margin, respondents who partic...   \n",
              "\n",
              "                \n",
              "          freq  \n",
              "bias_text       \n",
              "Center       1  \n",
              "Left         1  \n",
              "Right        1  "
            ],
            "text/html": [
              "\n",
              "  <div id=\"df-e64fe397-8fcf-4e35-b05b-c0eea4477f1c\">\n",
              "    <div class=\"colab-df-container\">\n",
              "      <div>\n",
              "<style scoped>\n",
              "    .dataframe tbody tr th:only-of-type {\n",
              "        vertical-align: middle;\n",
              "    }\n",
              "\n",
              "    .dataframe tbody tr th {\n",
              "        vertical-align: top;\n",
              "    }\n",
              "\n",
              "    .dataframe thead tr th {\n",
              "        text-align: left;\n",
              "    }\n",
              "\n",
              "    .dataframe thead tr:last-of-type th {\n",
              "        text-align: right;\n",
              "    }\n",
              "</style>\n",
              "<table border=\"1\" class=\"dataframe\">\n",
              "  <thead>\n",
              "    <tr>\n",
              "      <th></th>\n",
              "      <th colspan=\"4\" halign=\"left\">content</th>\n",
              "    </tr>\n",
              "    <tr>\n",
              "      <th></th>\n",
              "      <th>count</th>\n",
              "      <th>unique</th>\n",
              "      <th>top</th>\n",
              "      <th>freq</th>\n",
              "    </tr>\n",
              "    <tr>\n",
              "      <th>bias_text</th>\n",
              "      <th></th>\n",
              "      <th></th>\n",
              "      <th></th>\n",
              "      <th></th>\n",
              "    </tr>\n",
              "  </thead>\n",
              "  <tbody>\n",
              "    <tr>\n",
              "      <th>Center</th>\n",
              "      <td>12689</td>\n",
              "      <td>12689</td>\n",
              "      <td>Trump Ousts Embattled Campaign Manager\\n\\nEnla...</td>\n",
              "      <td>1</td>\n",
              "    </tr>\n",
              "    <tr>\n",
              "      <th>Left</th>\n",
              "      <td>14937</td>\n",
              "      <td>14937</td>\n",
              "      <td>For Secret Service Chief, Revelations Could Th...</td>\n",
              "      <td>1</td>\n",
              "    </tr>\n",
              "    <tr>\n",
              "      <th>Right</th>\n",
              "      <td>15595</td>\n",
              "      <td>15595</td>\n",
              "      <td>By a two-to-one margin, respondents who partic...</td>\n",
              "      <td>1</td>\n",
              "    </tr>\n",
              "  </tbody>\n",
              "</table>\n",
              "</div>\n",
              "      <button class=\"colab-df-convert\" onclick=\"convertToInteractive('df-e64fe397-8fcf-4e35-b05b-c0eea4477f1c')\"\n",
              "              title=\"Convert this dataframe to an interactive table.\"\n",
              "              style=\"display:none;\">\n",
              "        \n",
              "  <svg xmlns=\"http://www.w3.org/2000/svg\" height=\"24px\"viewBox=\"0 0 24 24\"\n",
              "       width=\"24px\">\n",
              "    <path d=\"M0 0h24v24H0V0z\" fill=\"none\"/>\n",
              "    <path d=\"M18.56 5.44l.94 2.06.94-2.06 2.06-.94-2.06-.94-.94-2.06-.94 2.06-2.06.94zm-11 1L8.5 8.5l.94-2.06 2.06-.94-2.06-.94L8.5 2.5l-.94 2.06-2.06.94zm10 10l.94 2.06.94-2.06 2.06-.94-2.06-.94-.94-2.06-.94 2.06-2.06.94z\"/><path d=\"M17.41 7.96l-1.37-1.37c-.4-.4-.92-.59-1.43-.59-.52 0-1.04.2-1.43.59L10.3 9.45l-7.72 7.72c-.78.78-.78 2.05 0 2.83L4 21.41c.39.39.9.59 1.41.59.51 0 1.02-.2 1.41-.59l7.78-7.78 2.81-2.81c.8-.78.8-2.07 0-2.86zM5.41 20L4 18.59l7.72-7.72 1.47 1.35L5.41 20z\"/>\n",
              "  </svg>\n",
              "      </button>\n",
              "      \n",
              "  <style>\n",
              "    .colab-df-container {\n",
              "      display:flex;\n",
              "      flex-wrap:wrap;\n",
              "      gap: 12px;\n",
              "    }\n",
              "\n",
              "    .colab-df-convert {\n",
              "      background-color: #E8F0FE;\n",
              "      border: none;\n",
              "      border-radius: 50%;\n",
              "      cursor: pointer;\n",
              "      display: none;\n",
              "      fill: #1967D2;\n",
              "      height: 32px;\n",
              "      padding: 0 0 0 0;\n",
              "      width: 32px;\n",
              "    }\n",
              "\n",
              "    .colab-df-convert:hover {\n",
              "      background-color: #E2EBFA;\n",
              "      box-shadow: 0px 1px 2px rgba(60, 64, 67, 0.3), 0px 1px 3px 1px rgba(60, 64, 67, 0.15);\n",
              "      fill: #174EA6;\n",
              "    }\n",
              "\n",
              "    [theme=dark] .colab-df-convert {\n",
              "      background-color: #3B4455;\n",
              "      fill: #D2E3FC;\n",
              "    }\n",
              "\n",
              "    [theme=dark] .colab-df-convert:hover {\n",
              "      background-color: #434B5C;\n",
              "      box-shadow: 0px 1px 3px 1px rgba(0, 0, 0, 0.15);\n",
              "      filter: drop-shadow(0px 1px 2px rgba(0, 0, 0, 0.3));\n",
              "      fill: #FFFFFF;\n",
              "    }\n",
              "  </style>\n",
              "\n",
              "      <script>\n",
              "        const buttonEl =\n",
              "          document.querySelector('#df-e64fe397-8fcf-4e35-b05b-c0eea4477f1c button.colab-df-convert');\n",
              "        buttonEl.style.display =\n",
              "          google.colab.kernel.accessAllowed ? 'block' : 'none';\n",
              "\n",
              "        async function convertToInteractive(key) {\n",
              "          const element = document.querySelector('#df-e64fe397-8fcf-4e35-b05b-c0eea4477f1c');\n",
              "          const dataTable =\n",
              "            await google.colab.kernel.invokeFunction('convertToInteractive',\n",
              "                                                     [key], {});\n",
              "          if (!dataTable) return;\n",
              "\n",
              "          const docLinkHtml = 'Like what you see? Visit the ' +\n",
              "            '<a target=\"_blank\" href=https://colab.research.google.com/notebooks/data_table.ipynb>data table notebook</a>'\n",
              "            + ' to learn more about interactive tables.';\n",
              "          element.innerHTML = '';\n",
              "          dataTable['output_type'] = 'display_data';\n",
              "          await google.colab.output.renderOutput(dataTable, element);\n",
              "          const docLink = document.createElement('div');\n",
              "          docLink.innerHTML = docLinkHtml;\n",
              "          element.appendChild(docLink);\n",
              "        }\n",
              "      </script>\n",
              "    </div>\n",
              "  </div>\n",
              "  "
            ]
          },
          "metadata": {},
          "execution_count": 14
        }
      ]
    },
    {
      "cell_type": "code",
      "source": [
        "# download stopword list\n",
        "nltk.download('stopwords')"
      ],
      "metadata": {
        "colab": {
          "base_uri": "https://localhost:8080/"
        },
        "id": "T7wHKYtdmt9B",
        "outputId": "be591d65-81e9-4358-b996-f48ffa6f281f"
      },
      "execution_count": null,
      "outputs": [
        {
          "output_type": "stream",
          "name": "stderr",
          "text": [
            "[nltk_data] Downloading package stopwords to /root/nltk_data...\n",
            "[nltk_data]   Unzipping corpora/stopwords.zip.\n"
          ]
        },
        {
          "output_type": "execute_result",
          "data": {
            "text/plain": [
              "True"
            ]
          },
          "metadata": {},
          "execution_count": 16
        }
      ]
    },
    {
      "cell_type": "code",
      "source": [
        "# data cleaning: make lowercase, remove special characters and numbers using regex\n",
        "REPLACE_BY_SPACE_RE = re.compile('[/(){}\\[\\]\\|@,;]')\n",
        "BAD_SYMBOLS_RE = re.compile('[^0-9a-z #+_]')\n",
        "STOPWORDS = set(stopwords.words('english'))\n",
        "\n",
        "def clean_text(text):\n",
        "    text = text.lower() # lowercase text\n",
        "    text = REPLACE_BY_SPACE_RE.sub(' ', text) # replace REPLACE_BY_SPACE_RE symbols by space in text. substitute the matched string in REPLACE_BY_SPACE_RE with space.\n",
        "    text = BAD_SYMBOLS_RE.sub('', text) # remove symbols which are in BAD_SYMBOLS_RE from text. substitute the matched string in BAD_SYMBOLS_RE with nothing. \n",
        "#    text = re.sub(r'\\W+', '', text) # this removes all special characters # r means raw string\n",
        "    text = ' '.join(word for word in text.split() if word not in STOPWORDS) # remove stopwords from text\n",
        "    return text\n",
        "nbdf_filtered['content'] = nbdf_filtered['content'].apply(clean_text)\n",
        "# remove all digits\n",
        "nbdf_filtered['content'] = nbdf_filtered['content'].str.replace('\\d+', '')\n",
        "\n",
        "nbdf_filtered.head()"
      ],
      "metadata": {
        "colab": {
          "base_uri": "https://localhost:8080/",
          "height": 276
        },
        "id": "7Bv_f1jRm2-f",
        "outputId": "497bce14-5d9e-4267-9df9-ca906e71b349"
      },
      "execution_count": null,
      "outputs": [
        {
          "output_type": "stream",
          "name": "stderr",
          "text": [
            "<ipython-input-17-8f3b9852598d>:14: FutureWarning:\n",
            "\n",
            "The default value of regex will change from True to False in a future version.\n",
            "\n"
          ]
        },
        {
          "output_type": "execute_result",
          "data": {
            "text/plain": [
              "                                             content bias_text\n",
              "0  twotoone margin respondents participated recen...     Right\n",
              "1  president trump loves tweet way directly reach...     Right\n",
              "2  secret service chief revelations could threate...      Left\n",
              "3  trump ousts embattled campaign managerenlarge ...    Center\n",
              "4  media playback unsupported device media captio...    Center"
            ],
            "text/html": [
              "\n",
              "  <div id=\"df-28c4f9ac-5bab-4dcc-860f-9a18d1efc56b\">\n",
              "    <div class=\"colab-df-container\">\n",
              "      <div>\n",
              "<style scoped>\n",
              "    .dataframe tbody tr th:only-of-type {\n",
              "        vertical-align: middle;\n",
              "    }\n",
              "\n",
              "    .dataframe tbody tr th {\n",
              "        vertical-align: top;\n",
              "    }\n",
              "\n",
              "    .dataframe thead th {\n",
              "        text-align: right;\n",
              "    }\n",
              "</style>\n",
              "<table border=\"1\" class=\"dataframe\">\n",
              "  <thead>\n",
              "    <tr style=\"text-align: right;\">\n",
              "      <th></th>\n",
              "      <th>content</th>\n",
              "      <th>bias_text</th>\n",
              "    </tr>\n",
              "  </thead>\n",
              "  <tbody>\n",
              "    <tr>\n",
              "      <th>0</th>\n",
              "      <td>twotoone margin respondents participated recen...</td>\n",
              "      <td>Right</td>\n",
              "    </tr>\n",
              "    <tr>\n",
              "      <th>1</th>\n",
              "      <td>president trump loves tweet way directly reach...</td>\n",
              "      <td>Right</td>\n",
              "    </tr>\n",
              "    <tr>\n",
              "      <th>2</th>\n",
              "      <td>secret service chief revelations could threate...</td>\n",
              "      <td>Left</td>\n",
              "    </tr>\n",
              "    <tr>\n",
              "      <th>3</th>\n",
              "      <td>trump ousts embattled campaign managerenlarge ...</td>\n",
              "      <td>Center</td>\n",
              "    </tr>\n",
              "    <tr>\n",
              "      <th>4</th>\n",
              "      <td>media playback unsupported device media captio...</td>\n",
              "      <td>Center</td>\n",
              "    </tr>\n",
              "  </tbody>\n",
              "</table>\n",
              "</div>\n",
              "      <button class=\"colab-df-convert\" onclick=\"convertToInteractive('df-28c4f9ac-5bab-4dcc-860f-9a18d1efc56b')\"\n",
              "              title=\"Convert this dataframe to an interactive table.\"\n",
              "              style=\"display:none;\">\n",
              "        \n",
              "  <svg xmlns=\"http://www.w3.org/2000/svg\" height=\"24px\"viewBox=\"0 0 24 24\"\n",
              "       width=\"24px\">\n",
              "    <path d=\"M0 0h24v24H0V0z\" fill=\"none\"/>\n",
              "    <path d=\"M18.56 5.44l.94 2.06.94-2.06 2.06-.94-2.06-.94-.94-2.06-.94 2.06-2.06.94zm-11 1L8.5 8.5l.94-2.06 2.06-.94-2.06-.94L8.5 2.5l-.94 2.06-2.06.94zm10 10l.94 2.06.94-2.06 2.06-.94-2.06-.94-.94-2.06-.94 2.06-2.06.94z\"/><path d=\"M17.41 7.96l-1.37-1.37c-.4-.4-.92-.59-1.43-.59-.52 0-1.04.2-1.43.59L10.3 9.45l-7.72 7.72c-.78.78-.78 2.05 0 2.83L4 21.41c.39.39.9.59 1.41.59.51 0 1.02-.2 1.41-.59l7.78-7.78 2.81-2.81c.8-.78.8-2.07 0-2.86zM5.41 20L4 18.59l7.72-7.72 1.47 1.35L5.41 20z\"/>\n",
              "  </svg>\n",
              "      </button>\n",
              "      \n",
              "  <style>\n",
              "    .colab-df-container {\n",
              "      display:flex;\n",
              "      flex-wrap:wrap;\n",
              "      gap: 12px;\n",
              "    }\n",
              "\n",
              "    .colab-df-convert {\n",
              "      background-color: #E8F0FE;\n",
              "      border: none;\n",
              "      border-radius: 50%;\n",
              "      cursor: pointer;\n",
              "      display: none;\n",
              "      fill: #1967D2;\n",
              "      height: 32px;\n",
              "      padding: 0 0 0 0;\n",
              "      width: 32px;\n",
              "    }\n",
              "\n",
              "    .colab-df-convert:hover {\n",
              "      background-color: #E2EBFA;\n",
              "      box-shadow: 0px 1px 2px rgba(60, 64, 67, 0.3), 0px 1px 3px 1px rgba(60, 64, 67, 0.15);\n",
              "      fill: #174EA6;\n",
              "    }\n",
              "\n",
              "    [theme=dark] .colab-df-convert {\n",
              "      background-color: #3B4455;\n",
              "      fill: #D2E3FC;\n",
              "    }\n",
              "\n",
              "    [theme=dark] .colab-df-convert:hover {\n",
              "      background-color: #434B5C;\n",
              "      box-shadow: 0px 1px 3px 1px rgba(0, 0, 0, 0.15);\n",
              "      filter: drop-shadow(0px 1px 2px rgba(0, 0, 0, 0.3));\n",
              "      fill: #FFFFFF;\n",
              "    }\n",
              "  </style>\n",
              "\n",
              "      <script>\n",
              "        const buttonEl =\n",
              "          document.querySelector('#df-28c4f9ac-5bab-4dcc-860f-9a18d1efc56b button.colab-df-convert');\n",
              "        buttonEl.style.display =\n",
              "          google.colab.kernel.accessAllowed ? 'block' : 'none';\n",
              "\n",
              "        async function convertToInteractive(key) {\n",
              "          const element = document.querySelector('#df-28c4f9ac-5bab-4dcc-860f-9a18d1efc56b');\n",
              "          const dataTable =\n",
              "            await google.colab.kernel.invokeFunction('convertToInteractive',\n",
              "                                                     [key], {});\n",
              "          if (!dataTable) return;\n",
              "\n",
              "          const docLinkHtml = 'Like what you see? Visit the ' +\n",
              "            '<a target=\"_blank\" href=https://colab.research.google.com/notebooks/data_table.ipynb>data table notebook</a>'\n",
              "            + ' to learn more about interactive tables.';\n",
              "          element.innerHTML = '';\n",
              "          dataTable['output_type'] = 'display_data';\n",
              "          await google.colab.output.renderOutput(dataTable, element);\n",
              "          const docLink = document.createElement('div');\n",
              "          docLink.innerHTML = docLinkHtml;\n",
              "          element.appendChild(docLink);\n",
              "        }\n",
              "      </script>\n",
              "    </div>\n",
              "  </div>\n",
              "  "
            ]
          },
          "metadata": {},
          "execution_count": 17
        }
      ]
    },
    {
      "cell_type": "code",
      "source": [
        "def countNumWordsOfContent(text):\n",
        "  return len(text.split())\n",
        "\n",
        "# remove those articles with actual words less than 30\n",
        "nbdf_filtered = nbdf_filtered[nbdf_filtered['content'].apply(countNumWordsOfContent) >= 50]\n",
        "\n",
        "nbdf_filtered = nbdf_filtered.drop_duplicates(subset=['content'], keep='first')\n",
        "nbdf_filtered = nbdf_filtered[(nbdf_filtered['content'] != \"\")]\n",
        "nbdf_filtered.groupby('bias_text').describe()"
      ],
      "metadata": {
        "colab": {
          "base_uri": "https://localhost:8080/",
          "height": 206
        },
        "id": "J7nt71ldn-BC",
        "outputId": "d07833ce-8a49-465f-9302-9158f3cd9de4"
      },
      "execution_count": null,
      "outputs": [
        {
          "output_type": "execute_result",
          "data": {
            "text/plain": [
              "          content                                                            \\\n",
              "            count unique                                                top   \n",
              "bias_text                                                                     \n",
              "Center      12473  12473  trump ousts embattled campaign managerenlarge ...   \n",
              "Left        14886  14886  secret service chief revelations could threate...   \n",
              "Right       15572  15572  twotoone margin respondents participated recen...   \n",
              "\n",
              "                \n",
              "          freq  \n",
              "bias_text       \n",
              "Center       1  \n",
              "Left         1  \n",
              "Right        1  "
            ],
            "text/html": [
              "\n",
              "  <div id=\"df-f0b6a830-e62c-465a-9bd6-043d2b6b678b\">\n",
              "    <div class=\"colab-df-container\">\n",
              "      <div>\n",
              "<style scoped>\n",
              "    .dataframe tbody tr th:only-of-type {\n",
              "        vertical-align: middle;\n",
              "    }\n",
              "\n",
              "    .dataframe tbody tr th {\n",
              "        vertical-align: top;\n",
              "    }\n",
              "\n",
              "    .dataframe thead tr th {\n",
              "        text-align: left;\n",
              "    }\n",
              "\n",
              "    .dataframe thead tr:last-of-type th {\n",
              "        text-align: right;\n",
              "    }\n",
              "</style>\n",
              "<table border=\"1\" class=\"dataframe\">\n",
              "  <thead>\n",
              "    <tr>\n",
              "      <th></th>\n",
              "      <th colspan=\"4\" halign=\"left\">content</th>\n",
              "    </tr>\n",
              "    <tr>\n",
              "      <th></th>\n",
              "      <th>count</th>\n",
              "      <th>unique</th>\n",
              "      <th>top</th>\n",
              "      <th>freq</th>\n",
              "    </tr>\n",
              "    <tr>\n",
              "      <th>bias_text</th>\n",
              "      <th></th>\n",
              "      <th></th>\n",
              "      <th></th>\n",
              "      <th></th>\n",
              "    </tr>\n",
              "  </thead>\n",
              "  <tbody>\n",
              "    <tr>\n",
              "      <th>Center</th>\n",
              "      <td>12473</td>\n",
              "      <td>12473</td>\n",
              "      <td>trump ousts embattled campaign managerenlarge ...</td>\n",
              "      <td>1</td>\n",
              "    </tr>\n",
              "    <tr>\n",
              "      <th>Left</th>\n",
              "      <td>14886</td>\n",
              "      <td>14886</td>\n",
              "      <td>secret service chief revelations could threate...</td>\n",
              "      <td>1</td>\n",
              "    </tr>\n",
              "    <tr>\n",
              "      <th>Right</th>\n",
              "      <td>15572</td>\n",
              "      <td>15572</td>\n",
              "      <td>twotoone margin respondents participated recen...</td>\n",
              "      <td>1</td>\n",
              "    </tr>\n",
              "  </tbody>\n",
              "</table>\n",
              "</div>\n",
              "      <button class=\"colab-df-convert\" onclick=\"convertToInteractive('df-f0b6a830-e62c-465a-9bd6-043d2b6b678b')\"\n",
              "              title=\"Convert this dataframe to an interactive table.\"\n",
              "              style=\"display:none;\">\n",
              "        \n",
              "  <svg xmlns=\"http://www.w3.org/2000/svg\" height=\"24px\"viewBox=\"0 0 24 24\"\n",
              "       width=\"24px\">\n",
              "    <path d=\"M0 0h24v24H0V0z\" fill=\"none\"/>\n",
              "    <path d=\"M18.56 5.44l.94 2.06.94-2.06 2.06-.94-2.06-.94-.94-2.06-.94 2.06-2.06.94zm-11 1L8.5 8.5l.94-2.06 2.06-.94-2.06-.94L8.5 2.5l-.94 2.06-2.06.94zm10 10l.94 2.06.94-2.06 2.06-.94-2.06-.94-.94-2.06-.94 2.06-2.06.94z\"/><path d=\"M17.41 7.96l-1.37-1.37c-.4-.4-.92-.59-1.43-.59-.52 0-1.04.2-1.43.59L10.3 9.45l-7.72 7.72c-.78.78-.78 2.05 0 2.83L4 21.41c.39.39.9.59 1.41.59.51 0 1.02-.2 1.41-.59l7.78-7.78 2.81-2.81c.8-.78.8-2.07 0-2.86zM5.41 20L4 18.59l7.72-7.72 1.47 1.35L5.41 20z\"/>\n",
              "  </svg>\n",
              "      </button>\n",
              "      \n",
              "  <style>\n",
              "    .colab-df-container {\n",
              "      display:flex;\n",
              "      flex-wrap:wrap;\n",
              "      gap: 12px;\n",
              "    }\n",
              "\n",
              "    .colab-df-convert {\n",
              "      background-color: #E8F0FE;\n",
              "      border: none;\n",
              "      border-radius: 50%;\n",
              "      cursor: pointer;\n",
              "      display: none;\n",
              "      fill: #1967D2;\n",
              "      height: 32px;\n",
              "      padding: 0 0 0 0;\n",
              "      width: 32px;\n",
              "    }\n",
              "\n",
              "    .colab-df-convert:hover {\n",
              "      background-color: #E2EBFA;\n",
              "      box-shadow: 0px 1px 2px rgba(60, 64, 67, 0.3), 0px 1px 3px 1px rgba(60, 64, 67, 0.15);\n",
              "      fill: #174EA6;\n",
              "    }\n",
              "\n",
              "    [theme=dark] .colab-df-convert {\n",
              "      background-color: #3B4455;\n",
              "      fill: #D2E3FC;\n",
              "    }\n",
              "\n",
              "    [theme=dark] .colab-df-convert:hover {\n",
              "      background-color: #434B5C;\n",
              "      box-shadow: 0px 1px 3px 1px rgba(0, 0, 0, 0.15);\n",
              "      filter: drop-shadow(0px 1px 2px rgba(0, 0, 0, 0.3));\n",
              "      fill: #FFFFFF;\n",
              "    }\n",
              "  </style>\n",
              "\n",
              "      <script>\n",
              "        const buttonEl =\n",
              "          document.querySelector('#df-f0b6a830-e62c-465a-9bd6-043d2b6b678b button.colab-df-convert');\n",
              "        buttonEl.style.display =\n",
              "          google.colab.kernel.accessAllowed ? 'block' : 'none';\n",
              "\n",
              "        async function convertToInteractive(key) {\n",
              "          const element = document.querySelector('#df-f0b6a830-e62c-465a-9bd6-043d2b6b678b');\n",
              "          const dataTable =\n",
              "            await google.colab.kernel.invokeFunction('convertToInteractive',\n",
              "                                                     [key], {});\n",
              "          if (!dataTable) return;\n",
              "\n",
              "          const docLinkHtml = 'Like what you see? Visit the ' +\n",
              "            '<a target=\"_blank\" href=https://colab.research.google.com/notebooks/data_table.ipynb>data table notebook</a>'\n",
              "            + ' to learn more about interactive tables.';\n",
              "          element.innerHTML = '';\n",
              "          dataTable['output_type'] = 'display_data';\n",
              "          await google.colab.output.renderOutput(dataTable, element);\n",
              "          const docLink = document.createElement('div');\n",
              "          docLink.innerHTML = docLinkHtml;\n",
              "          element.appendChild(docLink);\n",
              "        }\n",
              "      </script>\n",
              "    </div>\n",
              "  </div>\n",
              "  "
            ]
          },
          "metadata": {},
          "execution_count": 18
        }
      ]
    },
    {
      "cell_type": "code",
      "source": [
        "X_ser = nbdf_filtered['content']\n",
        "Y_ser = nbdf_filtered[\"bias_text\"]\n",
        "\n",
        "X_df = nbdf_filtered.iloc[:,:-1]\n",
        "Y_df = nbdf_filtered.iloc[:,-1:]\n",
        "# split into traing and test dataset with 7:3 ratio\n",
        "X_train_ser, X_test_ser, Y_train_ser, Y_test_ser = train_test_split(X_ser, Y_ser, test_size=0.3, random_state=53)\n",
        "X_train_df, X_test_df, Y_train_df, Y_test_df = train_test_split(X_df, Y_df, test_size=0.3, random_state=53)\n",
        "\n",
        "print(X_train_ser.shape)\n",
        "print(Y_train_ser.shape)\n",
        "print(X_train_ser.ndim)\n",
        "print(Y_train_ser.ndim)\n",
        "print(type(X_train_ser))\n",
        "print(type(Y_train_ser))\n",
        "print()\n",
        "\n",
        "print(X_test_ser.shape)\n",
        "print(Y_test_ser.shape)\n",
        "print(X_test_ser.ndim)\n",
        "print(Y_test_ser.ndim)\n",
        "print(type(X_test_ser))\n",
        "print(type(Y_test_ser))\n",
        "print()\n",
        "\n",
        "print(X_train_df.shape)\n",
        "print(Y_train_df.shape)\n",
        "print(X_train_df.ndim)\n",
        "print(Y_train_df.ndim)\n",
        "print(type(X_train_df))\n",
        "print(type(Y_train_df))"
      ],
      "metadata": {
        "colab": {
          "base_uri": "https://localhost:8080/"
        },
        "id": "-V0joArRxTRQ",
        "outputId": "1b21a351-bada-42c0-c36e-5b7487cf7f60"
      },
      "execution_count": null,
      "outputs": [
        {
          "output_type": "stream",
          "name": "stdout",
          "text": [
            "(30051,)\n",
            "(30051,)\n",
            "1\n",
            "1\n",
            "<class 'pandas.core.series.Series'>\n",
            "<class 'pandas.core.series.Series'>\n",
            "\n",
            "(12880,)\n",
            "(12880,)\n",
            "1\n",
            "1\n",
            "<class 'pandas.core.series.Series'>\n",
            "<class 'pandas.core.series.Series'>\n",
            "\n",
            "(30051, 1)\n",
            "(30051, 1)\n",
            "2\n",
            "2\n",
            "<class 'pandas.core.frame.DataFrame'>\n",
            "<class 'pandas.core.frame.DataFrame'>\n"
          ]
        }
      ]
    },
    {
      "cell_type": "code",
      "source": [
        "Y_train_df['bias_text'].value_counts()"
      ],
      "metadata": {
        "colab": {
          "base_uri": "https://localhost:8080/"
        },
        "id": "fLdy8KIiw71L",
        "outputId": "78a6dcf0-6464-4bd1-a758-3ae24cd7dc74"
      },
      "execution_count": null,
      "outputs": [
        {
          "output_type": "execute_result",
          "data": {
            "text/plain": [
              "Right     10969\n",
              "Left      10354\n",
              "Center     8728\n",
              "Name: bias_text, dtype: int64"
            ]
          },
          "metadata": {},
          "execution_count": 20
        }
      ]
    },
    {
      "cell_type": "code",
      "source": [
        "# define undersampling strategy\n",
        "undersample = RandomUnderSampler(sampling_strategy='majority')\n",
        "# fit and apply the transform\n",
        "X_train_under, Y_train_under = undersample.fit_resample(X_train_df, Y_train_df)\n",
        "X_train_under, Y_train_under = undersample.fit_resample(X_train_under, Y_train_under)\n",
        "X_train_under, Y_train_under = undersample.fit_resample(X_train_under, Y_train_under)\n",
        "X_train_under, Y_train_under = undersample.fit_resample(X_train_under, Y_train_under)\n",
        "\n",
        "print(X_train_under)\n",
        "print(Y_train_under)"
      ],
      "metadata": {
        "colab": {
          "base_uri": "https://localhost:8080/"
        },
        "id": "-GXUzXv5P8iG",
        "outputId": "92ce5a20-6488-4f57-df57-5f690a159aeb"
      },
      "execution_count": null,
      "outputs": [
        {
          "output_type": "stream",
          "name": "stdout",
          "text": [
            "                                                 content\n",
            "0      supreme court rules obamacare subsidies legale...\n",
            "1      fiscal cliff deal reach yesthe facetoface meet...\n",
            "2      congressmans exit closes book watergate babies...\n",
            "3      columbia schillary clinton bernie sanders made...\n",
            "4      chicago oct  reuters planting roughly halfway ...\n",
            "...                                                  ...\n",
            "26179  consulting company avalere health provided lea...\n",
            "26180  months conflict confusion fraudtainted house r...\n",
            "26181  comstock stockbyte getty leaders stand speak s...\n",
            "26182  possible breakthrough legislative proposal gun...\n",
            "26183  material poverty us facts people census bureau...\n",
            "\n",
            "[26184 rows x 1 columns]\n",
            "      bias_text\n",
            "0        Center\n",
            "1        Center\n",
            "2        Center\n",
            "3        Center\n",
            "4        Center\n",
            "...         ...\n",
            "26179     Right\n",
            "26180     Right\n",
            "26181     Right\n",
            "26182     Right\n",
            "26183     Right\n",
            "\n",
            "[26184 rows x 1 columns]\n"
          ]
        }
      ]
    },
    {
      "cell_type": "markdown",
      "source": [
        "Counter Vectorizer"
      ],
      "metadata": {
        "id": "F7F2-T24kOO7"
      }
    },
    {
      "cell_type": "code",
      "source": [
        "# initalize count vectoizer\n",
        "count_vectorizer = CountVectorizer(stop_words=\"english\")\n",
        "\n",
        "# imbalance data\n",
        "count_train = count_vectorizer.fit_transform(X_train_ser.values)\n",
        "count_test = count_vectorizer.transform(X_test_ser.values)\n",
        "\n",
        "# balanced data with undersampling\n",
        "count_train_under = count_vectorizer.fit_transform(X_train_under[\"content\"].values)\n",
        "count_test_under = count_vectorizer.transform(X_test_df[\"content\"].values)"
      ],
      "metadata": {
        "id": "MV5DjhsJ8QBX"
      },
      "execution_count": null,
      "outputs": []
    },
    {
      "cell_type": "code",
      "source": [
        "# define oversampling strategy\n",
        "smote = SMOTE()\n",
        "\n",
        "# fit and apply the transform\n",
        "X_train_SMOTE, Y_train_SMOTE = smote.fit_resample(count_train, Y_train_df)"
      ],
      "metadata": {
        "id": "JHkXK_ct34vO"
      },
      "execution_count": null,
      "outputs": []
    },
    {
      "cell_type": "code",
      "source": [
        "print(Y_train_SMOTE['bias_text'].value_counts())\n",
        "print(\"\\n\")\n",
        "print(Y_train_under['bias_text'].value_counts())\n",
        "print(\"\\n\")\n",
        "print(Y_train_df['bias_text'].value_counts())"
      ],
      "metadata": {
        "colab": {
          "base_uri": "https://localhost:8080/"
        },
        "id": "LwJMsNL-6D8G",
        "outputId": "5b922e95-4d83-4256-f9bd-eef348e377c0"
      },
      "execution_count": null,
      "outputs": [
        {
          "output_type": "stream",
          "name": "stdout",
          "text": [
            "Left      10969\n",
            "Right     10969\n",
            "Center    10969\n",
            "Name: bias_text, dtype: int64\n",
            "\n",
            "\n",
            "Center    8728\n",
            "Left      8728\n",
            "Right     8728\n",
            "Name: bias_text, dtype: int64\n",
            "\n",
            "\n",
            "Right     10969\n",
            "Left      10354\n",
            "Center     8728\n",
            "Name: bias_text, dtype: int64\n"
          ]
        }
      ]
    },
    {
      "cell_type": "markdown",
      "source": [
        "Naive Bayes"
      ],
      "metadata": {
        "id": "tVT5i2SNkFVx"
      }
    },
    {
      "cell_type": "code",
      "source": [
        "# imbalanced multinomial naive bayes model\n",
        "naive_bayse_model_CV = nv.MultinomialNB()\n",
        "# training\n",
        "naive_bayse_model_CV.fit(count_train, Y_train_ser)\n",
        "Y_pred_CV = naive_bayse_model_CV.predict(count_test)\n",
        "# accuracy\n",
        "score_CV = metrics.accuracy_score(Y_test_ser, Y_pred_CV)\n",
        "print(score_CV)\n",
        "\n",
        "cm_cv = metrics.confusion_matrix(Y_test_ser, Y_pred_CV, labels=nbdf_filterd_labels)\n",
        "print(cm_cv)\n",
        "# drow heatmap for confusion matrix\n",
        "sns.heatmap(cm_cv.T, square=False, annot=True, fmt='d', cbar=False, xticklabels=nbdf_filterd_labels, yticklabels=nbdf_filterd_labels)\n",
        "plt.xlabel('Actual')\n",
        "plt.ylabel('Prediction')"
      ],
      "metadata": {
        "colab": {
          "base_uri": "https://localhost:8080/",
          "height": 372
        },
        "id": "486jCHJg88vW",
        "outputId": "c4a37a08-5507-4636-f299-771a41393588"
      },
      "execution_count": null,
      "outputs": [
        {
          "output_type": "stream",
          "name": "stdout",
          "text": [
            "0.6385869565217391\n",
            "[[2779 1129  695]\n",
            " [ 679 3080  773]\n",
            " [ 346 1033 2366]]\n"
          ]
        },
        {
          "output_type": "execute_result",
          "data": {
            "text/plain": [
              "Text(30.5, 0.5, 'Prediction')"
            ]
          },
          "metadata": {},
          "execution_count": 67
        },
        {
          "output_type": "display_data",
          "data": {
            "text/plain": [
              "<Figure size 432x288 with 1 Axes>"
            ],
            "image/png": "[encoded data removed]"
          },
          "metadata": {}
        }
      ]
    },
    {
      "cell_type": "code",
      "source": [
        "# balanced multinomial naive bayes with undersampling data\n",
        "naive_bayse_model_CV_under = nv.MultinomialNB()\n",
        "# training\n",
        "naive_bayse_model_CV_under.fit(count_train_under, Y_train_under[\"bias_text\"])\n",
        "Y_pred_CV_under = naive_bayse_model_CV_under.predict(count_test_under)\n",
        "# accuracy\n",
        "score_under = metrics.accuracy_score(Y_test_df[\"bias_text\"], Y_pred_CV_under)\n",
        "print(score_under)\n",
        "\n",
        "cm_under = metrics.confusion_matrix(Y_test_ser, Y_pred_CV_under, labels=nbdf_filterd_labels)\n",
        "print(cm_under)\n",
        "# drow heatmap for confusion matrix\n",
        "sns.heatmap(cm_under.T, square=False, annot=True, fmt='d', cbar=False, xticklabels=nbdf_filterd_labels, yticklabels=nbdf_filterd_labels)\n",
        "plt.xlabel('Actual')\n",
        "plt.ylabel('Prediction')"
      ],
      "metadata": {
        "colab": {
          "base_uri": "https://localhost:8080/",
          "height": 372
        },
        "id": "izBdtDUZw11e",
        "outputId": "11ab99a7-a9b3-40a7-9756-f5808ff73d79"
      },
      "execution_count": null,
      "outputs": [
        {
          "output_type": "stream",
          "name": "stdout",
          "text": [
            "0.6325310559006211\n",
            "[[2478 1164  961]\n",
            " [ 509 3012 1011]\n",
            " [ 229  859 2657]]\n"
          ]
        },
        {
          "output_type": "execute_result",
          "data": {
            "text/plain": [
              "Text(30.5, 0.5, 'Prediction')"
            ]
          },
          "metadata": {},
          "execution_count": 68
        },
        {
          "output_type": "display_data",
          "data": {
            "text/plain": [
              "<Figure size 432x288 with 1 Axes>"
            ],
            "image/png": "[encoded data removed]"
          },
          "metadata": {}
        }
      ]
    },
    {
      "cell_type": "code",
      "source": [
        "# balanced multinomial naive bayes with Oversampling data\n",
        "naive_bayse_model_CV_over = nv.MultinomialNB()\n",
        "# training\n",
        "naive_bayse_model_CV_over.fit(X_train_SMOTE, Y_train_SMOTE[\"bias_text\"])\n",
        "Y_pred_CV_over = naive_bayse_model_CV_over.predict(count_test)\n",
        "# accuracy\n",
        "score_over = metrics.accuracy_score(Y_test_df[\"bias_text\"], Y_pred_CV_over)\n",
        "print(score_over)\n",
        "\n",
        "cm_over = metrics.confusion_matrix(Y_test_ser, Y_pred_CV_over, labels=nbdf_filterd_labels)\n",
        "print(cm_over)\n",
        "# drow heatmap for confusion matrix\n",
        "sns.heatmap(cm_over.T, square=False, annot=True, fmt='d', cbar=False, xticklabels=nbdf_filterd_labels, yticklabels=nbdf_filterd_labels)\n",
        "plt.xlabel('Actual')\n",
        "plt.ylabel('Prediction')"
      ],
      "metadata": {
        "colab": {
          "base_uri": "https://localhost:8080/",
          "height": 372
        },
        "id": "gAi_qGIB6NhI",
        "outputId": "41c6a460-c9f3-47fb-a361-61ddcb6e9765"
      },
      "execution_count": null,
      "outputs": [
        {
          "output_type": "stream",
          "name": "stdout",
          "text": [
            "0.6354813664596274\n",
            "[[2660 1122  821]\n",
            " [ 622 3050  860]\n",
            " [ 303  967 2475]]\n"
          ]
        },
        {
          "output_type": "execute_result",
          "data": {
            "text/plain": [
              "Text(30.5, 0.5, 'Prediction')"
            ]
          },
          "metadata": {},
          "execution_count": 70
        },
        {
          "output_type": "display_data",
          "data": {
            "text/plain": [
              "<Figure size 432x288 with 1 Axes>"
            ],
            "image/png": "[encoded data removed]"
          },
          "metadata": {}
        }
      ]
    },
    {
      "cell_type": "code",
      "source": [
        "# imbalanced complement Naive Bayes naive bayes model\n",
        "complement_naive_bayse_model_CV = nv.ComplementNB()\n",
        "# training\n",
        "complement_naive_bayse_model_CV.fit(count_train, Y_train_ser)\n",
        "complement_Y_pred_CV = complement_naive_bayse_model_CV.predict(count_test)\n",
        "# accuracy\n",
        "complement_score_CV = metrics.accuracy_score(Y_test_ser, complement_Y_pred_CV)\n",
        "print(complement_score_CV)\n",
        "\n",
        "complement_cm_cv = metrics.confusion_matrix(Y_test_ser, complement_Y_pred_CV, labels=nbdf_filterd_labels)# gotta drop mixed and not rated\n",
        "print(complement_cm_cv)\n",
        "# drow heatmap for confusion matrix\n",
        "sns.heatmap(complement_cm_cv.T, square=False, annot=True, fmt='d', cbar=False, xticklabels=nbdf_filterd_labels, yticklabels=nbdf_filterd_labels)\n",
        "plt.xlabel('Actual')\n",
        "plt.ylabel('Prediction')"
      ],
      "metadata": {
        "colab": {
          "base_uri": "https://localhost:8080/",
          "height": 372
        },
        "id": "yKtwBfG32oHc",
        "outputId": "9adcf655-7631-4b76-d07c-7bf43af59c48"
      },
      "execution_count": null,
      "outputs": [
        {
          "output_type": "stream",
          "name": "stdout",
          "text": [
            "0.6645962732919255\n",
            "[[2942  907  754]\n",
            " [ 745 2905  882]\n",
            " [ 325  707 2713]]\n"
          ]
        },
        {
          "output_type": "execute_result",
          "data": {
            "text/plain": [
              "Text(30.5, 0.5, 'Prediction')"
            ]
          },
          "metadata": {},
          "execution_count": 71
        },
        {
          "output_type": "display_data",
          "data": {
            "text/plain": [
              "<Figure size 432x288 with 1 Axes>"
            ],
            "image/png": "[encoded data removed]"
          },
          "metadata": {}
        }
      ]
    },
    {
      "cell_type": "code",
      "source": [
        "# balanced data with undersampling\n",
        "complement_naive_bayse_model_CV_under = nv.ComplementNB()\n",
        "# training\n",
        "complement_naive_bayse_model_CV_under.fit(count_train_under, Y_train_under[\"bias_text\"])\n",
        "complement_Y_pred_CV_under = complement_naive_bayse_model_CV_under.predict(count_test_under)\n",
        "# accuracy\n",
        "complement_score_under = metrics.accuracy_score(Y_test_df[\"bias_text\"], complement_Y_pred_CV_under)\n",
        "print(complement_score_under)\n",
        "\n",
        "complement_cm_under = metrics.confusion_matrix(Y_test_ser, complement_Y_pred_CV_under, labels=nbdf_filterd_labels)\n",
        "print(complement_cm_under)\n",
        "# drow heatmap for confusion matrix\n",
        "sns.heatmap(complement_cm_under.T, square=False, annot=True, fmt='d', cbar=False, xticklabels=nbdf_filterd_labels, yticklabels=nbdf_filterd_labels)\n",
        "plt.xlabel('Actual')\n",
        "plt.ylabel('Prediction')"
      ],
      "metadata": {
        "colab": {
          "base_uri": "https://localhost:8080/",
          "height": 372
        },
        "id": "eapqnnUm3Lz9",
        "outputId": "200d09fd-be10-4cb9-828f-346a5c001d54"
      },
      "execution_count": null,
      "outputs": [
        {
          "output_type": "stream",
          "name": "stdout",
          "text": [
            "0.6566770186335403\n",
            "[[2742  932  929]\n",
            " [ 634 2855 1043]\n",
            " [ 245  639 2861]]\n"
          ]
        },
        {
          "output_type": "execute_result",
          "data": {
            "text/plain": [
              "Text(30.5, 0.5, 'Prediction')"
            ]
          },
          "metadata": {},
          "execution_count": 72
        },
        {
          "output_type": "display_data",
          "data": {
            "text/plain": [
              "<Figure size 432x288 with 1 Axes>"
            ],
            "image/png": "[encoded data removed]"
          },
          "metadata": {}
        }
      ]
    },
    {
      "cell_type": "code",
      "source": [
        "# balanced data with Oversampling\n",
        "complement_naive_bayse_model_CV_over = nv.ComplementNB()\n",
        "# training\n",
        "complement_naive_bayse_model_CV_over.fit(X_train_SMOTE, Y_train_SMOTE[\"bias_text\"])\n",
        "complement_Y_pred_CV_over = complement_naive_bayse_model_CV_over.predict(count_test)\n",
        "# accuracy\n",
        "complement_score_over = metrics.accuracy_score(Y_test_df[\"bias_text\"], complement_Y_pred_CV_over)\n",
        "print(complement_score_over)\n",
        "\n",
        "complement_cm_over = metrics.confusion_matrix(Y_test_ser, complement_Y_pred_CV_over, labels=nbdf_filterd_labels)\n",
        "print(complement_cm_over)\n",
        "# drow heatmap for confusion matrix\n",
        "sns.heatmap(complement_cm_over.T, square=False, annot=True, fmt='d', cbar=False, xticklabels=nbdf_filterd_labels, yticklabels=nbdf_filterd_labels)\n",
        "plt.xlabel('Actual')\n",
        "plt.ylabel('Prediction')"
      ],
      "metadata": {
        "colab": {
          "base_uri": "https://localhost:8080/",
          "height": 372
        },
        "id": "wDvVNADz3LsN",
        "outputId": "492e85f6-4879-4848-e682-d1c12e6c2893"
      },
      "execution_count": null,
      "outputs": [
        {
          "output_type": "stream",
          "name": "stdout",
          "text": [
            "0.662111801242236\n",
            "[[2868  891  844]\n",
            " [ 699 2878  955]\n",
            " [ 294  669 2782]]\n"
          ]
        },
        {
          "output_type": "execute_result",
          "data": {
            "text/plain": [
              "Text(30.5, 0.5, 'Prediction')"
            ]
          },
          "metadata": {},
          "execution_count": 73
        },
        {
          "output_type": "display_data",
          "data": {
            "text/plain": [
              "<Figure size 432x288 with 1 Axes>"
            ],
            "image/png": "[encoded data removed]"
          },
          "metadata": {}
        }
      ]
    },
    {
      "cell_type": "markdown",
      "source": [
        "Term frequency - Inverse Document Frequency"
      ],
      "metadata": {
        "id": "wG9a2k7N4WLr"
      }
    },
    {
      "cell_type": "code",
      "source": [
        "tfidf_vectorizer = TfidfVectorizer(stop_words=\"english\", max_df=0.7)\n",
        "\n",
        "# imbalance data\n",
        "tfidf_train = tfidf_vectorizer.fit_transform(X_train_ser.values)\n",
        "tfidf_test = tfidf_vectorizer.transform(X_test_ser.values)\n",
        "\n",
        "# balanced data with undersampling\n",
        "tfidf_train_under = tfidf_vectorizer.fit_transform(X_train_under[\"content\"].values)\n",
        "tfidf_test_under = tfidf_vectorizer.transform(X_test_df[\"content\"].values)"
      ],
      "metadata": {
        "id": "dsKZqqg9NqMs"
      },
      "execution_count": null,
      "outputs": []
    },
    {
      "cell_type": "code",
      "source": [
        "# define oversampling strategy\n",
        "smote_TF = SMOTE()\n",
        "\n",
        "# fit and apply the transform\n",
        "X_train_SMOTE_TF, Y_train_SMOTE_TF = smote_TF.fit_resample(tfidf_train, Y_train_df)"
      ],
      "metadata": {
        "id": "1HSVU9yN6lks"
      },
      "execution_count": null,
      "outputs": []
    },
    {
      "cell_type": "code",
      "source": [
        "# imbalanced model\n",
        "naive_bayse_model_TF = nv.MultinomialNB()\n",
        "# training\n",
        "naive_bayse_model_TF.fit(tfidf_train, Y_train_ser)\n",
        "Y_pred_TF = naive_bayse_model_TF.predict(tfidf_test)\n",
        "# accuracy\n",
        "score_TF = metrics.accuracy_score(Y_test_ser, Y_pred_TF)\n",
        "print(score_TF)\n",
        "\n",
        "cm_tf = metrics.confusion_matrix(Y_test_ser, Y_pred_TF, labels=nbdf_filterd_labels)# gotta drop mixed and not rated\n",
        "print(cm_tf)\n",
        "# drow heatmap for confusion matrix\n",
        "sns.heatmap(cm_tf.T, square=False, annot=True, fmt='d', cbar=False, xticklabels=nbdf_filterd_labels, yticklabels=nbdf_filterd_labels)\n",
        "plt.xlabel('Actual')\n",
        "plt.ylabel('Prediction')"
      ],
      "metadata": {
        "colab": {
          "base_uri": "https://localhost:8080/",
          "height": 372
        },
        "id": "QULJM5lxNPFv",
        "outputId": "8afaaec8-8b1e-4e62-9307-ce7c6319c645"
      },
      "execution_count": null,
      "outputs": [
        {
          "output_type": "stream",
          "name": "stdout",
          "text": [
            "0.5547360248447205\n",
            "[[3444 1122   37]\n",
            " [1168 3337   27]\n",
            " [1406 1975  364]]\n"
          ]
        },
        {
          "output_type": "execute_result",
          "data": {
            "text/plain": [
              "Text(30.5, 0.5, 'Prediction')"
            ]
          },
          "metadata": {},
          "execution_count": 76
        },
        {
          "output_type": "display_data",
          "data": {
            "text/plain": [
              "<Figure size 432x288 with 1 Axes>"
            ],
            "image/png": "[encoded data removed]"
          },
          "metadata": {}
        }
      ]
    },
    {
      "cell_type": "code",
      "source": [
        "# balanced data with undersampling\n",
        "naive_bayse_model_TF_under = nv.MultinomialNB()\n",
        "# training\n",
        "naive_bayse_model_TF_under.fit(tfidf_train_under, Y_train_under[\"bias_text\"])\n",
        "Y_pred_TF_under = naive_bayse_model_TF_under.predict(tfidf_test_under)\n",
        "# accuracy\n",
        "score_TF_under = metrics.accuracy_score(Y_test_df[\"bias_text\"], Y_pred_TF_under)\n",
        "print(score_TF_under)\n",
        "\n",
        "cm_TF_under = metrics.confusion_matrix(Y_test_ser, Y_pred_TF_under, labels=nbdf_filterd_labels)\n",
        "print(cm_TF_under)\n",
        "# drow heatmap for confusion matrix\n",
        "sns.heatmap(cm_TF_under.T, square=False, annot=True, fmt='d', cbar=False, xticklabels=nbdf_filterd_labels, yticklabels=nbdf_filterd_labels)\n",
        "plt.xlabel('Actual')\n",
        "plt.ylabel('Prediction')"
      ],
      "metadata": {
        "colab": {
          "base_uri": "https://localhost:8080/",
          "height": 372
        },
        "id": "zpixY9_r5sJ5",
        "outputId": "20f67204-6aab-433c-8b7f-47b1703e93a2"
      },
      "execution_count": null,
      "outputs": [
        {
          "output_type": "stream",
          "name": "stdout",
          "text": [
            "0.5835403726708075\n",
            "[[1720 1812 1071]\n",
            " [ 232 3320  980]\n",
            " [ 130 1139 2476]]\n"
          ]
        },
        {
          "output_type": "execute_result",
          "data": {
            "text/plain": [
              "Text(30.5, 0.5, 'Prediction')"
            ]
          },
          "metadata": {},
          "execution_count": 77
        },
        {
          "output_type": "display_data",
          "data": {
            "text/plain": [
              "<Figure size 432x288 with 1 Axes>"
            ],
            "image/png": "[encoded data removed]"
          },
          "metadata": {}
        }
      ]
    },
    {
      "cell_type": "code",
      "source": [
        "# balanced data with Oversampling\n",
        "naive_bayse_model_TF_over = nv.MultinomialNB()\n",
        "# training\n",
        "naive_bayse_model_TF_over.fit(X_train_SMOTE_TF, Y_train_SMOTE_TF[\"bias_text\"])\n",
        "Y_pred_TF_over = naive_bayse_model_TF_over.predict(tfidf_test)\n",
        "# accuracy\n",
        "score_over_TF = metrics.accuracy_score(Y_test_df[\"bias_text\"], Y_pred_TF_over)\n",
        "print(score_over_TF)\n",
        "\n",
        "cm_over_TF = metrics.confusion_matrix(Y_test_ser, Y_pred_TF_over, labels=nbdf_filterd_labels)\n",
        "print(cm_over_TF)\n",
        "# drow heatmap for confusion matrix\n",
        "sns.heatmap(cm_over_TF.T, square=False, annot=True, fmt='d', cbar=False, xticklabels=nbdf_filterd_labels, yticklabels=nbdf_filterd_labels)\n",
        "plt.xlabel('Actual')\n",
        "plt.ylabel('Prediction')"
      ],
      "metadata": {
        "colab": {
          "base_uri": "https://localhost:8080/",
          "height": 372
        },
        "id": "RNFrlpNE5yW-",
        "outputId": "cece992b-d0f8-4edf-b73a-e07f05706a3a"
      },
      "execution_count": null,
      "outputs": [
        {
          "output_type": "stream",
          "name": "stdout",
          "text": [
            "0.584860248447205\n",
            "[[1713 1759 1131]\n",
            " [ 237 3289 1006]\n",
            " [ 127 1087 2531]]\n"
          ]
        },
        {
          "output_type": "execute_result",
          "data": {
            "text/plain": [
              "Text(30.5, 0.5, 'Prediction')"
            ]
          },
          "metadata": {},
          "execution_count": 78
        },
        {
          "output_type": "display_data",
          "data": {
            "text/plain": [
              "<Figure size 432x288 with 1 Axes>"
            ],
            "image/png": "[encoded data removed]"
          },
          "metadata": {}
        }
      ]
    },
    {
      "cell_type": "code",
      "source": [
        "# imbalanced model\n",
        "complement_naive_bayse_model_TF = nv.ComplementNB()\n",
        "# training\n",
        "complement_naive_bayse_model_TF.fit(tfidf_train, Y_train_ser)\n",
        "complement_Y_pred_TF = complement_naive_bayse_model_TF.predict(tfidf_test)\n",
        "# accuracy\n",
        "complement_score_TF = metrics.accuracy_score(Y_test_ser, complement_Y_pred_TF)\n",
        "print(complement_score_TF)\n",
        "\n",
        "complement_cm_TF = metrics.confusion_matrix(Y_test_ser, complement_Y_pred_TF, labels=nbdf_filterd_labels)# gotta drop mixed and not rated\n",
        "print(complement_cm_TF)\n",
        "# drow heatmap for confusion matrix\n",
        "sns.heatmap(complement_cm_TF.T, square=False, annot=True, fmt='d', cbar=False, xticklabels=nbdf_filterd_labels, yticklabels=nbdf_filterd_labels)\n",
        "plt.xlabel('Actual')\n",
        "plt.ylabel('Prediction')"
      ],
      "metadata": {
        "colab": {
          "base_uri": "https://localhost:8080/",
          "height": 372
        },
        "id": "LY19ecOw725z",
        "outputId": "98d6f1c0-72ac-42a6-9dcd-541b5ba51a6a"
      },
      "execution_count": null,
      "outputs": [
        {
          "output_type": "stream",
          "name": "stdout",
          "text": [
            "0.6045807453416149\n",
            "[[3379 1072  152]\n",
            " [1022 3368  142]\n",
            " [1080 1625 1040]]\n"
          ]
        },
        {
          "output_type": "execute_result",
          "data": {
            "text/plain": [
              "Text(30.5, 0.5, 'Prediction')"
            ]
          },
          "metadata": {},
          "execution_count": 79
        },
        {
          "output_type": "display_data",
          "data": {
            "text/plain": [
              "<Figure size 432x288 with 1 Axes>"
            ],
            "image/png": "[encoded data removed]"
          },
          "metadata": {}
        }
      ]
    },
    {
      "cell_type": "code",
      "source": [
        "# balanced data with undersampling\n",
        "complement_naive_bayse_model_TF_under = nv.ComplementNB()\n",
        "# training\n",
        "complement_naive_bayse_model_TF_under.fit(tfidf_train_under, Y_train_under[\"bias_text\"])\n",
        "complement_Y_pred_TF_under = complement_naive_bayse_model_TF_under.predict(tfidf_test_under)\n",
        "# accuracy\n",
        "complement_score_under_TF = metrics.accuracy_score(Y_test_df[\"bias_text\"], complement_Y_pred_TF_under)\n",
        "print(complement_score_under_TF)\n",
        "\n",
        "complement_cm_under_TF = metrics.confusion_matrix(Y_test_ser, complement_Y_pred_TF_under, labels=nbdf_filterd_labels)\n",
        "print(complement_cm_under_TF)\n",
        "# drow heatmap for confusion matrix\n",
        "sns.heatmap(complement_cm_under_TF.T, square=False, annot=True, fmt='d', cbar=False, xticklabels=nbdf_filterd_labels, yticklabels=nbdf_filterd_labels)\n",
        "plt.xlabel('Actual')\n",
        "plt.ylabel('Prediction')"
      ],
      "metadata": {
        "colab": {
          "base_uri": "https://localhost:8080/",
          "height": 372
        },
        "id": "PZogEUay75LR",
        "outputId": "b8899cff-e9df-475b-85a7-a311db96654d"
      },
      "execution_count": null,
      "outputs": [
        {
          "output_type": "stream",
          "name": "stdout",
          "text": [
            "0.6201086956521739\n",
            "[[2137 1429 1037]\n",
            " [ 329 3171 1032]\n",
            " [ 166  900 2679]]\n"
          ]
        },
        {
          "output_type": "execute_result",
          "data": {
            "text/plain": [
              "Text(30.5, 0.5, 'Prediction')"
            ]
          },
          "metadata": {},
          "execution_count": 80
        },
        {
          "output_type": "display_data",
          "data": {
            "text/plain": [
              "<Figure size 432x288 with 1 Axes>"
            ],
            "image/png": "[encoded data removed]"
          },
          "metadata": {}
        }
      ]
    },
    {
      "cell_type": "code",
      "source": [
        "# balanced data with Oversampling\n",
        "complement_naive_bayse_model_TF_over = nv.ComplementNB()\n",
        "# training\n",
        "complement_naive_bayse_model_TF_over.fit(X_train_SMOTE_TF, Y_train_SMOTE_TF[\"bias_text\"])\n",
        "complement_Y_pred_TF_over = complement_naive_bayse_model_TF_over.predict(tfidf_test)\n",
        "# accuracy\n",
        "complement_score_over_TF = metrics.accuracy_score(Y_test_df[\"bias_text\"], complement_Y_pred_TF_over)\n",
        "print(complement_score_over_TF)\n",
        "\n",
        "complement_cm_over_TF = metrics.confusion_matrix(Y_test_ser, complement_Y_pred_TF_over, labels=nbdf_filterd_labels)\n",
        "print(complement_cm_over_TF)\n",
        "# drow heatmap for confusion matrix\n",
        "sns.heatmap(complement_cm_over_TF.T, square=False, annot=True, fmt='d', cbar=False, xticklabels=nbdf_filterd_labels, yticklabels=nbdf_filterd_labels)\n",
        "plt.xlabel('Actual')\n",
        "plt.ylabel('Prediction')"
      ],
      "metadata": {
        "colab": {
          "base_uri": "https://localhost:8080/",
          "height": 372
        },
        "id": "aoNhtr4n77W8",
        "outputId": "0c0d6cc0-4515-4b7b-ba33-f7b0da7ae2ae"
      },
      "execution_count": null,
      "outputs": [
        {
          "output_type": "stream",
          "name": "stdout",
          "text": [
            "0.6227484472049689\n",
            "[[2124 1393 1086]\n",
            " [ 332 3159 1041]\n",
            " [ 168  839 2738]]\n"
          ]
        },
        {
          "output_type": "execute_result",
          "data": {
            "text/plain": [
              "Text(30.5, 0.5, 'Prediction')"
            ]
          },
          "metadata": {},
          "execution_count": 81
        },
        {
          "output_type": "display_data",
          "data": {
            "text/plain": [
              "<Figure size 432x288 with 1 Axes>"
            ],
            "image/png": "[encoded data removed]"
          },
          "metadata": {}
        }
      ]
    },
    {
      "cell_type": "markdown",
      "source": [
        "Support Vecter Machine"
      ],
      "metadata": {
        "id": "BHFFQzgz-L8l"
      }
    },
    {
      "cell_type": "markdown",
      "source": [
        "Imbalance data, count vector, linear 5 hours"
      ],
      "metadata": {
        "id": "7lJIhtgjtXD7"
      }
    },
    {
      "cell_type": "code",
      "source": [
        "# imbalanced model\n",
        "linear_svm_CV = svm.SVC(C=1, kernel='linear')\n",
        "# training\n",
        "linear_svm_CV.fit(count_train, Y_train_ser)\n",
        "Y_pred_linear_svm_CV = linear_svm_CV.predict(count_test)\n",
        "# accuracy\n",
        "score_linear_svm_CV = metrics.accuracy_score(Y_test_ser, Y_pred_linear_svm_CV)\n",
        "print(score_linear_svm_CV)\n",
        "\n",
        "cm_linear_svm_cv = metrics.confusion_matrix(Y_test_ser, Y_pred_linear_svm_CV, labels=nbdf_filterd_labels)# gotta drop mixed and not rated\n",
        "print(cm_linear_svm_cv)\n",
        "# drow heatmap for confusion matrix\n",
        "sns.heatmap(cm_linear_svm_cv.T, square=False, annot=True, fmt='d', cbar=False, xticklabels=nbdf_filterd_labels, yticklabels=nbdf_filterd_labels)\n",
        "plt.xlabel('Actual')\n",
        "plt.ylabel('Prediction')"
      ],
      "metadata": {
        "id": "O-mN6Z01-gw-",
        "colab": {
          "base_uri": "https://localhost:8080/",
          "height": 372
        },
        "outputId": "5023a6e2-d6fd-4932-8443-7c495695f704"
      },
      "execution_count": null,
      "outputs": [
        {
          "output_type": "stream",
          "name": "stdout",
          "text": [
            "0.7330745341614907\n",
            "[[3403  703  497]\n",
            " [ 728 3170  634]\n",
            " [ 408  468 2869]]\n"
          ]
        },
        {
          "output_type": "execute_result",
          "data": {
            "text/plain": [
              "Text(30.5, 0.5, 'Prediction')"
            ]
          },
          "metadata": {},
          "execution_count": 82
        },
        {
          "output_type": "display_data",
          "data": {
            "text/plain": [
              "<Figure size 432x288 with 1 Axes>"
            ],
            "image/png": "[encoded data removed]"
          },
          "metadata": {}
        }
      ]
    },
    {
      "cell_type": "markdown",
      "source": [
        "balanced data with undersampling, count vector, linear took 2hours 47mins"
      ],
      "metadata": {
        "id": "Een-3ieFTqpD"
      }
    },
    {
      "cell_type": "code",
      "source": [
        "# balanced data with undersampling\n",
        "linear_svm_CV_under = svm.SVC(C=1, kernel='linear')\n",
        "# training\n",
        "linear_svm_CV_under.fit(count_train_under, Y_train_under[\"bias_text\"])\n",
        "Y_pred_linear_svm_CV_under = linear_svm_CV_under.predict(count_test_under)\n",
        "# accuracy\n",
        "score_linear_svm_CV_under = metrics.accuracy_score(Y_test_df[\"bias_text\"], Y_pred_linear_svm_CV_under)\n",
        "print(score_linear_svm_CV_under)\n",
        "\n",
        "cm_linear_svm_cv_under = metrics.confusion_matrix(Y_test_ser, Y_pred_linear_svm_CV_under, labels=nbdf_filterd_labels)# gotta drop mixed and not rated\n",
        "print(cm_linear_svm_cv_under)\n",
        "# drow heatmap for confusion matrix\n",
        "sns.heatmap(cm_linear_svm_cv_under.T, square=False, annot=True, fmt='d', cbar=False, xticklabels=nbdf_filterd_labels, yticklabels=nbdf_filterd_labels)\n",
        "plt.xlabel('Actual')n\n",
        "plt.ylabel('Prediction')"
      ],
      "metadata": {
        "colab": {
          "base_uri": "https://localhost:8080/",
          "height": 372
        },
        "id": "DP_HM5OOoiIn",
        "outputId": "02ae404f-3099-4429-cba0-9b97c4d841b2"
      },
      "execution_count": null,
      "outputs": [
        {
          "output_type": "stream",
          "name": "stdout",
          "text": [
            "0.7273291925465839\n",
            "[[3279  734  590]\n",
            " [ 671 3174  687]\n",
            " [ 387  443 2915]]\n"
          ]
        },
        {
          "output_type": "execute_result",
          "data": {
            "text/plain": [
              "Text(30.5, 0.5, 'Prediction')"
            ]
          },
          "metadata": {},
          "execution_count": 83
        },
        {
          "output_type": "display_data",
          "data": {
            "text/plain": [
              "<Figure size 432x288 with 1 Axes>"
            ],
            "image/png": "[encoded data removed]"
          },
          "metadata": {}
        }
      ]
    },
    {
      "cell_type": "markdown",
      "source": [
        "balanced data with oversampling, count vector, linear"
      ],
      "metadata": {
        "id": "_XY5aTdJUAy5"
      }
    },
    {
      "cell_type": "code",
      "source": [
        "# balanced data with Oversampling\n",
        "linear_svm_CV_over = svm.SVC(C=1, kernel='linear')\n",
        "# training\n",
        "linear_svm_CV_over.fit(X_train_SMOTE, Y_train_SMOTE[\"bias_text\"])\n",
        "Y_pred_linear_svm_CV_over = linear_svm_CV_over.predict(count_test)\n",
        "# accuracy\n",
        "score_linear_svm_CV_over = metrics.accuracy_score(Y_test_df[\"bias_text\"], Y_pred_linear_svm_CV_over)\n",
        "print(score_linear_svm_CV_over)\n",
        "\n",
        "cm_linear_svm_cv_over = metrics.confusion_matrix(Y_test_ser, Y_pred_linear_svm_CV_over, labels=nbdf_filterd_labels)# gotta drop mixed and not rated\n",
        "print(cm_linear_svm_cv_over)\n",
        "# drow heatmap for confusion matrix\n",
        "sns.heatmap(cm_linear_svm_cv_over.T, square=False, annot=True, fmt='d', cbar=False, xticklabels=nbdf_filterd_labels, yticklabels=nbdf_filterd_labels)\n",
        "plt.xlabel('Actual')\n",
        "plt.ylabel('Prediction')"
      ],
      "metadata": {
        "colab": {
          "base_uri": "https://localhost:8080/",
          "height": 372
        },
        "id": "GEunH5w6qZjo",
        "outputId": "6bb8f8de-974b-4ec7-9c0f-f58a6095e72e"
      },
      "execution_count": null,
      "outputs": [
        {
          "output_type": "stream",
          "name": "stdout",
          "text": [
            "0.6989906832298136\n",
            "[[3249  719  635]\n",
            " [ 804 3002  726]\n",
            " [ 479  514 2752]]\n"
          ]
        },
        {
          "output_type": "execute_result",
          "data": {
            "text/plain": [
              "Text(30.5, 0.5, 'Prediction')"
            ]
          },
          "metadata": {},
          "execution_count": 25
        },
        {
          "output_type": "display_data",
          "data": {
            "text/plain": [
              "<Figure size 432x288 with 1 Axes>"
            ],
            "image/png": "[encoded data removed]"
          },
          "metadata": {}
        }
      ]
    },
    {
      "cell_type": "markdown",
      "source": [
        "imbalanced data, count vector, polynomial took 2hours 47mins"
      ],
      "metadata": {
        "id": "5rP9I0jjUDOG"
      }
    },
    {
      "cell_type": "code",
      "source": [
        "# imbalanced model\n",
        "poly_svm_CV = svm.SVC(C=1, kernel='poly')\n",
        "# training\n",
        "poly_svm_CV.fit(count_train, Y_train_ser)\n",
        "Y_pred_poly_svm_CV = poly_svm_CV.predict(count_test)\n",
        "# accuracy\n",
        "score_poly_svm_CV = metrics.accuracy_score(Y_test_ser, Y_pred_poly_svm_CV)\n",
        "print(score_poly_svm_CV)\n",
        "\n",
        "cm_poly_svm_cv = metrics.confusion_matrix(Y_test_ser, Y_pred_poly_svm_CV, labels=nbdf_filterd_labels)# gotta drop mixed and not rated\n",
        "print(cm_poly_svm_cv)\n",
        "# drow heatmap for confusion matrix\n",
        "sns.heatmap(cm_poly_svm_cv.T, square=False, annot=True, fmt='d', cbar=False, xticklabels=nbdf_filterd_labels, yticklabels=nbdf_filterd_labels)\n",
        "plt.xlabel('Actual')\n",
        "plt.ylabel('Prediction')"
      ],
      "metadata": {
        "id": "vRWjspIOOmrc",
        "colab": {
          "base_uri": "https://localhost:8080/",
          "height": 372
        },
        "outputId": "af6debb8-2a0e-4c27-9233-e45de25771c3"
      },
      "execution_count": null,
      "outputs": [
        {
          "output_type": "stream",
          "name": "stdout",
          "text": [
            "0.4876552795031056\n",
            "[[4355  117  131]\n",
            " [3121 1112  299]\n",
            " [2788  143  814]]\n"
          ]
        },
        {
          "output_type": "execute_result",
          "data": {
            "text/plain": [
              "Text(30.5, 0.5, 'Prediction')"
            ]
          },
          "metadata": {},
          "execution_count": 26
        },
        {
          "output_type": "display_data",
          "data": {
            "text/plain": [
              "<Figure size 432x288 with 1 Axes>"
            ],
            "image/png": "[encoded data removed]"
          },
          "metadata": {}
        }
      ]
    },
    {
      "cell_type": "markdown",
      "source": [
        "balanced data with undersampling, count vector, polynomial"
      ],
      "metadata": {
        "id": "Oqthd-IaUMtz"
      }
    },
    {
      "cell_type": "code",
      "source": [
        "# balanced data with undersampling\n",
        "poly_svm_CV_under = svm.SVC(C=1, kernel='poly')\n",
        "# training\n",
        "poly_svm_CV_under.fit(count_train_under, Y_train_under[\"bias_text\"])\n",
        "Y_pred_poly_svm_CV_under = poly_svm_CV_under.predict(count_test_under)\n",
        "# accuracy\n",
        "score_poly_svm_CV_under = metrics.accuracy_score(Y_test_df[\"bias_text\"], Y_pred_poly_svm_CV_under)\n",
        "print(score_poly_svm_CV_under)\n",
        "\n",
        "cm_poly_svm_cv_under = metrics.confusion_matrix(Y_test_ser, Y_pred_poly_svm_CV_under, labels=nbdf_filterd_labels)# gotta drop mixed and not rated\n",
        "print(cm_poly_svm_cv_under)\n",
        "# drow heatmap for confusion matrix\n",
        "sns.heatmap(cm_poly_svm_cv_under.T, square=False, annot=True, fmt='d', cbar=False, xticklabels=nbdf_filterd_labels, yticklabels=nbdf_filterd_labels)\n",
        "plt.xlabel('Actual')\n",
        "plt.ylabel('Prediction')"
      ],
      "metadata": {
        "colab": {
          "base_uri": "https://localhost:8080/",
          "height": 372
        },
        "id": "Yf6cTwaNpCrH",
        "outputId": "d72ae4a8-6f97-4950-f355-2d4d7fb33835"
      },
      "execution_count": null,
      "outputs": [
        {
          "output_type": "stream",
          "name": "stdout",
          "text": [
            "0.49138198757763973\n",
            "[[4319  151  133]\n",
            " [3114 1089  329]\n",
            " [2703  121  921]]\n"
          ]
        },
        {
          "output_type": "execute_result",
          "data": {
            "text/plain": [
              "Text(30.5, 0.5, 'Prediction')"
            ]
          },
          "metadata": {},
          "execution_count": 27
        },
        {
          "output_type": "display_data",
          "data": {
            "text/plain": [
              "<Figure size 432x288 with 1 Axes>"
            ],
            "image/png": "[encoded data removed]"
          },
          "metadata": {}
        }
      ]
    },
    {
      "cell_type": "markdown",
      "source": [
        "balanced data with oversampling, count vector, polynomial"
      ],
      "metadata": {
        "id": "4aZRz3iTUQLy"
      }
    },
    {
      "cell_type": "code",
      "source": [
        "# balanced data with Oversampling\n",
        "poly_svm_CV_over = svm.SVC(C=1, kernel='poly')\n",
        "# training\n",
        "poly_svm_CV_over.fit(X_train_SMOTE, Y_train_SMOTE[\"bias_text\"])\n",
        "Y_pred_poly_svm_CV_over = poly_svm_CV_over.predict(count_test)\n",
        "# accuracy\n",
        "score_poly_svm_CV_over = metrics.accuracy_score(Y_test_df[\"bias_text\"], Y_pred_poly_svm_CV_over)\n",
        "print(score_poly_svm_CV_over)\n",
        "\n",
        "cm_poly_svm_cv_over = metrics.confusion_matrix(Y_test_ser, Y_pred_poly_svm_CV_over, labels=nbdf_filterd_labels)# gotta drop mixed and not rated\n",
        "print(cm_poly_svm_cv_over)\n",
        "# drow heatmap for confusion matrix\n",
        "sns.heatmap(cm_poly_svm_cv_over.T, square=False, annot=True, fmt='d', cbar=False, xticklabels=nbdf_filterd_labels, yticklabels=nbdf_filterd_labels)\n",
        "plt.xlabel('Actual')\n",
        "plt.ylabel('Prediction')"
      ],
      "metadata": {
        "colab": {
          "base_uri": "https://localhost:8080/",
          "height": 372
        },
        "id": "N-ssw6Kkqwun",
        "outputId": "a67b6264-8f2d-4638-837f-3cf7f959195a"
      },
      "execution_count": null,
      "outputs": [
        {
          "output_type": "stream",
          "name": "stdout",
          "text": [
            "0.5066770186335404\n",
            "[[4333  168  102]\n",
            " [3029 1229  274]\n",
            " [2594  187  964]]\n"
          ]
        },
        {
          "output_type": "execute_result",
          "data": {
            "text/plain": [
              "Text(30.5, 0.5, 'Prediction')"
            ]
          },
          "metadata": {},
          "execution_count": 28
        },
        {
          "output_type": "display_data",
          "data": {
            "text/plain": [
              "<Figure size 432x288 with 1 Axes>"
            ],
            "image/png": "[encoded data removed]"
          },
          "metadata": {}
        }
      ]
    },
    {
      "cell_type": "markdown",
      "source": [
        "imbalanced data, count vector, rbf"
      ],
      "metadata": {
        "id": "BIrb26DmUW6F"
      }
    },
    {
      "cell_type": "code",
      "source": [
        "# imbalanced model\n",
        "rbf_svm_CV = svm.SVC(C=1, kernel='rbf')\n",
        "# training\n",
        "rbf_svm_CV.fit(count_train, Y_train_ser)\n",
        "Y_pred_rbf_svm_CV = rbf_svm_CV.predict(count_test)\n",
        "# accuracy\n",
        "score_rbf_svm_CV = metrics.accuracy_score(Y_test_ser, Y_pred_rbf_svm_CV)\n",
        "print(score_rbf_svm_CV)\n",
        "\n",
        "cm_rbf_svm_cv = metrics.confusion_matrix(Y_test_ser, Y_pred_rbf_svm_CV, labels=nbdf_filterd_labels)# gotta drop mixed and not rated\n",
        "print(cm_rbf_svm_cv)\n",
        "# drow heatmap for confusion matrix\n",
        "sns.heatmap(cm_rbf_svm_cv.T, square=False, annot=True, fmt='d', cbar=False, xticklabels=nbdf_filterd_labels, yticklabels=nbdf_filterd_labels)\n",
        "plt.xlabel('Actual')\n",
        "plt.ylabel('Prediction')"
      ],
      "metadata": {
        "id": "SHL7QXloOmjX",
        "colab": {
          "base_uri": "https://localhost:8080/",
          "height": 372
        },
        "outputId": "7c2e64b1-755e-4458-b6b6-7a9c3250408e"
      },
      "execution_count": null,
      "outputs": [
        {
          "output_type": "stream",
          "name": "stdout",
          "text": [
            "0.7481366459627329\n",
            "[[3784  562  257]\n",
            " [ 923 3282  327]\n",
            " [ 634  541 2570]]\n"
          ]
        },
        {
          "output_type": "execute_result",
          "data": {
            "text/plain": [
              "Text(30.5, 0.5, 'Prediction')"
            ]
          },
          "metadata": {},
          "execution_count": 29
        },
        {
          "output_type": "display_data",
          "data": {
            "text/plain": [
              "<Figure size 432x288 with 1 Axes>"
            ],
            "image/png": "[encoded data removed]"
          },
          "metadata": {}
        }
      ]
    },
    {
      "cell_type": "markdown",
      "source": [
        "balanced data with undersampling, count vector, rbf 56min"
      ],
      "metadata": {
        "id": "4FsybnRAUatn"
      }
    },
    {
      "cell_type": "code",
      "source": [
        "# balanced data with undersampling\n",
        "rbf_svm_CV_under = svm.SVC(C=1, kernel='rbf')\n",
        "# training\n",
        "rbf_svm_CV_under.fit(count_train_under, Y_train_under[\"bias_text\"])\n",
        "Y_pred_rbf_svm_CV_under = rbf_svm_CV_under.predict(count_test_under)\n",
        "# accuracy\n",
        "score_rbf_svm_CV_under = metrics.accuracy_score(Y_test_df[\"bias_text\"], Y_pred_rbf_svm_CV_under)\n",
        "print(score_rbf_svm_CV_under)\n",
        "\n",
        "cm_rbf_svm_cv_under = metrics.confusion_matrix(Y_test_ser, Y_pred_rbf_svm_CV_under, labels=nbdf_filterd_labels)# gotta drop mixed and not rated\n",
        "print(cm_rbf_svm_cv_under)\n",
        "# drow heatmap for confusion matrix\n",
        "sns.heatmap(cm_rbf_svm_cv_under.T, square=False, annot=True, fmt='d', cbar=False, xticklabels=nbdf_filterd_labels, yticklabels=nbdf_filterd_labels)\n",
        "plt.xlabel('Actual')\n",
        "plt.ylabel('Prediction')"
      ],
      "metadata": {
        "colab": {
          "base_uri": "https://localhost:8080/",
          "height": 372
        },
        "id": "lRE0XYogpdUI",
        "outputId": "adcd9ee8-470f-451e-e16e-82d2f3f6c25e"
      },
      "execution_count": null,
      "outputs": [
        {
          "output_type": "stream",
          "name": "stdout",
          "text": [
            "0.7443322981366459\n",
            "[[3639  599  365]\n",
            " [ 857 3211  464]\n",
            " [ 517  491 2737]]\n"
          ]
        },
        {
          "output_type": "execute_result",
          "data": {
            "text/plain": [
              "Text(30.5, 0.5, 'Prediction')"
            ]
          },
          "metadata": {},
          "execution_count": 31
        },
        {
          "output_type": "display_data",
          "data": {
            "text/plain": [
              "<Figure size 432x288 with 1 Axes>"
            ],
            "image/png": "[encoded data removed]"
          },
          "metadata": {}
        }
      ]
    },
    {
      "cell_type": "markdown",
      "source": [
        "balanced data with oversampling, count vector, rbf took 2hours 20mins"
      ],
      "metadata": {
        "id": "YuBnG3TYUdiu"
      }
    },
    {
      "cell_type": "code",
      "source": [
        "# balanced data with Oversampling\n",
        "rbf_svm_CV_over = svm.SVC(C=1, kernel='rbf')\n",
        "# training\n",
        "rbf_svm_CV_over.fit(X_train_SMOTE, Y_train_SMOTE[\"bias_text\"])\n",
        "Y_pred_rbf_svm_CV_over = rbf_svm_CV_over.predict(count_test)\n",
        "# accuracy\n",
        "score_rbf_svm_CV_over = metrics.accuracy_score(Y_test_df[\"bias_text\"], Y_pred_rbf_svm_CV_over)\n",
        "print(score_rbf_svm_CV_over)\n",
        "\n",
        "cm_rbf_svm_cv_over = metrics.confusion_matrix(Y_test_ser, Y_pred_rbf_svm_CV_over, labels=nbdf_filterd_labels)# gotta drop mixed and not rated\n",
        "print(cm_rbf_svm_cv_over)\n",
        "# drow heatmap for confusion matrix\n",
        "sns.heatmap(cm_rbf_svm_cv_over.T, square=False, annot=True, fmt='d', cbar=False, xticklabels=nbdf_filterd_labels, yticklabels=nbdf_filterd_labels)\n",
        "plt.xlabel('Actual')\n",
        "plt.ylabel('Prediction')"
      ],
      "metadata": {
        "colab": {
          "base_uri": "https://localhost:8080/",
          "height": 372
        },
        "id": "l-dg9WAorTdm",
        "outputId": "988dd208-24e5-45e6-85d9-ba9faab81b57"
      },
      "execution_count": null,
      "outputs": [
        {
          "output_type": "stream",
          "name": "stdout",
          "text": [
            "0.7458850931677019\n",
            "[[3540  594  469]\n",
            " [ 689 3320  523]\n",
            " [ 455  543 2747]]\n"
          ]
        },
        {
          "output_type": "execute_result",
          "data": {
            "text/plain": [
              "Text(30.5, 0.5, 'Prediction')"
            ]
          },
          "metadata": {},
          "execution_count": 26
        },
        {
          "output_type": "display_data",
          "data": {
            "text/plain": [
              "<Figure size 432x288 with 1 Axes>"
            ],
            "image/png": "[encoded data removed]"
          },
          "metadata": {}
        }
      ]
    },
    {
      "cell_type": "markdown",
      "source": [
        "imbalanced data, count vector, sigmoid took 1hours 10mins"
      ],
      "metadata": {
        "id": "BeuALH6cUgoW"
      }
    },
    {
      "cell_type": "code",
      "source": [
        "# imbalanced model\n",
        "sig_svm_CV = svm.SVC(C=1, kernel='sigmoid')\n",
        "# training\n",
        "sig_svm_CV.fit(count_train, Y_train_ser)\n",
        "Y_pred_sig_svm_CV = sig_svm_CV.predict(count_test)\n",
        "# accuracy\n",
        "score_sig_svm_CV = metrics.accuracy_score(Y_test_ser, Y_pred_sig_svm_CV)\n",
        "print(score_sig_svm_CV)\n",
        "\n",
        "cm_sig_svm_cv = metrics.confusion_matrix(Y_test_ser, Y_pred_sig_svm_CV, labels=nbdf_filterd_labels)# gotta drop mixed and not rated\n",
        "print(cm_sig_svm_cv)\n",
        "# drow heatmap for confusion matrix\n",
        "sns.heatmap(cm_sig_svm_cv.T, square=False, annot=True, fmt='d', cbar=False, xticklabels=nbdf_filterd_labels, yticklabels=nbdf_filterd_labels)\n",
        "plt.xlabel('Actual')\n",
        "plt.ylabel('Prediction')"
      ],
      "metadata": {
        "id": "t4acqfsUPXGi",
        "colab": {
          "base_uri": "https://localhost:8080/",
          "height": 372
        },
        "outputId": "6c5573d1-382a-41e8-fe2a-d2ed77a731ce"
      },
      "execution_count": null,
      "outputs": [
        {
          "output_type": "stream",
          "name": "stdout",
          "text": [
            "0.507919254658385\n",
            "[[2808 1447  348]\n",
            " [1679 2505  348]\n",
            " [1032 1484 1229]]\n"
          ]
        },
        {
          "output_type": "execute_result",
          "data": {
            "text/plain": [
              "Text(30.5, 0.5, 'Prediction')"
            ]
          },
          "metadata": {},
          "execution_count": 27
        },
        {
          "output_type": "display_data",
          "data": {
            "text/plain": [
              "<Figure size 432x288 with 1 Axes>"
            ],
            "image/png": "[encoded data removed]"
          },
          "metadata": {}
        }
      ]
    },
    {
      "cell_type": "markdown",
      "source": [
        "balanced data with undersampling, count vector, sigmoid took 42mins"
      ],
      "metadata": {
        "id": "y3ekB1PKUjFB"
      }
    },
    {
      "cell_type": "code",
      "source": [
        "# balanced data with undersampling\n",
        "sig_svm_CV_under = svm.SVC(C=1, kernel='sigmoid')\n",
        "# training\n",
        "sig_svm_CV_under.fit(count_train_under, Y_train_under[\"bias_text\"])\n",
        "Y_pred_sig_svm_CV_under = sig_svm_CV_under.predict(count_test_under)\n",
        "# accuracy\n",
        "score_sig_svm_CV_under = metrics.accuracy_score(Y_test_df[\"bias_text\"], Y_pred_sig_svm_CV_under)\n",
        "print(score_sig_svm_CV_under)\n",
        "\n",
        "cm_sig_svm_cv_under = metrics.confusion_matrix(Y_test_ser, Y_pred_sig_svm_CV_under, labels=nbdf_filterd_labels)# gotta drop mixed and not rated\n",
        "print(cm_sig_svm_cv_under)\n",
        "# drow heatmap for confusion matrix\n",
        "sns.heatmap(cm_sig_svm_cv_under.T, square=False, annot=True, fmt='d', cbar=False, xticklabels=nbdf_filterd_labels, yticklabels=nbdf_filterd_labels)\n",
        "plt.xlabel('Actual')\n",
        "plt.ylabel('Prediction')"
      ],
      "metadata": {
        "colab": {
          "base_uri": "https://localhost:8080/",
          "height": 372
        },
        "id": "KxZ6Xwjspv26",
        "outputId": "c1cae1e1-e2e3-4563-e5a1-1094ab946d44"
      },
      "execution_count": null,
      "outputs": [
        {
          "output_type": "stream",
          "name": "stdout",
          "text": [
            "0.5329192546583851\n",
            "[[2308 1465  830]\n",
            " [ 834 2468 1230]\n",
            " [ 315 1342 2088]]\n"
          ]
        },
        {
          "output_type": "execute_result",
          "data": {
            "text/plain": [
              "Text(30.5, 0.5, 'Prediction')"
            ]
          },
          "metadata": {},
          "execution_count": 28
        },
        {
          "output_type": "display_data",
          "data": {
            "text/plain": [
              "<Figure size 432x288 with 1 Axes>"
            ],
            "image/png": "[encoded data removed]"
          },
          "metadata": {}
        }
      ]
    },
    {
      "cell_type": "markdown",
      "source": [
        "balanced data with oversampling, count vector, sigmoid took 2hours 47mins"
      ],
      "metadata": {
        "id": "O-QaV9mjUlsc"
      }
    },
    {
      "cell_type": "code",
      "source": [
        "# balanced data with Oversampling\n",
        "sig_svm_CV_over = svm.SVC(C=1, kernel='sigmoid')\n",
        "# training\n",
        "sig_svm_CV_over.fit(X_train_SMOTE, Y_train_SMOTE[\"bias_text\"])\n",
        "Y_pred_sig_svm_CV_over = sig_svm_CV_over.predict(count_test)\n",
        "# accuracy\n",
        "score_sig_svm_CV_over = metrics.accuracy_score(Y_test_df[\"bias_text\"], Y_pred_sig_svm_CV_over)\n",
        "print(score_sig_svm_CV_over)\n",
        "\n",
        "cm_sig_svm_cv_over = metrics.confusion_matrix(Y_test_ser, Y_pred_sig_svm_CV_over, labels=nbdf_filterd_labels)# gotta drop mixed and not rated\n",
        "print(cm_sig_svm_cv_over)\n",
        "# drow heatmap for confusion matrix\n",
        "sns.heatmap(cm_sig_svm_cv_over.T, square=False, annot=True, fmt='d', cbar=False, xticklabels=nbdf_filterd_labels, yticklabels=nbdf_filterd_labels)\n",
        "plt.xlabel('Actual')\n",
        "plt.ylabel('Prediction')"
      ],
      "metadata": {
        "colab": {
          "base_uri": "https://localhost:8080/",
          "height": 372
        },
        "id": "QftiRDxhrkIq",
        "outputId": "c0aa7d9c-85a4-4587-d43a-8412a7b7895c"
      },
      "execution_count": null,
      "outputs": [
        {
          "output_type": "stream",
          "name": "stdout",
          "text": [
            "0.49759316770186335\n",
            "[[2482 1570  551]\n",
            " [1467 2553  512]\n",
            " [ 835 1536 1374]]\n"
          ]
        },
        {
          "output_type": "execute_result",
          "data": {
            "text/plain": [
              "Text(30.5, 0.5, 'Prediction')"
            ]
          },
          "metadata": {},
          "execution_count": 29
        },
        {
          "output_type": "display_data",
          "data": {
            "text/plain": [
              "<Figure size 432x288 with 1 Axes>"
            ],
            "image/png": "[encoded data removed]"
          },
          "metadata": {}
        }
      ]
    }
  ]
}