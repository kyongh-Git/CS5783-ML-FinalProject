{
 "cells": [
  {
   "cell_type": "code",
   "execution_count": 1,
   "metadata": {
    "colab": {
     "base_uri": "https://localhost:8080/"
    },
    "id": "ZvmfUbLNDeGu",
    "outputId": "3f734007-5996-441e-c3ff-d5047968db8a"
   },
   "outputs": [
    {
     "name": "stderr",
     "output_type": "stream",
     "text": [
      "2022-12-04 18:56:29.320869: I tensorflow/core/platform/cpu_feature_guard.cc:193] This TensorFlow binary is optimized with oneAPI Deep Neural Network Library (oneDNN) to use the following CPU instructions in performance-critical operations:  AVX2 FMA\n",
      "To enable them in other operations, rebuild TensorFlow with the appropriate compiler flags.\n",
      "2022-12-04 18:56:29.495296: W tensorflow/compiler/xla/stream_executor/platform/default/dso_loader.cc:64] Could not load dynamic library 'libcudart.so.11.0'; dlerror: libcudart.so.11.0: cannot open shared object file: No such file or directory\n",
      "2022-12-04 18:56:29.495342: I tensorflow/compiler/xla/stream_executor/cuda/cudart_stub.cc:29] Ignore above cudart dlerror if you do not have a GPU set up on your machine.\n",
      "2022-12-04 18:56:30.056261: W tensorflow/compiler/xla/stream_executor/platform/default/dso_loader.cc:64] Could not load dynamic library 'libnvinfer.so.7'; dlerror: libnvinfer.so.7: cannot open shared object file: No such file or directory\n",
      "2022-12-04 18:56:30.056336: W tensorflow/compiler/xla/stream_executor/platform/default/dso_loader.cc:64] Could not load dynamic library 'libnvinfer_plugin.so.7'; dlerror: libnvinfer_plugin.so.7: cannot open shared object file: No such file or directory\n",
      "2022-12-04 18:56:30.056342: W tensorflow/compiler/tf2tensorrt/utils/py_utils.cc:38] TF-TRT Warning: Cannot dlopen some TensorRT libraries. If you would like to use Nvidia GPU with TensorRT, please make sure the missing libraries mentioned above are installed properly.\n"
     ]
    }
   ],
   "source": [
    "import json\n",
    "import re\n",
    "import nltk\n",
    "from nltk.corpus import stopwords\n",
    "import pandas as pd\n",
    "import numpy as np\n",
    "import matplotlib.pyplot as plt\n",
    "from keras.preprocessing.text import Tokenizer\n",
    "from keras_preprocessing.sequence import pad_sequences\n",
    "from keras.models import Sequential\n",
    "from keras.layers import Dense, Embedding, LSTM, SpatialDropout1D, Bidirectional\n",
    "from sklearn.model_selection import train_test_split\n",
    "from keras.utils.np_utils import to_categorical\n",
    "from keras.callbacks import EarlyStopping\n"
   ]
  },
  {
   "cell_type": "code",
   "execution_count": 2,
   "metadata": {
    "id": "qFkcgz-TEKvL"
   },
   "outputs": [],
   "source": [
    "input_file_dir = 'finalMergedData.json'"
   ]
  },
  {
   "cell_type": "code",
   "execution_count": 3,
   "metadata": {
    "colab": {
     "base_uri": "https://localhost:8080/"
    },
    "id": "CXqZVLqoESTs",
    "outputId": "65c7e976-64a7-4903-bb8d-20417edb774a"
   },
   "outputs": [
    {
     "name": "stdout",
     "output_type": "stream",
     "text": [
      "<class 'pandas.core.frame.DataFrame'>\n",
      "RangeIndex: 50906 entries, 0 to 50905\n",
      "Data columns (total 9 columns):\n",
      " #   Column      Non-Null Count  Dtype \n",
      "---  ------      --------------  ----- \n",
      " 0   topic       50906 non-null  object\n",
      " 1   source      50906 non-null  object\n",
      " 2   url         50906 non-null  object\n",
      " 3   title       50906 non-null  object\n",
      " 4   author      50906 non-null  object\n",
      " 5   date        50906 non-null  object\n",
      " 6   content     50906 non-null  object\n",
      " 7   source_url  50906 non-null  object\n",
      " 8   bias_text   50906 non-null  object\n",
      "dtypes: object(9)\n",
      "memory usage: 3.5+ MB\n"
     ]
    }
   ],
   "source": [
    "rawDf = pd.read_json(input_file_dir)\n",
    "rawDf.info()\n",
    "#print(rawDf.describe)"
   ]
  },
  {
   "cell_type": "markdown",
   "metadata": {
    "id": "gqZ2sFAUrvBj"
   },
   "source": [
    "## get target data from source data"
   ]
  },
  {
   "cell_type": "code",
   "execution_count": 4,
   "metadata": {
    "colab": {
     "base_uri": "https://localhost:8080/",
     "height": 313
    },
    "id": "8P5tmcqaFUtd",
    "outputId": "5bbfe617-ee0a-4028-ba74-0ed3979a85f9"
   },
   "outputs": [
    {
     "name": "stderr",
     "output_type": "stream",
     "text": [
      "/tmp/ipykernel_902515/2101829330.py:2: SettingWithCopyWarning: \n",
      "A value is trying to be set on a copy of a slice from a DataFrame.\n",
      "Try using .loc[row_indexer,col_indexer] = value instead\n",
      "\n",
      "See the caveats in the documentation: https://pandas.pydata.org/pandas-docs/stable/user_guide/indexing.html#returning-a-view-versus-a-copy\n",
      "  df['bias_text'] = df['bias_text'].str.capitalize()\n"
     ]
    },
    {
     "data": {
      "text/html": [
       "<div>\n",
       "<style scoped>\n",
       "    .dataframe tbody tr th:only-of-type {\n",
       "        vertical-align: middle;\n",
       "    }\n",
       "\n",
       "    .dataframe tbody tr th {\n",
       "        vertical-align: top;\n",
       "    }\n",
       "\n",
       "    .dataframe thead th {\n",
       "        text-align: right;\n",
       "    }\n",
       "</style>\n",
       "<table border=\"1\" class=\"dataframe\">\n",
       "  <thead>\n",
       "    <tr style=\"text-align: right;\">\n",
       "      <th></th>\n",
       "      <th>source</th>\n",
       "      <th>content</th>\n",
       "      <th>bias_text</th>\n",
       "    </tr>\n",
       "  </thead>\n",
       "  <tbody>\n",
       "    <tr>\n",
       "      <th>0</th>\n",
       "      <td>Townhall</td>\n",
       "      <td>By a two-to-one margin, respondents who partic...</td>\n",
       "      <td>Right</td>\n",
       "    </tr>\n",
       "    <tr>\n",
       "      <th>1</th>\n",
       "      <td>Townhall</td>\n",
       "      <td>President Trump loves to tweet as a way to dir...</td>\n",
       "      <td>Right</td>\n",
       "    </tr>\n",
       "    <tr>\n",
       "      <th>2</th>\n",
       "      <td>New York Times - News</td>\n",
       "      <td>For Secret Service Chief, Revelations Could Th...</td>\n",
       "      <td>Left</td>\n",
       "    </tr>\n",
       "    <tr>\n",
       "      <th>3</th>\n",
       "      <td>NPR Online News</td>\n",
       "      <td>Trump Ousts Embattled Campaign Manager\\n\\nEnla...</td>\n",
       "      <td>Center</td>\n",
       "    </tr>\n",
       "    <tr>\n",
       "      <th>4</th>\n",
       "      <td>BBC News</td>\n",
       "      <td>Media playback is unsupported on your device M...</td>\n",
       "      <td>Center</td>\n",
       "    </tr>\n",
       "  </tbody>\n",
       "</table>\n",
       "</div>"
      ],
      "text/plain": [
       "                  source                                            content  \\\n",
       "0               Townhall  By a two-to-one margin, respondents who partic...   \n",
       "1               Townhall  President Trump loves to tweet as a way to dir...   \n",
       "2  New York Times - News  For Secret Service Chief, Revelations Could Th...   \n",
       "3        NPR Online News  Trump Ousts Embattled Campaign Manager\\n\\nEnla...   \n",
       "4               BBC News  Media playback is unsupported on your device M...   \n",
       "\n",
       "  bias_text  \n",
       "0     Right  \n",
       "1     Right  \n",
       "2      Left  \n",
       "3    Center  \n",
       "4    Center  "
      ]
     },
     "execution_count": 4,
     "metadata": {},
     "output_type": "execute_result"
    }
   ],
   "source": [
    "df = rawDf[[\"source\",\"content\",\"bias_text\"]]\n",
    "df['bias_text'] = df['bias_text'].str.capitalize()\n",
    "df.head()"
   ]
  },
  {
   "cell_type": "code",
   "execution_count": 5,
   "metadata": {
    "colab": {
     "base_uri": "https://localhost:8080/"
    },
    "id": "FLc-neodHlIr",
    "outputId": "698ef47e-102b-4f83-b604-bfa3873a5bac"
   },
   "outputs": [
    {
     "name": "stdout",
     "output_type": "stream",
     "text": [
      "(713,)\n"
     ]
    }
   ],
   "source": [
    "news_source = df['source'].unique()\n",
    "print(news_source.shape)\n"
   ]
  },
  {
   "cell_type": "code",
   "execution_count": 6,
   "metadata": {
    "colab": {
     "base_uri": "https://localhost:8080/"
    },
    "id": "-irPXBS-Ijw9",
    "outputId": "07f5a727-b555-49db-fb70-d0b2375e5eac"
   },
   "outputs": [
    {
     "name": "stdout",
     "output_type": "stream",
     "text": [
      "['Right' 'Left' 'Center' 'Lean left' 'Lean right' 'Mixed'\n",
      " 'Political news media bias rating: not rated']\n"
     ]
    }
   ],
   "source": [
    "bias_label = df['bias_text'].unique()\n",
    "print(bias_label)"
   ]
  },
  {
   "cell_type": "code",
   "execution_count": 7,
   "metadata": {
    "colab": {
     "base_uri": "https://localhost:8080/",
     "height": 332
    },
    "id": "WHv0I-e8IEIe",
    "outputId": "9e8f74ab-62e8-4165-95ec-43bcc1bc0083"
   },
   "outputs": [
    {
     "data": {
      "text/html": [
       "<div>\n",
       "<style scoped>\n",
       "    .dataframe tbody tr th:only-of-type {\n",
       "        vertical-align: middle;\n",
       "    }\n",
       "\n",
       "    .dataframe tbody tr th {\n",
       "        vertical-align: top;\n",
       "    }\n",
       "\n",
       "    .dataframe thead tr th {\n",
       "        text-align: left;\n",
       "    }\n",
       "\n",
       "    .dataframe thead tr:last-of-type th {\n",
       "        text-align: right;\n",
       "    }\n",
       "</style>\n",
       "<table border=\"1\" class=\"dataframe\">\n",
       "  <thead>\n",
       "    <tr>\n",
       "      <th></th>\n",
       "      <th colspan=\"4\" halign=\"left\">source</th>\n",
       "      <th colspan=\"4\" halign=\"left\">content</th>\n",
       "    </tr>\n",
       "    <tr>\n",
       "      <th></th>\n",
       "      <th>count</th>\n",
       "      <th>unique</th>\n",
       "      <th>top</th>\n",
       "      <th>freq</th>\n",
       "      <th>count</th>\n",
       "      <th>unique</th>\n",
       "      <th>top</th>\n",
       "      <th>freq</th>\n",
       "    </tr>\n",
       "    <tr>\n",
       "      <th>bias_text</th>\n",
       "      <th></th>\n",
       "      <th></th>\n",
       "      <th></th>\n",
       "      <th></th>\n",
       "      <th></th>\n",
       "      <th></th>\n",
       "      <th></th>\n",
       "      <th></th>\n",
       "    </tr>\n",
       "  </thead>\n",
       "  <tbody>\n",
       "    <tr>\n",
       "      <th>Center</th>\n",
       "      <td>12745</td>\n",
       "      <td>292</td>\n",
       "      <td>NPR Online News</td>\n",
       "      <td>2012</td>\n",
       "      <td>12745</td>\n",
       "      <td>12691</td>\n",
       "      <td>Biden's ability to reshape U.S. judiciary hang...</td>\n",
       "      <td>19</td>\n",
       "    </tr>\n",
       "    <tr>\n",
       "      <th>Lean left</th>\n",
       "      <td>4795</td>\n",
       "      <td>90</td>\n",
       "      <td>Washington Post</td>\n",
       "      <td>1198</td>\n",
       "      <td>4795</td>\n",
       "      <td>4610</td>\n",
       "      <td>Why did this happen?\\n\\nPlease make sure your ...</td>\n",
       "      <td>118</td>\n",
       "    </tr>\n",
       "    <tr>\n",
       "      <th>Lean right</th>\n",
       "      <td>2078</td>\n",
       "      <td>53</td>\n",
       "      <td>Washington Examiner</td>\n",
       "      <td>752</td>\n",
       "      <td>2078</td>\n",
       "      <td>2043</td>\n",
       "      <td></td>\n",
       "      <td>34</td>\n",
       "    </tr>\n",
       "    <tr>\n",
       "      <th>Left</th>\n",
       "      <td>15098</td>\n",
       "      <td>174</td>\n",
       "      <td>CNN (Web News)</td>\n",
       "      <td>2905</td>\n",
       "      <td>15098</td>\n",
       "      <td>14938</td>\n",
       "      <td>The United Nations' weather agency says the st...</td>\n",
       "      <td>79</td>\n",
       "    </tr>\n",
       "    <tr>\n",
       "      <th>Mixed</th>\n",
       "      <td>57</td>\n",
       "      <td>10</td>\n",
       "      <td>The Flip Side</td>\n",
       "      <td>18</td>\n",
       "      <td>57</td>\n",
       "      <td>57</td>\n",
       "      <td>From the Left\\n\\nThe left opposes the decision...</td>\n",
       "      <td>1</td>\n",
       "    </tr>\n",
       "    <tr>\n",
       "      <th>Political news media bias rating: not rated</th>\n",
       "      <td>10</td>\n",
       "      <td>6</td>\n",
       "      <td>Guest Writer</td>\n",
       "      <td>5</td>\n",
       "      <td>10</td>\n",
       "      <td>9</td>\n",
       "      <td></td>\n",
       "      <td>2</td>\n",
       "    </tr>\n",
       "    <tr>\n",
       "      <th>Right</th>\n",
       "      <td>16123</td>\n",
       "      <td>179</td>\n",
       "      <td>Washington Times</td>\n",
       "      <td>2886</td>\n",
       "      <td>16123</td>\n",
       "      <td>15600</td>\n",
       "      <td></td>\n",
       "      <td>337</td>\n",
       "    </tr>\n",
       "  </tbody>\n",
       "</table>\n",
       "</div>"
      ],
      "text/plain": [
       "                                            source         \\\n",
       "                                             count unique   \n",
       "bias_text                                                   \n",
       "Center                                       12745    292   \n",
       "Lean left                                     4795     90   \n",
       "Lean right                                    2078     53   \n",
       "Left                                         15098    174   \n",
       "Mixed                                           57     10   \n",
       "Political news media bias rating: not rated     10      6   \n",
       "Right                                        16123    179   \n",
       "\n",
       "                                                                        \\\n",
       "                                                             top  freq   \n",
       "bias_text                                                                \n",
       "Center                                           NPR Online News  2012   \n",
       "Lean left                                        Washington Post  1198   \n",
       "Lean right                                   Washington Examiner   752   \n",
       "Left                                              CNN (Web News)  2905   \n",
       "Mixed                                              The Flip Side    18   \n",
       "Political news media bias rating: not rated         Guest Writer     5   \n",
       "Right                                           Washington Times  2886   \n",
       "\n",
       "                                            content         \\\n",
       "                                              count unique   \n",
       "bias_text                                                    \n",
       "Center                                        12745  12691   \n",
       "Lean left                                      4795   4610   \n",
       "Lean right                                     2078   2043   \n",
       "Left                                          15098  14938   \n",
       "Mixed                                            57     57   \n",
       "Political news media bias rating: not rated      10      9   \n",
       "Right                                         16123  15600   \n",
       "\n",
       "                                                                                                \\\n",
       "                                                                                           top   \n",
       "bias_text                                                                                        \n",
       "Center                                       Biden's ability to reshape U.S. judiciary hang...   \n",
       "Lean left                                    Why did this happen?\\n\\nPlease make sure your ...   \n",
       "Lean right                                                                                       \n",
       "Left                                         The United Nations' weather agency says the st...   \n",
       "Mixed                                        From the Left\\n\\nThe left opposes the decision...   \n",
       "Political news media bias rating: not rated                                                      \n",
       "Right                                                                                            \n",
       "\n",
       "                                                  \n",
       "                                            freq  \n",
       "bias_text                                         \n",
       "Center                                        19  \n",
       "Lean left                                    118  \n",
       "Lean right                                    34  \n",
       "Left                                          79  \n",
       "Mixed                                          1  \n",
       "Political news media bias rating: not rated    2  \n",
       "Right                                        337  "
      ]
     },
     "execution_count": 7,
     "metadata": {},
     "output_type": "execute_result"
    }
   ],
   "source": [
    "df.groupby('bias_text').describe()"
   ]
  },
  {
   "cell_type": "code",
   "execution_count": 8,
   "metadata": {
    "id": "Alu60CFfbBSD"
   },
   "outputs": [],
   "source": [
    "df_filtered = df[df['bias_text'] != \"Political news media bias rating: not rated\"]  \n",
    "df_filtered = df_filtered[df_filtered['bias_text'] != \"Mixed\"]\n",
    "df_filtered = df_filtered.drop_duplicates(subset=['content'], keep='first')\n",
    "df_filtered = df_filtered[(df_filtered['content'] != \"\")]\n",
    "#df_filtered.describe()"
   ]
  },
  {
   "cell_type": "code",
   "execution_count": 9,
   "metadata": {
    "colab": {
     "base_uri": "https://localhost:8080/",
     "height": 269
    },
    "id": "YumZDmzsh2pH",
    "outputId": "f1bc1f48-23b7-47fb-eeb0-3408cb9f967a"
   },
   "outputs": [
    {
     "data": {
      "text/html": [
       "<div>\n",
       "<style scoped>\n",
       "    .dataframe tbody tr th:only-of-type {\n",
       "        vertical-align: middle;\n",
       "    }\n",
       "\n",
       "    .dataframe tbody tr th {\n",
       "        vertical-align: top;\n",
       "    }\n",
       "\n",
       "    .dataframe thead tr th {\n",
       "        text-align: left;\n",
       "    }\n",
       "\n",
       "    .dataframe thead tr:last-of-type th {\n",
       "        text-align: right;\n",
       "    }\n",
       "</style>\n",
       "<table border=\"1\" class=\"dataframe\">\n",
       "  <thead>\n",
       "    <tr>\n",
       "      <th></th>\n",
       "      <th colspan=\"4\" halign=\"left\">source</th>\n",
       "      <th colspan=\"4\" halign=\"left\">content</th>\n",
       "    </tr>\n",
       "    <tr>\n",
       "      <th></th>\n",
       "      <th>count</th>\n",
       "      <th>unique</th>\n",
       "      <th>top</th>\n",
       "      <th>freq</th>\n",
       "      <th>count</th>\n",
       "      <th>unique</th>\n",
       "      <th>top</th>\n",
       "      <th>freq</th>\n",
       "    </tr>\n",
       "    <tr>\n",
       "      <th>bias_text</th>\n",
       "      <th></th>\n",
       "      <th></th>\n",
       "      <th></th>\n",
       "      <th></th>\n",
       "      <th></th>\n",
       "      <th></th>\n",
       "      <th></th>\n",
       "      <th></th>\n",
       "    </tr>\n",
       "  </thead>\n",
       "  <tbody>\n",
       "    <tr>\n",
       "      <th>Center</th>\n",
       "      <td>12687</td>\n",
       "      <td>286</td>\n",
       "      <td>NPR Online News</td>\n",
       "      <td>2012</td>\n",
       "      <td>12687</td>\n",
       "      <td>12687</td>\n",
       "      <td>Trump Ousts Embattled Campaign Manager\\n\\nEnla...</td>\n",
       "      <td>1</td>\n",
       "    </tr>\n",
       "    <tr>\n",
       "      <th>Lean left</th>\n",
       "      <td>4569</td>\n",
       "      <td>89</td>\n",
       "      <td>Washington Post</td>\n",
       "      <td>1181</td>\n",
       "      <td>4569</td>\n",
       "      <td>4569</td>\n",
       "      <td>Oprah rejects her protégé Dr. Oz and backs Dem...</td>\n",
       "      <td>1</td>\n",
       "    </tr>\n",
       "    <tr>\n",
       "      <th>Lean right</th>\n",
       "      <td>2038</td>\n",
       "      <td>47</td>\n",
       "      <td>Washington Examiner</td>\n",
       "      <td>751</td>\n",
       "      <td>2038</td>\n",
       "      <td>2038</td>\n",
       "      <td>NEW You can now listen to Fox News articles!\\n...</td>\n",
       "      <td>1</td>\n",
       "    </tr>\n",
       "    <tr>\n",
       "      <th>Left</th>\n",
       "      <td>14937</td>\n",
       "      <td>173</td>\n",
       "      <td>CNN (Web News)</td>\n",
       "      <td>2905</td>\n",
       "      <td>14937</td>\n",
       "      <td>14937</td>\n",
       "      <td>For Secret Service Chief, Revelations Could Th...</td>\n",
       "      <td>1</td>\n",
       "    </tr>\n",
       "    <tr>\n",
       "      <th>Right</th>\n",
       "      <td>15594</td>\n",
       "      <td>176</td>\n",
       "      <td>Washington Times</td>\n",
       "      <td>2884</td>\n",
       "      <td>15594</td>\n",
       "      <td>15594</td>\n",
       "      <td>By a two-to-one margin, respondents who partic...</td>\n",
       "      <td>1</td>\n",
       "    </tr>\n",
       "  </tbody>\n",
       "</table>\n",
       "</div>"
      ],
      "text/plain": [
       "           source                                   content         \\\n",
       "            count unique                  top  freq   count unique   \n",
       "bias_text                                                            \n",
       "Center      12687    286      NPR Online News  2012   12687  12687   \n",
       "Lean left    4569     89      Washington Post  1181    4569   4569   \n",
       "Lean right   2038     47  Washington Examiner   751    2038   2038   \n",
       "Left        14937    173       CNN (Web News)  2905   14937  14937   \n",
       "Right       15594    176     Washington Times  2884   15594  15594   \n",
       "\n",
       "                                                                    \n",
       "                                                          top freq  \n",
       "bias_text                                                           \n",
       "Center      Trump Ousts Embattled Campaign Manager\\n\\nEnla...    1  \n",
       "Lean left   Oprah rejects her protégé Dr. Oz and backs Dem...    1  \n",
       "Lean right  NEW You can now listen to Fox News articles!\\n...    1  \n",
       "Left        For Secret Service Chief, Revelations Could Th...    1  \n",
       "Right       By a two-to-one margin, respondents who partic...    1  "
      ]
     },
     "execution_count": 9,
     "metadata": {},
     "output_type": "execute_result"
    }
   ],
   "source": [
    "df_filtered.groupby('bias_text').describe()"
   ]
  },
  {
   "cell_type": "code",
   "execution_count": 10,
   "metadata": {
    "colab": {
     "base_uri": "https://localhost:8080/",
     "height": 206
    },
    "id": "6ecxJbpxrCez",
    "outputId": "d78de46e-af20-4de8-f1a0-5e33f0f26f94"
   },
   "outputs": [
    {
     "data": {
      "text/html": [
       "<div>\n",
       "<style scoped>\n",
       "    .dataframe tbody tr th:only-of-type {\n",
       "        vertical-align: middle;\n",
       "    }\n",
       "\n",
       "    .dataframe tbody tr th {\n",
       "        vertical-align: top;\n",
       "    }\n",
       "\n",
       "    .dataframe thead tr th {\n",
       "        text-align: left;\n",
       "    }\n",
       "\n",
       "    .dataframe thead tr:last-of-type th {\n",
       "        text-align: right;\n",
       "    }\n",
       "</style>\n",
       "<table border=\"1\" class=\"dataframe\">\n",
       "  <thead>\n",
       "    <tr>\n",
       "      <th></th>\n",
       "      <th colspan=\"4\" halign=\"left\">source</th>\n",
       "      <th colspan=\"4\" halign=\"left\">content</th>\n",
       "    </tr>\n",
       "    <tr>\n",
       "      <th></th>\n",
       "      <th>count</th>\n",
       "      <th>unique</th>\n",
       "      <th>top</th>\n",
       "      <th>freq</th>\n",
       "      <th>count</th>\n",
       "      <th>unique</th>\n",
       "      <th>top</th>\n",
       "      <th>freq</th>\n",
       "    </tr>\n",
       "    <tr>\n",
       "      <th>bias_text</th>\n",
       "      <th></th>\n",
       "      <th></th>\n",
       "      <th></th>\n",
       "      <th></th>\n",
       "      <th></th>\n",
       "      <th></th>\n",
       "      <th></th>\n",
       "      <th></th>\n",
       "    </tr>\n",
       "  </thead>\n",
       "  <tbody>\n",
       "    <tr>\n",
       "      <th>Center</th>\n",
       "      <td>12687</td>\n",
       "      <td>286</td>\n",
       "      <td>NPR Online News</td>\n",
       "      <td>2012</td>\n",
       "      <td>12687</td>\n",
       "      <td>12687</td>\n",
       "      <td>Trump Ousts Embattled Campaign Manager\\n\\nEnla...</td>\n",
       "      <td>1</td>\n",
       "    </tr>\n",
       "    <tr>\n",
       "      <th>Left</th>\n",
       "      <td>14937</td>\n",
       "      <td>173</td>\n",
       "      <td>CNN (Web News)</td>\n",
       "      <td>2905</td>\n",
       "      <td>14937</td>\n",
       "      <td>14937</td>\n",
       "      <td>For Secret Service Chief, Revelations Could Th...</td>\n",
       "      <td>1</td>\n",
       "    </tr>\n",
       "    <tr>\n",
       "      <th>Right</th>\n",
       "      <td>15594</td>\n",
       "      <td>176</td>\n",
       "      <td>Washington Times</td>\n",
       "      <td>2884</td>\n",
       "      <td>15594</td>\n",
       "      <td>15594</td>\n",
       "      <td>By a two-to-one margin, respondents who partic...</td>\n",
       "      <td>1</td>\n",
       "    </tr>\n",
       "  </tbody>\n",
       "</table>\n",
       "</div>"
      ],
      "text/plain": [
       "          source                                content         \\\n",
       "           count unique               top  freq   count unique   \n",
       "bias_text                                                        \n",
       "Center     12687    286   NPR Online News  2012   12687  12687   \n",
       "Left       14937    173    CNN (Web News)  2905   14937  14937   \n",
       "Right      15594    176  Washington Times  2884   15594  15594   \n",
       "\n",
       "                                                                   \n",
       "                                                         top freq  \n",
       "bias_text                                                          \n",
       "Center     Trump Ousts Embattled Campaign Manager\\n\\nEnla...    1  \n",
       "Left       For Secret Service Chief, Revelations Could Th...    1  \n",
       "Right      By a two-to-one margin, respondents who partic...    1  "
      ]
     },
     "execution_count": 10,
     "metadata": {},
     "output_type": "execute_result"
    }
   ],
   "source": [
    "df_filtered = df_filtered[df_filtered['bias_text'] != \"Lean left\"]\n",
    "df_filtered = df_filtered[df_filtered['bias_text'] != \"Lean right\"]\n",
    "df_filtered.groupby('bias_text').describe()"
   ]
  },
  {
   "cell_type": "markdown",
   "metadata": {
    "id": "ylmAcTCrrhRo"
   },
   "source": [
    "## begin cleaning text"
   ]
  },
  {
   "cell_type": "code",
   "execution_count": 11,
   "metadata": {
    "colab": {
     "base_uri": "https://localhost:8080/"
    },
    "id": "TheSWPPoy6lp",
    "outputId": "0d14f5f8-7ad3-42cb-f607-82e1525e8e7f"
   },
   "outputs": [
    {
     "name": "stderr",
     "output_type": "stream",
     "text": [
      "[nltk_data] Downloading package stopwords to /home/dkang/nltk_data...\n",
      "[nltk_data]   Package stopwords is already up-to-date!\n"
     ]
    },
    {
     "data": {
      "text/plain": [
       "True"
      ]
     },
     "execution_count": 11,
     "metadata": {},
     "output_type": "execute_result"
    }
   ],
   "source": [
    "nltk.download('stopwords')"
   ]
  },
  {
   "cell_type": "code",
   "execution_count": 12,
   "metadata": {
    "colab": {
     "base_uri": "https://localhost:8080/",
     "height": 242
    },
    "id": "Hwh_jHTdryuZ",
    "outputId": "cc125ae2-3b55-44aa-f55b-97b2f34df2d3"
   },
   "outputs": [
    {
     "name": "stderr",
     "output_type": "stream",
     "text": [
      "/tmp/ipykernel_902515/1015252412.py:14: FutureWarning: The default value of regex will change from True to False in a future version.\n",
      "  df_filtered['content'] = df_filtered['content'].str.replace('\\d+', '')\n"
     ]
    },
    {
     "data": {
      "text/html": [
       "<div>\n",
       "<style scoped>\n",
       "    .dataframe tbody tr th:only-of-type {\n",
       "        vertical-align: middle;\n",
       "    }\n",
       "\n",
       "    .dataframe tbody tr th {\n",
       "        vertical-align: top;\n",
       "    }\n",
       "\n",
       "    .dataframe thead th {\n",
       "        text-align: right;\n",
       "    }\n",
       "</style>\n",
       "<table border=\"1\" class=\"dataframe\">\n",
       "  <thead>\n",
       "    <tr style=\"text-align: right;\">\n",
       "      <th></th>\n",
       "      <th>source</th>\n",
       "      <th>content</th>\n",
       "      <th>bias_text</th>\n",
       "    </tr>\n",
       "  </thead>\n",
       "  <tbody>\n",
       "    <tr>\n",
       "      <th>0</th>\n",
       "      <td>Townhall</td>\n",
       "      <td>twotoone margin respondents participated recen...</td>\n",
       "      <td>Right</td>\n",
       "    </tr>\n",
       "    <tr>\n",
       "      <th>1</th>\n",
       "      <td>Townhall</td>\n",
       "      <td>president trump loves tweet way directly reach...</td>\n",
       "      <td>Right</td>\n",
       "    </tr>\n",
       "    <tr>\n",
       "      <th>2</th>\n",
       "      <td>New York Times - News</td>\n",
       "      <td>secret service chief revelations could threate...</td>\n",
       "      <td>Left</td>\n",
       "    </tr>\n",
       "    <tr>\n",
       "      <th>3</th>\n",
       "      <td>NPR Online News</td>\n",
       "      <td>trump ousts embattled campaign managerenlarge ...</td>\n",
       "      <td>Center</td>\n",
       "    </tr>\n",
       "    <tr>\n",
       "      <th>4</th>\n",
       "      <td>BBC News</td>\n",
       "      <td>media playback unsupported device media captio...</td>\n",
       "      <td>Center</td>\n",
       "    </tr>\n",
       "  </tbody>\n",
       "</table>\n",
       "</div>"
      ],
      "text/plain": [
       "                  source                                            content  \\\n",
       "0               Townhall  twotoone margin respondents participated recen...   \n",
       "1               Townhall  president trump loves tweet way directly reach...   \n",
       "2  New York Times - News  secret service chief revelations could threate...   \n",
       "3        NPR Online News  trump ousts embattled campaign managerenlarge ...   \n",
       "4               BBC News  media playback unsupported device media captio...   \n",
       "\n",
       "  bias_text  \n",
       "0     Right  \n",
       "1     Right  \n",
       "2      Left  \n",
       "3    Center  \n",
       "4    Center  "
      ]
     },
     "execution_count": 12,
     "metadata": {},
     "output_type": "execute_result"
    }
   ],
   "source": [
    "REPLACE_BY_SPACE_RE = re.compile('[/(){}\\[\\]\\|@,;]')\n",
    "BAD_SYMBOLS_RE = re.compile('[^0-9a-z #+_]')\n",
    "STOPWORDS = set(stopwords.words('english'))\n",
    "\n",
    "def clean_text(text):\n",
    "    text = text.lower() # lowercase text\n",
    "    text = REPLACE_BY_SPACE_RE.sub(' ', text) # replace REPLACE_BY_SPACE_RE symbols by space in text. substitute the matched string in REPLACE_BY_SPACE_RE with space.\n",
    "    text = BAD_SYMBOLS_RE.sub('', text) # remove symbols which are in BAD_SYMBOLS_RE from text. substitute the matched string in BAD_SYMBOLS_RE with nothing. \n",
    "#    text = re.sub(r'\\W+', '', text) # this removes all special characters # r means raw string\n",
    "    text = ' '.join(word for word in text.split() if word not in STOPWORDS) # remove stopwords from text\n",
    "    return text\n",
    "df_filtered['content'] = df_filtered['content'].apply(clean_text)\n",
    "# remove all digits\n",
    "df_filtered['content'] = df_filtered['content'].str.replace('\\d+', '')\n",
    "\n",
    "df_filtered.head()"
   ]
  },
  {
   "cell_type": "code",
   "execution_count": 13,
   "metadata": {
    "colab": {
     "base_uri": "https://localhost:8080/",
     "height": 206
    },
    "id": "JAzVKo-F3mbq",
    "outputId": "8ec3c382-417a-41a3-c917-fb491279e1e6"
   },
   "outputs": [
    {
     "data": {
      "text/html": [
       "<div>\n",
       "<style scoped>\n",
       "    .dataframe tbody tr th:only-of-type {\n",
       "        vertical-align: middle;\n",
       "    }\n",
       "\n",
       "    .dataframe tbody tr th {\n",
       "        vertical-align: top;\n",
       "    }\n",
       "\n",
       "    .dataframe thead tr th {\n",
       "        text-align: left;\n",
       "    }\n",
       "\n",
       "    .dataframe thead tr:last-of-type th {\n",
       "        text-align: right;\n",
       "    }\n",
       "</style>\n",
       "<table border=\"1\" class=\"dataframe\">\n",
       "  <thead>\n",
       "    <tr>\n",
       "      <th></th>\n",
       "      <th colspan=\"4\" halign=\"left\">source</th>\n",
       "      <th colspan=\"4\" halign=\"left\">content</th>\n",
       "    </tr>\n",
       "    <tr>\n",
       "      <th></th>\n",
       "      <th>count</th>\n",
       "      <th>unique</th>\n",
       "      <th>top</th>\n",
       "      <th>freq</th>\n",
       "      <th>count</th>\n",
       "      <th>unique</th>\n",
       "      <th>top</th>\n",
       "      <th>freq</th>\n",
       "    </tr>\n",
       "    <tr>\n",
       "      <th>bias_text</th>\n",
       "      <th></th>\n",
       "      <th></th>\n",
       "      <th></th>\n",
       "      <th></th>\n",
       "      <th></th>\n",
       "      <th></th>\n",
       "      <th></th>\n",
       "      <th></th>\n",
       "    </tr>\n",
       "  </thead>\n",
       "  <tbody>\n",
       "    <tr>\n",
       "      <th>Center</th>\n",
       "      <td>12687</td>\n",
       "      <td>286</td>\n",
       "      <td>NPR Online News</td>\n",
       "      <td>2012</td>\n",
       "      <td>12687</td>\n",
       "      <td>12687</td>\n",
       "      <td>trump ousts embattled campaign managerenlarge ...</td>\n",
       "      <td>1</td>\n",
       "    </tr>\n",
       "    <tr>\n",
       "      <th>Left</th>\n",
       "      <td>14937</td>\n",
       "      <td>173</td>\n",
       "      <td>CNN (Web News)</td>\n",
       "      <td>2905</td>\n",
       "      <td>14937</td>\n",
       "      <td>14934</td>\n",
       "      <td>years ago cnn democrats released party platfo...</td>\n",
       "      <td>2</td>\n",
       "    </tr>\n",
       "    <tr>\n",
       "      <th>Right</th>\n",
       "      <td>15594</td>\n",
       "      <td>176</td>\n",
       "      <td>Washington Times</td>\n",
       "      <td>2884</td>\n",
       "      <td>15594</td>\n",
       "      <td>15589</td>\n",
       "      <td>texas sen ted cruz announced monday running re...</td>\n",
       "      <td>2</td>\n",
       "    </tr>\n",
       "  </tbody>\n",
       "</table>\n",
       "</div>"
      ],
      "text/plain": [
       "          source                                content         \\\n",
       "           count unique               top  freq   count unique   \n",
       "bias_text                                                        \n",
       "Center     12687    286   NPR Online News  2012   12687  12687   \n",
       "Left       14937    173    CNN (Web News)  2905   14937  14934   \n",
       "Right      15594    176  Washington Times  2884   15594  15589   \n",
       "\n",
       "                                                                   \n",
       "                                                         top freq  \n",
       "bias_text                                                          \n",
       "Center     trump ousts embattled campaign managerenlarge ...    1  \n",
       "Left        years ago cnn democrats released party platfo...    2  \n",
       "Right      texas sen ted cruz announced monday running re...    2  "
      ]
     },
     "execution_count": 13,
     "metadata": {},
     "output_type": "execute_result"
    }
   ],
   "source": [
    "df_filtered.groupby('bias_text').describe()"
   ]
  },
  {
   "cell_type": "code",
   "execution_count": 14,
   "metadata": {
    "id": "QS5nTb3gzgpq"
   },
   "outputs": [],
   "source": [
    "def countNumWordsOfContent(text):\n",
    "  return len(text.split())\n",
    "\n",
    "# remove those articles with actual words less than 30\n",
    "df_filtered = df_filtered[df_filtered['content'].apply(countNumWordsOfContent) >= 50]\n",
    "\n",
    "\n",
    "#a = df_filtered['content'].apply(countNumWordsOfContent)\n",
    "#a.describe()"
   ]
  },
  {
   "cell_type": "code",
   "execution_count": 15,
   "metadata": {
    "colab": {
     "base_uri": "https://localhost:8080/",
     "height": 206
    },
    "id": "lnl9awSQ2lu0",
    "outputId": "cb3f8bb5-8ff1-4422-bdff-a3f30ed386b4"
   },
   "outputs": [
    {
     "data": {
      "text/html": [
       "<div>\n",
       "<style scoped>\n",
       "    .dataframe tbody tr th:only-of-type {\n",
       "        vertical-align: middle;\n",
       "    }\n",
       "\n",
       "    .dataframe tbody tr th {\n",
       "        vertical-align: top;\n",
       "    }\n",
       "\n",
       "    .dataframe thead tr th {\n",
       "        text-align: left;\n",
       "    }\n",
       "\n",
       "    .dataframe thead tr:last-of-type th {\n",
       "        text-align: right;\n",
       "    }\n",
       "</style>\n",
       "<table border=\"1\" class=\"dataframe\">\n",
       "  <thead>\n",
       "    <tr>\n",
       "      <th></th>\n",
       "      <th colspan=\"4\" halign=\"left\">source</th>\n",
       "      <th colspan=\"4\" halign=\"left\">content</th>\n",
       "    </tr>\n",
       "    <tr>\n",
       "      <th></th>\n",
       "      <th>count</th>\n",
       "      <th>unique</th>\n",
       "      <th>top</th>\n",
       "      <th>freq</th>\n",
       "      <th>count</th>\n",
       "      <th>unique</th>\n",
       "      <th>top</th>\n",
       "      <th>freq</th>\n",
       "    </tr>\n",
       "    <tr>\n",
       "      <th>bias_text</th>\n",
       "      <th></th>\n",
       "      <th></th>\n",
       "      <th></th>\n",
       "      <th></th>\n",
       "      <th></th>\n",
       "      <th></th>\n",
       "      <th></th>\n",
       "      <th></th>\n",
       "    </tr>\n",
       "  </thead>\n",
       "  <tbody>\n",
       "    <tr>\n",
       "      <th>Center</th>\n",
       "      <td>12472</td>\n",
       "      <td>279</td>\n",
       "      <td>NPR Online News</td>\n",
       "      <td>2012</td>\n",
       "      <td>12472</td>\n",
       "      <td>12472</td>\n",
       "      <td>trump ousts embattled campaign managerenlarge ...</td>\n",
       "      <td>1</td>\n",
       "    </tr>\n",
       "    <tr>\n",
       "      <th>Left</th>\n",
       "      <td>14889</td>\n",
       "      <td>173</td>\n",
       "      <td>CNN (Web News)</td>\n",
       "      <td>2905</td>\n",
       "      <td>14889</td>\n",
       "      <td>14886</td>\n",
       "      <td>years agowashington cnn new national poll sug...</td>\n",
       "      <td>2</td>\n",
       "    </tr>\n",
       "    <tr>\n",
       "      <th>Right</th>\n",
       "      <td>15576</td>\n",
       "      <td>175</td>\n",
       "      <td>Washington Times</td>\n",
       "      <td>2884</td>\n",
       "      <td>15576</td>\n",
       "      <td>15571</td>\n",
       "      <td>south carolina sen lindsey graham called impro...</td>\n",
       "      <td>2</td>\n",
       "    </tr>\n",
       "  </tbody>\n",
       "</table>\n",
       "</div>"
      ],
      "text/plain": [
       "          source                                content         \\\n",
       "           count unique               top  freq   count unique   \n",
       "bias_text                                                        \n",
       "Center     12472    279   NPR Online News  2012   12472  12472   \n",
       "Left       14889    173    CNN (Web News)  2905   14889  14886   \n",
       "Right      15576    175  Washington Times  2884   15576  15571   \n",
       "\n",
       "                                                                   \n",
       "                                                         top freq  \n",
       "bias_text                                                          \n",
       "Center     trump ousts embattled campaign managerenlarge ...    1  \n",
       "Left        years agowashington cnn new national poll sug...    2  \n",
       "Right      south carolina sen lindsey graham called impro...    2  "
      ]
     },
     "execution_count": 15,
     "metadata": {},
     "output_type": "execute_result"
    }
   ],
   "source": [
    "df_filtered.groupby('bias_text').describe()"
   ]
  },
  {
   "cell_type": "code",
   "execution_count": 16,
   "metadata": {
    "colab": {
     "base_uri": "https://localhost:8080/",
     "height": 206
    },
    "id": "PEAWpYFx39q3",
    "outputId": "c4e0e4fb-7046-4952-9b37-9af36d22b419"
   },
   "outputs": [
    {
     "data": {
      "text/html": [
       "<div>\n",
       "<style scoped>\n",
       "    .dataframe tbody tr th:only-of-type {\n",
       "        vertical-align: middle;\n",
       "    }\n",
       "\n",
       "    .dataframe tbody tr th {\n",
       "        vertical-align: top;\n",
       "    }\n",
       "\n",
       "    .dataframe thead tr th {\n",
       "        text-align: left;\n",
       "    }\n",
       "\n",
       "    .dataframe thead tr:last-of-type th {\n",
       "        text-align: right;\n",
       "    }\n",
       "</style>\n",
       "<table border=\"1\" class=\"dataframe\">\n",
       "  <thead>\n",
       "    <tr>\n",
       "      <th></th>\n",
       "      <th colspan=\"4\" halign=\"left\">source</th>\n",
       "      <th colspan=\"4\" halign=\"left\">content</th>\n",
       "    </tr>\n",
       "    <tr>\n",
       "      <th></th>\n",
       "      <th>count</th>\n",
       "      <th>unique</th>\n",
       "      <th>top</th>\n",
       "      <th>freq</th>\n",
       "      <th>count</th>\n",
       "      <th>unique</th>\n",
       "      <th>top</th>\n",
       "      <th>freq</th>\n",
       "    </tr>\n",
       "    <tr>\n",
       "      <th>bias_text</th>\n",
       "      <th></th>\n",
       "      <th></th>\n",
       "      <th></th>\n",
       "      <th></th>\n",
       "      <th></th>\n",
       "      <th></th>\n",
       "      <th></th>\n",
       "      <th></th>\n",
       "    </tr>\n",
       "  </thead>\n",
       "  <tbody>\n",
       "    <tr>\n",
       "      <th>Center</th>\n",
       "      <td>12472</td>\n",
       "      <td>279</td>\n",
       "      <td>NPR Online News</td>\n",
       "      <td>2012</td>\n",
       "      <td>12472</td>\n",
       "      <td>12472</td>\n",
       "      <td>trump ousts embattled campaign managerenlarge ...</td>\n",
       "      <td>1</td>\n",
       "    </tr>\n",
       "    <tr>\n",
       "      <th>Left</th>\n",
       "      <td>14886</td>\n",
       "      <td>173</td>\n",
       "      <td>CNN (Web News)</td>\n",
       "      <td>2905</td>\n",
       "      <td>14886</td>\n",
       "      <td>14886</td>\n",
       "      <td>secret service chief revelations could threate...</td>\n",
       "      <td>1</td>\n",
       "    </tr>\n",
       "    <tr>\n",
       "      <th>Right</th>\n",
       "      <td>15571</td>\n",
       "      <td>175</td>\n",
       "      <td>Washington Times</td>\n",
       "      <td>2884</td>\n",
       "      <td>15571</td>\n",
       "      <td>15571</td>\n",
       "      <td>twotoone margin respondents participated recen...</td>\n",
       "      <td>1</td>\n",
       "    </tr>\n",
       "  </tbody>\n",
       "</table>\n",
       "</div>"
      ],
      "text/plain": [
       "          source                                content         \\\n",
       "           count unique               top  freq   count unique   \n",
       "bias_text                                                        \n",
       "Center     12472    279   NPR Online News  2012   12472  12472   \n",
       "Left       14886    173    CNN (Web News)  2905   14886  14886   \n",
       "Right      15571    175  Washington Times  2884   15571  15571   \n",
       "\n",
       "                                                                   \n",
       "                                                         top freq  \n",
       "bias_text                                                          \n",
       "Center     trump ousts embattled campaign managerenlarge ...    1  \n",
       "Left       secret service chief revelations could threate...    1  \n",
       "Right      twotoone margin respondents participated recen...    1  "
      ]
     },
     "execution_count": 16,
     "metadata": {},
     "output_type": "execute_result"
    }
   ],
   "source": [
    "df_filtered = df_filtered.drop_duplicates(subset=['content'], keep='first')\n",
    "df_filtered = df_filtered[(df_filtered['content'] != \"\")]\n",
    "df_filtered.groupby('bias_text').describe()"
   ]
  },
  {
   "cell_type": "markdown",
   "metadata": {
    "id": "MN3fWwiTzVFo"
   },
   "source": [
    "## build LSTM Model"
   ]
  },
  {
   "cell_type": "code",
   "execution_count": 17,
   "metadata": {
    "id": "KjG7dW544ja-"
   },
   "outputs": [],
   "source": [
    "def unique(list1):\n",
    "    # insert the list to the set\n",
    "    list_set = set(list1)\n",
    "    print(len(list_set))\n",
    "\n",
    "#allStrs = df_filtered['content'].values.tolist()\n",
    "\n",
    "#allStr = []\n",
    "#for str in allStrs:\n",
    "#  allStr += str.split()\n",
    "\n",
    "#unique(allStr)"
   ]
  },
  {
   "cell_type": "markdown",
   "metadata": {
    "id": "XkvMsyERD11z"
   },
   "source": [
    "# experiment 1 -- random split, not remove media source"
   ]
  },
  {
   "cell_type": "code",
   "execution_count": 18,
   "metadata": {
    "colab": {
     "base_uri": "https://localhost:8080/"
    },
    "id": "4ZEFToJM3rzp",
    "outputId": "55e04072-bf93-43d0-c525-e5b289870b38"
   },
   "outputs": [
    {
     "name": "stdout",
     "output_type": "stream",
     "text": [
      "Found 687488 unique tokens.\n"
     ]
    }
   ],
   "source": [
    "# The maximum number of words to be used. (most frequent)\n",
    "MAX_NB_WORDS = 689434\n",
    "# Max number of words in each complaint.\n",
    "MAX_SEQUENCE_LENGTH = 8800\n",
    "# This is fixed.\n",
    "EMBEDDING_DIM = 100\n",
    "tokenizer = Tokenizer(num_words=MAX_NB_WORDS, filters='!\"#$%&()*+,-./:;<=>?@[\\]^_`{|}~', lower=True)\n",
    "tokenizer.fit_on_texts(df_filtered['content'].values)\n",
    "word_index = tokenizer.word_index\n",
    "print('Found %s unique tokens.' % len(word_index))"
   ]
  },
  {
   "cell_type": "code",
   "execution_count": 19,
   "metadata": {
    "colab": {
     "base_uri": "https://localhost:8080/"
    },
    "id": "NqHuXTIPCgqO",
    "outputId": "417c9ee7-4c8c-4c65-93c4-e17178d3e23d"
   },
   "outputs": [
    {
     "name": "stdout",
     "output_type": "stream",
     "text": [
      "Shape of data tensor: (42929, 8800)\n"
     ]
    }
   ],
   "source": [
    "X = tokenizer.texts_to_sequences(df_filtered['content'].values)\n",
    "X = pad_sequences(X, maxlen=MAX_SEQUENCE_LENGTH)\n",
    "print('Shape of data tensor:', X.shape)"
   ]
  },
  {
   "cell_type": "code",
   "execution_count": 20,
   "metadata": {
    "colab": {
     "base_uri": "https://localhost:8080/"
    },
    "id": "Fkmg52a9C4q-",
    "outputId": "f3f2caa4-7ee6-405c-f618-ccac48125ab5"
   },
   "outputs": [
    {
     "name": "stdout",
     "output_type": "stream",
     "text": [
      "Shape of label tensor: (42929, 3)\n"
     ]
    }
   ],
   "source": [
    "# convert categorical labels to numbers\n",
    "Y = pd.get_dummies(df_filtered['bias_text']).values\n",
    "print('Shape of label tensor:', Y.shape)"
   ]
  },
  {
   "cell_type": "code",
   "execution_count": 21,
   "metadata": {
    "colab": {
     "base_uri": "https://localhost:8080/"
    },
    "id": "lzg8BiPnDnuL",
    "outputId": "475146a9-f20f-4d02-9530-a1f09643d7a8"
   },
   "outputs": [
    {
     "name": "stdout",
     "output_type": "stream",
     "text": [
      "(38636, 8800) (38636, 3)\n",
      "(4293, 8800) (4293, 3)\n"
     ]
    }
   ],
   "source": [
    "# split data\n",
    "X_train, X_test, Y_train, Y_test = train_test_split(X,Y, test_size = 0.10, random_state = 42)\n",
    "print(X_train.shape,Y_train.shape)\n",
    "print(X_test.shape,Y_test.shape)"
   ]
  },
  {
   "cell_type": "code",
   "execution_count": null,
   "metadata": {
    "colab": {
     "base_uri": "https://localhost:8080/"
    },
    "id": "xOmeCRhREdPy",
    "outputId": "4ec6db7e-3ed7-4e79-a796-468175ec7130"
   },
   "outputs": [
    {
     "name": "stderr",
     "output_type": "stream",
     "text": [
      "2022-12-04 18:57:12.343039: W tensorflow/compiler/xla/stream_executor/platform/default/dso_loader.cc:64] Could not load dynamic library 'libcudart.so.11.0'; dlerror: libcudart.so.11.0: cannot open shared object file: No such file or directory\n",
      "2022-12-04 18:57:12.343106: W tensorflow/compiler/xla/stream_executor/platform/default/dso_loader.cc:64] Could not load dynamic library 'libcublas.so.11'; dlerror: libcublas.so.11: cannot open shared object file: No such file or directory\n",
      "2022-12-04 18:57:12.343142: W tensorflow/compiler/xla/stream_executor/platform/default/dso_loader.cc:64] Could not load dynamic library 'libcublasLt.so.11'; dlerror: libcublasLt.so.11: cannot open shared object file: No such file or directory\n",
      "2022-12-04 18:57:12.347870: W tensorflow/compiler/xla/stream_executor/platform/default/dso_loader.cc:64] Could not load dynamic library 'libcusolver.so.11'; dlerror: libcusolver.so.11: cannot open shared object file: No such file or directory\n",
      "2022-12-04 18:57:12.347916: W tensorflow/compiler/xla/stream_executor/platform/default/dso_loader.cc:64] Could not load dynamic library 'libcusparse.so.11'; dlerror: libcusparse.so.11: cannot open shared object file: No such file or directory\n",
      "2022-12-04 18:57:12.347954: W tensorflow/compiler/xla/stream_executor/platform/default/dso_loader.cc:64] Could not load dynamic library 'libcudnn.so.8'; dlerror: libcudnn.so.8: cannot open shared object file: No such file or directory\n",
      "2022-12-04 18:57:12.347973: W tensorflow/core/common_runtime/gpu/gpu_device.cc:1934] Cannot dlopen some GPU libraries. Please make sure the missing libraries mentioned above are installed properly if you would like to use GPU. Follow the guide at https://www.tensorflow.org/install/gpu for how to download and setup the required libraries for your platform.\n",
      "Skipping registering GPU devices...\n",
      "2022-12-04 18:57:12.348442: I tensorflow/core/platform/cpu_feature_guard.cc:193] This TensorFlow binary is optimized with oneAPI Deep Neural Network Library (oneDNN) to use the following CPU instructions in performance-critical operations:  AVX2 FMA\n",
      "To enable them in other operations, rebuild TensorFlow with the appropriate compiler flags.\n"
     ]
    },
    {
     "name": "stdout",
     "output_type": "stream",
     "text": [
      "Epoch 1/5\n",
      " 51/544 [=>............................] - ETA: 2:18:58 - loss: 1.0723 - accuracy: 0.4216"
     ]
    }
   ],
   "source": [
    "model = Sequential()\n",
    "model.add(Embedding(MAX_NB_WORDS, EMBEDDING_DIM, input_length=X.shape[1]))\n",
    "model.add(SpatialDropout1D(0.2))\n",
    "model.add(Bidirectional(LSTM(100, dropout=0.2, recurrent_dropout=0.2)))\n",
    "model.add(Dense(3, activation='softmax'))\n",
    "model.compile(loss='categorical_crossentropy', optimizer='adam', metrics=['accuracy'])\n",
    "\n",
    "epochs = 5\n",
    "batch_size = 64\n",
    "\n",
    "history = model.fit(X_train, Y_train, epochs=epochs, batch_size=batch_size,validation_split=0.1,callbacks=[EarlyStopping(monitor='val_loss', patience=3, min_delta=0.1)])"
   ]
  },
  {
   "cell_type": "code",
   "execution_count": null,
   "metadata": {},
   "outputs": [],
   "source": [
    "# convert the history.history dict to a pandas DataFrame:     \n",
    "hist_df = pd.DataFrame(history.history) \n",
    "\n",
    "# save to csv:  \n",
    "hist_csv_file = 'history_BLSTM_experiment1.csv'\n",
    "with open(hist_csv_file, mode='w') as f:\n",
    "    hist_df.to_csv(f)"
   ]
  },
  {
   "cell_type": "code",
   "execution_count": null,
   "metadata": {
    "id": "oym2hgyhGVT8"
   },
   "outputs": [],
   "source": [
    "accr = model.evaluate(X_test,Y_test)\n",
    "print('Test set\\n  Loss: {:0.3f}\\n  Accuracy: {:0.3f}'.format(accr[0],accr[1]))\n",
    "f = open(\"result_BLSTM_experiment1.txt\", \"w\")\n",
    "f.write('Test set\\n  Loss: {:0.3f}\\n  Accuracy: {:0.3f}'.format(accr[0],accr[1]))\n",
    "f.close()"
   ]
  },
  {
   "cell_type": "code",
   "execution_count": null,
   "metadata": {
    "id": "tpqQVOcpG1Iz"
   },
   "outputs": [],
   "source": [
    "# plt.title('Loss')\n",
    "# plt.plot(history.history['loss'], label='train')\n",
    "# plt.plot(history.history['val_loss'], label='test')\n",
    "# plt.legend()\n",
    "# plt.show()\n",
    "# plt.savefig('loss_BLSTM_experiment1.png')"
   ]
  },
  {
   "cell_type": "code",
   "execution_count": null,
   "metadata": {
    "id": "p23udze9HVnu"
   },
   "outputs": [],
   "source": [
    "# plt.title('Accuracy')\n",
    "# plt.plot(history.history['acc'], label='train')\n",
    "# plt.plot(history.history['val_acc'], label='test')\n",
    "# plt.legend()\n",
    "# plt.show()\n",
    "# plt.savefig('accurate_BLSTM_experiment1.png')"
   ]
  },
  {
   "cell_type": "markdown",
   "metadata": {
    "id": "7PDUo-ioHZkb"
   },
   "source": [
    "# experiment 2 : random split, remove media source in content"
   ]
  },
  {
   "cell_type": "code",
   "execution_count": null,
   "metadata": {
    "id": "zLftV0HrHz-5"
   },
   "outputs": [],
   "source": [
    "# #news_source is ndarray\n",
    "# def clean_media_source(text):\n",
    "#     text = ' '.join(word for word in text.split() if word not in news_source) # remove media sources from text\n",
    "#     return text\n",
    "# df_filtered['content'] = df_filtered['content'].apply(clean_media_source)"
   ]
  },
  {
   "cell_type": "code",
   "execution_count": null,
   "metadata": {
    "colab": {
     "base_uri": "https://localhost:8080/"
    },
    "id": "mUFzzTSKJ6Kz",
    "outputId": "1d735e64-9e42-41a9-ca27-d81c5a57f6a0"
   },
   "outputs": [],
   "source": [
    "# def unique(list1):\n",
    "#     # insert the list to the set\n",
    "#     list_set = set(list1)\n",
    "#     print(len(list_set))\n",
    "\n",
    "# allStrs = df_filtered['content'].values.tolist()\n",
    "\n",
    "# allStr = []\n",
    "# for str in allStrs:\n",
    "#  allStr += str.split()\n",
    "\n",
    "# unique(allStr)"
   ]
  },
  {
   "cell_type": "code",
   "execution_count": null,
   "metadata": {
    "id": "XSW1djKAJ9gP"
   },
   "outputs": [],
   "source": [
    "# # The maximum number of words to be used. (most frequent)\n",
    "# MAX_NB_WORDS = 689434\n",
    "# # Max number of words in each complaint.\n",
    "# MAX_SEQUENCE_LENGTH = 8800\n",
    "# # This is fixed.\n",
    "# EMBEDDING_DIM = 100\n",
    "# tokenizer = Tokenizer(num_words=MAX_NB_WORDS, filters='!\"#$%&()*+,-./:;<=>?@[\\]^_`{|}~', lower=True)\n",
    "# tokenizer.fit_on_texts(df_filtered['content'].values)\n",
    "# word_index = tokenizer.word_index\n",
    "# print('Found %s unique tokens.' % len(word_index))\n",
    "# X = tokenizer.texts_to_sequences(df_filtered['content'].values)\n",
    "# X = pad_sequences(X, maxlen=MAX_SEQUENCE_LENGTH)\n",
    "# print('Shape of data tensor:', X.shape)\n",
    "# # convert categorical labels to numbers\n",
    "# Y = pd.get_dummies(df_filtered['bias_text']).values\n",
    "# print('Shape of label tensor:', Y.shape)\n",
    "# # split data\n",
    "# X_train, X_test, Y_train, Y_test = train_test_split(X,Y, test_size = 0.10, random_state = 42)\n",
    "# print(X_train.shape,Y_train.shape)\n",
    "# print(X_test.shape,Y_test.shape)"
   ]
  },
  {
   "cell_type": "code",
   "execution_count": null,
   "metadata": {
    "id": "dCqhWUeGKFxS"
   },
   "outputs": [],
   "source": [
    "# model = Sequential()\n",
    "# model.add(Embedding(MAX_NB_WORDS, EMBEDDING_DIM, input_length=X.shape[1]))\n",
    "# model.add(SpatialDropout1D(0.2))\n",
    "# model.add(LSTM(100, dropout=0.2, recurrent_dropout=0.2))\n",
    "# model.add(Dense(3, activation='softmax'))\n",
    "# model.compile(loss='categorical_crossentropy', optimizer='adam', metrics=['accuracy'])\n",
    "\n",
    "# epochs = 5\n",
    "# batch_size = 64\n",
    "\n",
    "# history = model.fit(X_train, Y_train, epochs=epochs, batch_size=batch_size,validation_split=0.1,callbacks=[EarlyStopping(monitor='val_loss', patience=3, min_delta=0.1)])"
   ]
  },
  {
   "cell_type": "code",
   "execution_count": null,
   "metadata": {
    "id": "0rs1uFfwKL9U"
   },
   "outputs": [],
   "source": [
    "# accr = model.evaluate(X_test,Y_test)\n",
    "# print('Test set\\n  Loss: {:0.3f}\\n  Accuracy: {:0.3f}'.format(accr[0],accr[1]))\n",
    "# f = open(\"result_LSTM_experiment2.txt\", \"w\")\n",
    "# f.write('Test set\\n  Loss: {:0.3f}\\n  Accuracy: {:0.3f}'.format(accr[0],accr[1]))\n",
    "# f.close()"
   ]
  },
  {
   "cell_type": "code",
   "execution_count": null,
   "metadata": {
    "id": "vvTWJgDGKNy5"
   },
   "outputs": [],
   "source": [
    "# plt.title('Loss')\n",
    "# plt.plot(history.history['loss'], label='train')\n",
    "# plt.plot(history.history['val_loss'], label='test')\n",
    "# plt.legend()\n",
    "# plt.show()\n",
    "# plt.savefig('loss_LSTM_experiment2.png')"
   ]
  },
  {
   "cell_type": "code",
   "execution_count": null,
   "metadata": {
    "id": "Te0Ryn0KKP0h"
   },
   "outputs": [],
   "source": [
    "# plt.title('Accuracy')\n",
    "# plt.plot(history.history['acc'], label='train')\n",
    "# plt.plot(history.history['val_acc'], label='test')\n",
    "# plt.legend()\n",
    "# plt.show()\n",
    "# plt.savefig('accurate_LSTM_experiment2.png')"
   ]
  }
 ],
 "metadata": {
  "accelerator": "GPU",
  "colab": {
   "provenance": []
  },
  "gpuClass": "standard",
  "kernelspec": {
   "display_name": "Python 3 (ipykernel)",
   "language": "python",
   "name": "python3"
  },
  "language_info": {
   "codemirror_mode": {
    "name": "ipython",
    "version": 3
   },
   "file_extension": ".py",
   "mimetype": "text/x-python",
   "name": "python",
   "nbconvert_exporter": "python",
   "pygments_lexer": "ipython3",
   "version": "3.9.13"
  }
 },
 "nbformat": 4,
 "nbformat_minor": 1
}
